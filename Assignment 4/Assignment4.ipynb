{
  "cells": [
    {
      "cell_type": "markdown",
      "id": "cb5ec893",
      "metadata": {
        "id": "cb5ec893"
      },
      "source": [
        "## 1. Anomaly Detection (30 points)\n",
        "\n",
        "**Part A (5 Points):**\n",
        "\n",
        "By dividing a data set into quartiles, IQR is used to measure variability. The data is sorted ascending and divided into four equal parts. Q1, Q2, Q3, also known as the first, second, and third quartiles, are the values that separate the four equal parts.\n",
        "\n",
        "Use the following data points to calculate outliers in the data\n",
        "data = [11, 3, 8, 10, 12, 5, 1, 50]\n",
        "\n",
        "Using a box plot, show the outliers in the box plot.\n",
        "\n",
        "**Part B (5 points):**\n",
        "\n",
        "Using the formula to calculate the Z-score detect outliers in the following data points.\n",
        "data = [6, 3, 9, 6, 9, 20, 3, 10, 3, 50, 6, 5, 9, 9, 3, 6, 3]\n",
        "Using a box plot, show the outliers in the box plot.\n",
        "\n",
        "**Part C (20 points):**\n",
        "\n",
        "Use the dataset attached for identifying the outliers using Z-score.\n",
        "\n",
        "Steps to follow in this question\n",
        "\n",
        "- Step1(5 points): Show outliers using histograms and scatterplots. Then\n",
        "\n",
        "- Step2(7 points): Identify the outliers using Z-score for SalePrice column by using atleast 4 different thresholds.\n",
        "\n",
        "- Step3(4 points): Print the number of outliers removed.\n",
        "\n",
        "- Step4(4 points): Use LocalOutlierFactor as discussed in the class to plot the outliers from SalePrice and LotArea columns."
      ]
    },
    {
      "cell_type": "markdown",
      "source": [
        "## Ans 1. Part A."
      ],
      "metadata": {
        "id": "sE2usTH1-a1D"
      },
      "id": "sE2usTH1-a1D"
    },
    {
      "cell_type": "markdown",
      "source": [
        "Importing libraries"
      ],
      "metadata": {
        "id": "tR8Mcqlxkac5"
      },
      "id": "tR8Mcqlxkac5"
    },
    {
      "cell_type": "code",
      "source": [
        "import pandas as pd\n",
        "import numpy as np\n",
        "import matplotlib.pyplot as plt\n",
        "import seaborn as sns\n",
        "plt.style.use('seaborn')\n",
        "from numpy import quantile, where, random\n",
        "import scipy\n",
        "from sklearn.preprocessing import StandardScaler\n",
        "from numpy import linalg as LA\n",
        "from sklearn.decomposition import PCA\n",
        "from math import sqrt, pi, exp, log\n",
        "from numpy.random.mtrand import uniform\n",
        "from sklearn.metrics import confusion_matrix\n",
        "from sklearn.linear_model import LogisticRegression\n",
        "from sklearn.model_selection import train_test_split\n",
        "from sklearn.metrics import precision_score, recall_score, f1_score, accuracy_score"
      ],
      "metadata": {
        "colab": {
          "base_uri": "https://localhost:8080/"
        },
        "id": "SQKxTMhnkXGC",
        "outputId": "dffccc88-03e9-4cb9-af98-4837d2104f81"
      },
      "id": "SQKxTMhnkXGC",
      "execution_count": 1,
      "outputs": [
        {
          "output_type": "stream",
          "name": "stderr",
          "text": [
            "<ipython-input-1-c5471050e6c7>:5: MatplotlibDeprecationWarning: The seaborn styles shipped by Matplotlib are deprecated since 3.6, as they no longer correspond to the styles shipped by seaborn. However, they will remain available as 'seaborn-v0_8-<style>'. Alternatively, directly use the seaborn API instead.\n",
            "  plt.style.use('seaborn')\n"
          ]
        }
      ]
    },
    {
      "cell_type": "markdown",
      "source": [
        "Data"
      ],
      "metadata": {
        "id": "kr93yKYNkmXp"
      },
      "id": "kr93yKYNkmXp"
    },
    {
      "cell_type": "code",
      "source": [
        "data = [11, 3, 8, 10, 12, 5, 1, 50]"
      ],
      "metadata": {
        "id": "NzAbrIg-k54U"
      },
      "id": "NzAbrIg-k54U",
      "execution_count": 3,
      "outputs": []
    },
    {
      "cell_type": "markdown",
      "source": [
        "Sort data in ascending order"
      ],
      "metadata": {
        "id": "lH4XmjLXknsA"
      },
      "id": "lH4XmjLXknsA"
    },
    {
      "cell_type": "code",
      "source": [
        "data = sorted(data)\n",
        "data"
      ],
      "metadata": {
        "colab": {
          "base_uri": "https://localhost:8080/"
        },
        "id": "nL0HNANyg9HT",
        "outputId": "2d8c3d52-f84a-43a2-9465-6ac51472feed"
      },
      "id": "nL0HNANyg9HT",
      "execution_count": 4,
      "outputs": [
        {
          "output_type": "execute_result",
          "data": {
            "text/plain": [
              "[1, 3, 5, 8, 10, 11, 12, 50]"
            ]
          },
          "metadata": {},
          "execution_count": 4
        }
      ]
    },
    {
      "cell_type": "markdown",
      "source": [
        "Length of the data"
      ],
      "metadata": {
        "id": "5l6dYAf4kuYb"
      },
      "id": "5l6dYAf4kuYb"
    },
    {
      "cell_type": "code",
      "source": [
        "n = len(data)"
      ],
      "metadata": {
        "id": "Yo584d0Vg9KX"
      },
      "id": "Yo584d0Vg9KX",
      "execution_count": 5,
      "outputs": []
    },
    {
      "cell_type": "markdown",
      "source": [
        "Calculating the Q1, Q2 and Q3"
      ],
      "metadata": {
        "id": "VomnjM_XlVvR"
      },
      "id": "VomnjM_XlVvR"
    },
    {
      "cell_type": "code",
      "source": [
        "Q1 = (n) * (1/4)\n",
        "Q2 = (n) * (2/4)\n",
        "Q3 = (n) * (3/4)"
      ],
      "metadata": {
        "id": "nTLvqfYChiWo"
      },
      "id": "nTLvqfYChiWo",
      "execution_count": 6,
      "outputs": []
    },
    {
      "cell_type": "markdown",
      "source": [
        "Dividing the data into first, second, third and fourth quartile using Q1, Q2 and Q3"
      ],
      "metadata": {
        "id": "mp-FBatGlcpw"
      },
      "id": "mp-FBatGlcpw"
    },
    {
      "cell_type": "code",
      "source": [
        "Q1 = int(Q1)\n",
        "data[:Q1]"
      ],
      "metadata": {
        "colab": {
          "base_uri": "https://localhost:8080/"
        },
        "id": "WWQfpxBnhibx",
        "outputId": "d9635443-8889-4708-997d-49033c5b8257"
      },
      "id": "WWQfpxBnhibx",
      "execution_count": 7,
      "outputs": [
        {
          "output_type": "execute_result",
          "data": {
            "text/plain": [
              "[1, 3]"
            ]
          },
          "metadata": {},
          "execution_count": 7
        }
      ]
    },
    {
      "cell_type": "code",
      "source": [
        "Q2 = int(Q2)\n",
        "data[Q1:Q2]"
      ],
      "metadata": {
        "colab": {
          "base_uri": "https://localhost:8080/"
        },
        "id": "ByBYRZMih-t9",
        "outputId": "28e95767-627a-4e13-b37c-4eb604dfeea1"
      },
      "id": "ByBYRZMih-t9",
      "execution_count": 8,
      "outputs": [
        {
          "output_type": "execute_result",
          "data": {
            "text/plain": [
              "[5, 8]"
            ]
          },
          "metadata": {},
          "execution_count": 8
        }
      ]
    },
    {
      "cell_type": "code",
      "source": [
        "Q3 = int(Q3)\n",
        "data[Q2:Q3]"
      ],
      "metadata": {
        "colab": {
          "base_uri": "https://localhost:8080/"
        },
        "id": "mgydGv70h-w0",
        "outputId": "411ff66a-a7cd-4488-f1b3-21528d3bf825"
      },
      "id": "mgydGv70h-w0",
      "execution_count": 9,
      "outputs": [
        {
          "output_type": "execute_result",
          "data": {
            "text/plain": [
              "[10, 11]"
            ]
          },
          "metadata": {},
          "execution_count": 9
        }
      ]
    },
    {
      "cell_type": "code",
      "source": [
        "data[Q3:]"
      ],
      "metadata": {
        "colab": {
          "base_uri": "https://localhost:8080/"
        },
        "id": "SzkCvdwaikE3",
        "outputId": "7e667377-fc27-4cc7-a63b-8d8cb0d31581"
      },
      "id": "SzkCvdwaikE3",
      "execution_count": 10,
      "outputs": [
        {
          "output_type": "execute_result",
          "data": {
            "text/plain": [
              "[12, 50]"
            ]
          },
          "metadata": {},
          "execution_count": 10
        }
      ]
    },
    {
      "cell_type": "markdown",
      "source": [
        "IQR = Q3 - Q1"
      ],
      "metadata": {
        "id": "Q8jIjLqWlR-5"
      },
      "id": "Q8jIjLqWlR-5"
    },
    {
      "cell_type": "code",
      "source": [
        "IQR = Q3 - Q1\n",
        "IQR"
      ],
      "metadata": {
        "colab": {
          "base_uri": "https://localhost:8080/"
        },
        "id": "aEbXGr5Cjpwe",
        "outputId": "f0d549e0-7fdf-47bb-9d85-14c76fa63e23"
      },
      "id": "aEbXGr5Cjpwe",
      "execution_count": 11,
      "outputs": [
        {
          "output_type": "execute_result",
          "data": {
            "text/plain": [
              "4"
            ]
          },
          "metadata": {},
          "execution_count": 11
        }
      ]
    },
    {
      "cell_type": "markdown",
      "source": [
        "Upper fence = Q3 + ( 1.5  *  IQR )"
      ],
      "metadata": {
        "id": "fVzLpjt3lJR4"
      },
      "id": "fVzLpjt3lJR4"
    },
    {
      "cell_type": "code",
      "source": [
        "upperfence = Q3 + (1.5 * IQR)\n",
        "upperfence"
      ],
      "metadata": {
        "colab": {
          "base_uri": "https://localhost:8080/"
        },
        "id": "vusz2S9EjpzE",
        "outputId": "dbe939de-b891-4c7b-b3b2-a9cb6410a78f"
      },
      "id": "vusz2S9EjpzE",
      "execution_count": 12,
      "outputs": [
        {
          "output_type": "execute_result",
          "data": {
            "text/plain": [
              "12.0"
            ]
          },
          "metadata": {},
          "execution_count": 12
        }
      ]
    },
    {
      "cell_type": "markdown",
      "source": [
        "Lower fence = Q1 - ( 1.5  *  IQR )"
      ],
      "metadata": {
        "id": "OduAoBr1lFSc"
      },
      "id": "OduAoBr1lFSc"
    },
    {
      "cell_type": "code",
      "source": [
        "lowerfence = Q1 - (1.5 * IQR)\n",
        "lowerfence"
      ],
      "metadata": {
        "colab": {
          "base_uri": "https://localhost:8080/"
        },
        "id": "K9MnTjzBjp3g",
        "outputId": "2929f8ac-4bba-4655-dc2f-064bf86e31e7"
      },
      "id": "K9MnTjzBjp3g",
      "execution_count": 13,
      "outputs": [
        {
          "output_type": "execute_result",
          "data": {
            "text/plain": [
              "-4.0"
            ]
          },
          "metadata": {},
          "execution_count": 13
        }
      ]
    },
    {
      "cell_type": "markdown",
      "source": [
        "Detecting the outliers which lie outside the Inter Quartile Range\n",
        "\n",
        "- above the upper fence\n",
        "- below the lower fence"
      ],
      "metadata": {
        "id": "2mKneA0Xk3M-"
      },
      "id": "2mKneA0Xk3M-"
    },
    {
      "cell_type": "code",
      "source": [
        "outliers = []\n",
        "for i in data:\n",
        "  if i > int(upperfence) or i < int(lowerfence):\n",
        "    outliers.append(i)\n",
        "outliers"
      ],
      "metadata": {
        "colab": {
          "base_uri": "https://localhost:8080/"
        },
        "id": "VosIhWHhj9Ul",
        "outputId": "1d8f8135-44c5-4f59-a4da-97dbc4776a22"
      },
      "id": "VosIhWHhj9Ul",
      "execution_count": 14,
      "outputs": [
        {
          "output_type": "execute_result",
          "data": {
            "text/plain": [
              "[50]"
            ]
          },
          "metadata": {},
          "execution_count": 14
        }
      ]
    },
    {
      "cell_type": "markdown",
      "source": [
        "Box plot to check the outliers"
      ],
      "metadata": {
        "id": "cGmqgoeMkyft"
      },
      "id": "cGmqgoeMkyft"
    },
    {
      "cell_type": "code",
      "source": [
        "figure = plt.figure(figsize =(5, 4))\n",
        "plt.boxplot(data)\n",
        "plt.show()"
      ],
      "metadata": {
        "colab": {
          "base_uri": "https://localhost:8080/",
          "height": 368
        },
        "id": "Uo7Vn2lTkU7P",
        "outputId": "b1eb510a-1fb8-4c24-dd44-f79149e70d86"
      },
      "id": "Uo7Vn2lTkU7P",
      "execution_count": 15,
      "outputs": [
        {
          "output_type": "display_data",
          "data": {
            "text/plain": [
              "<Figure size 500x400 with 1 Axes>"
            ],
            "image/png": "[encoded data removed]"
          },
          "metadata": {}
        }
      ]
    },
    {
      "cell_type": "markdown",
      "source": [
        "## Part B."
      ],
      "metadata": {
        "id": "yzGslyNYjhAf"
      },
      "id": "yzGslyNYjhAf"
    },
    {
      "cell_type": "markdown",
      "source": [
        "Data"
      ],
      "metadata": {
        "id": "m0JV7-2sxmeT"
      },
      "id": "m0JV7-2sxmeT"
    },
    {
      "cell_type": "code",
      "source": [
        "data = [6, 3, 9, 6, 9, 20, 3, 10, 3, 50, 6, 5, 9, 9, 3, 6, 3]"
      ],
      "metadata": {
        "id": "f8UFXuDww-fB"
      },
      "id": "f8UFXuDww-fB",
      "execution_count": 16,
      "outputs": []
    },
    {
      "cell_type": "markdown",
      "source": [
        "Plotting the histogram of the data"
      ],
      "metadata": {
        "id": "blr672euxoAx"
      },
      "id": "blr672euxoAx"
    },
    {
      "cell_type": "code",
      "source": [
        "fig = plt.figure(figsize =(5, 4))\n",
        "plt.hist(data)"
      ],
      "metadata": {
        "colab": {
          "base_uri": "https://localhost:8080/",
          "height": 422
        },
        "id": "b5g-3UWGxP15",
        "outputId": "b67681a8-a412-4538-d0e2-34704f6792c7"
      },
      "id": "b5g-3UWGxP15",
      "execution_count": 17,
      "outputs": [
        {
          "output_type": "execute_result",
          "data": {
            "text/plain": [
              "(array([10.,  5.,  0.,  1.,  0.,  0.,  0.,  0.,  0.,  1.]),\n",
              " array([ 3. ,  7.7, 12.4, 17.1, 21.8, 26.5, 31.2, 35.9, 40.6, 45.3, 50. ]),\n",
              " <BarContainer object of 10 artists>)"
            ]
          },
          "metadata": {},
          "execution_count": 17
        },
        {
          "output_type": "display_data",
          "data": {
            "text/plain": [
              "<Figure size 500x400 with 1 Axes>"
            ],
            "image/png": "[encoded data removed]"
          },
          "metadata": {}
        }
      ]
    },
    {
      "cell_type": "markdown",
      "source": [
        "The formula for Z score is:\n",
        "\n",
        "Z = ( x - μ ) /  σ\n",
        "\n",
        "where μ is the mean and σ is the standard deviation"
      ],
      "metadata": {
        "id": "ytT9SfDOj7MQ"
      },
      "id": "ytT9SfDOj7MQ"
    },
    {
      "cell_type": "markdown",
      "source": [
        "Mean = ∑ xi / N"
      ],
      "metadata": {
        "id": "HitI-i_4naFz"
      },
      "id": "HitI-i_4naFz"
    },
    {
      "cell_type": "code",
      "source": [
        "mean = sum(data) / len(data)\n",
        "mean"
      ],
      "metadata": {
        "colab": {
          "base_uri": "https://localhost:8080/"
        },
        "id": "jALPYrzWmAeA",
        "outputId": "c6e4e417-dc84-476f-af44-b4b8f6ebd2f3"
      },
      "id": "jALPYrzWmAeA",
      "execution_count": 18,
      "outputs": [
        {
          "output_type": "execute_result",
          "data": {
            "text/plain": [
              "9.411764705882353"
            ]
          },
          "metadata": {},
          "execution_count": 18
        }
      ]
    },
    {
      "cell_type": "markdown",
      "source": [
        "\n",
        "Standard Deviation = √ ( ∑ ( xi - μ /  σ ) ) / N - 1"
      ],
      "metadata": {
        "id": "WxkRUzO0oIOg"
      },
      "id": "WxkRUzO0oIOg"
    },
    {
      "cell_type": "code",
      "source": [
        "differences = []\n",
        "for i in data:\n",
        "  differences.append((i - mean)**2)\n",
        "sum_of_differences = sum(differences)\n",
        "std_deviation = (sum_of_differences / len(data) - 1) ** 0.5\n",
        "std_deviation"
      ],
      "metadata": {
        "colab": {
          "base_uri": "https://localhost:8080/"
        },
        "id": "sYXU2LT4mBh8",
        "outputId": "9f9604f8-7227-4322-9d49-adec3ba45d4e"
      },
      "id": "sYXU2LT4mBh8",
      "execution_count": 19,
      "outputs": [
        {
          "output_type": "execute_result",
          "data": {
            "text/plain": [
              "10.887439192938382"
            ]
          },
          "metadata": {},
          "execution_count": 19
        }
      ]
    },
    {
      "cell_type": "code",
      "source": [
        "outliers = []\n",
        "for i in data:\n",
        "  zscore = (i - mean) / std_deviation\n",
        "  if zscore > 3 or zscore < -3:\n",
        "    outliers.append(i)\n",
        "\n",
        "outliers"
      ],
      "metadata": {
        "colab": {
          "base_uri": "https://localhost:8080/"
        },
        "id": "E0568lRYmBlM",
        "outputId": "debffa35-340a-4ace-9dd9-006b42717d99"
      },
      "id": "E0568lRYmBlM",
      "execution_count": 20,
      "outputs": [
        {
          "output_type": "execute_result",
          "data": {
            "text/plain": [
              "[50]"
            ]
          },
          "metadata": {},
          "execution_count": 20
        }
      ]
    },
    {
      "cell_type": "code",
      "source": [
        "figure = plt.figure(figsize =(5, 4))\n",
        "plt.boxplot(data)\n",
        "plt.show()"
      ],
      "metadata": {
        "id": "HYWoOzRTmBn0",
        "colab": {
          "base_uri": "https://localhost:8080/",
          "height": 368
        },
        "outputId": "2bd76d12-485d-4469-b2cd-ad8b306e99d7"
      },
      "id": "HYWoOzRTmBn0",
      "execution_count": 21,
      "outputs": [
        {
          "output_type": "display_data",
          "data": {
            "text/plain": [
              "<Figure size 500x400 with 1 Axes>"
            ],
            "image/png": "[encoded data removed]"
          },
          "metadata": {}
        }
      ]
    },
    {
      "cell_type": "markdown",
      "source": [
        "## Part C."
      ],
      "metadata": {
        "id": "mP7GbUDTjEkG"
      },
      "id": "mP7GbUDTjEkG"
    },
    {
      "cell_type": "markdown",
      "source": [
        "Step 1"
      ],
      "metadata": {
        "id": "2kHkFjip6uTV"
      },
      "id": "2kHkFjip6uTV"
    },
    {
      "cell_type": "markdown",
      "source": [
        "Importing data"
      ],
      "metadata": {
        "id": "V-S-TGOOoVT5"
      },
      "id": "V-S-TGOOoVT5"
    },
    {
      "cell_type": "code",
      "source": [
        "data = \"/content/Q1_dataset.csv\""
      ],
      "metadata": {
        "id": "wCLLHrs8mBqs"
      },
      "id": "wCLLHrs8mBqs",
      "execution_count": 22,
      "outputs": []
    },
    {
      "cell_type": "code",
      "source": [
        "data1 = pd.read_csv(data)\n",
        "data1.head()"
      ],
      "metadata": {
        "id": "sOasZ3CrmBtq",
        "colab": {
          "base_uri": "https://localhost:8080/",
          "height": 300
        },
        "outputId": "1c08389f-325a-42f3-b3f0-f8118c69c84b"
      },
      "id": "sOasZ3CrmBtq",
      "execution_count": 24,
      "outputs": [
        {
          "output_type": "execute_result",
          "data": {
            "text/plain": [
              "   Id  MSSubClass MSZoning  LotFrontage  LotArea Street Alley LotShape  \\\n",
              "0   1          60       RL         65.0     8450   Pave   NaN      Reg   \n",
              "1   2          20       RL         80.0     9600   Pave   NaN      Reg   \n",
              "2   3          60       RL         68.0    11250   Pave   NaN      IR1   \n",
              "3   4          70       RL         60.0     9550   Pave   NaN      IR1   \n",
              "4   5          60       RL         84.0    14260   Pave   NaN      IR1   \n",
              "\n",
              "  LandContour Utilities  ... PoolArea PoolQC Fence MiscFeature MiscVal MoSold  \\\n",
              "0         Lvl    AllPub  ...        0    NaN   NaN         NaN       0      2   \n",
              "1         Lvl    AllPub  ...        0    NaN   NaN         NaN       0      5   \n",
              "2         Lvl    AllPub  ...        0    NaN   NaN         NaN       0      9   \n",
              "3         Lvl    AllPub  ...        0    NaN   NaN         NaN       0      2   \n",
              "4         Lvl    AllPub  ...        0    NaN   NaN         NaN       0     12   \n",
              "\n",
              "  YrSold  SaleType  SaleCondition  SalePrice  \n",
              "0   2008        WD         Normal     208500  \n",
              "1   2007        WD         Normal     181500  \n",
              "2   2008        WD         Normal     223500  \n",
              "3   2006        WD        Abnorml     140000  \n",
              "4   2008        WD         Normal     250000  \n",
              "\n",
              "[5 rows x 81 columns]"
            ],
            "text/html": [
              "\n",
              "\n",
              "  <div id=\"df-99675851-a332-4b5a-b5dd-d3db2d41d02e\">\n",
              "    <div class=\"colab-df-container\">\n",
              "      <div>\n",
              "<style scoped>\n",
              "    .dataframe tbody tr th:only-of-type {\n",
              "        vertical-align: middle;\n",
              "    }\n",
              "\n",
              "    .dataframe tbody tr th {\n",
              "        vertical-align: top;\n",
              "    }\n",
              "\n",
              "    .dataframe thead th {\n",
              "        text-align: right;\n",
              "    }\n",
              "</style>\n",
              "<table border=\"1\" class=\"dataframe\">\n",
              "  <thead>\n",
              "    <tr style=\"text-align: right;\">\n",
              "      <th></th>\n",
              "      <th>Id</th>\n",
              "      <th>MSSubClass</th>\n",
              "      <th>MSZoning</th>\n",
              "      <th>LotFrontage</th>\n",
              "      <th>LotArea</th>\n",
              "      <th>Street</th>\n",
              "      <th>Alley</th>\n",
              "      <th>LotShape</th>\n",
              "      <th>LandContour</th>\n",
              "      <th>Utilities</th>\n",
              "      <th>...</th>\n",
              "      <th>PoolArea</th>\n",
              "      <th>PoolQC</th>\n",
              "      <th>Fence</th>\n",
              "      <th>MiscFeature</th>\n",
              "      <th>MiscVal</th>\n",
              "      <th>MoSold</th>\n",
              "      <th>YrSold</th>\n",
              "      <th>SaleType</th>\n",
              "      <th>SaleCondition</th>\n",
              "      <th>SalePrice</th>\n",
              "    </tr>\n",
              "  </thead>\n",
              "  <tbody>\n",
              "    <tr>\n",
              "      <th>0</th>\n",
              "      <td>1</td>\n",
              "      <td>60</td>\n",
              "      <td>RL</td>\n",
              "      <td>65.0</td>\n",
              "      <td>8450</td>\n",
              "      <td>Pave</td>\n",
              "      <td>NaN</td>\n",
              "      <td>Reg</td>\n",
              "      <td>Lvl</td>\n",
              "      <td>AllPub</td>\n",
              "      <td>...</td>\n",
              "      <td>0</td>\n",
              "      <td>NaN</td>\n",
              "      <td>NaN</td>\n",
              "      <td>NaN</td>\n",
              "      <td>0</td>\n",
              "      <td>2</td>\n",
              "      <td>2008</td>\n",
              "      <td>WD</td>\n",
              "      <td>Normal</td>\n",
              "      <td>208500</td>\n",
              "    </tr>\n",
              "    <tr>\n",
              "      <th>1</th>\n",
              "      <td>2</td>\n",
              "      <td>20</td>\n",
              "      <td>RL</td>\n",
              "      <td>80.0</td>\n",
              "      <td>9600</td>\n",
              "      <td>Pave</td>\n",
              "      <td>NaN</td>\n",
              "      <td>Reg</td>\n",
              "      <td>Lvl</td>\n",
              "      <td>AllPub</td>\n",
              "      <td>...</td>\n",
              "      <td>0</td>\n",
              "      <td>NaN</td>\n",
              "      <td>NaN</td>\n",
              "      <td>NaN</td>\n",
              "      <td>0</td>\n",
              "      <td>5</td>\n",
              "      <td>2007</td>\n",
              "      <td>WD</td>\n",
              "      <td>Normal</td>\n",
              "      <td>181500</td>\n",
              "    </tr>\n",
              "    <tr>\n",
              "      <th>2</th>\n",
              "      <td>3</td>\n",
              "      <td>60</td>\n",
              "      <td>RL</td>\n",
              "      <td>68.0</td>\n",
              "      <td>11250</td>\n",
              "      <td>Pave</td>\n",
              "      <td>NaN</td>\n",
              "      <td>IR1</td>\n",
              "      <td>Lvl</td>\n",
              "      <td>AllPub</td>\n",
              "      <td>...</td>\n",
              "      <td>0</td>\n",
              "      <td>NaN</td>\n",
              "      <td>NaN</td>\n",
              "      <td>NaN</td>\n",
              "      <td>0</td>\n",
              "      <td>9</td>\n",
              "      <td>2008</td>\n",
              "      <td>WD</td>\n",
              "      <td>Normal</td>\n",
              "      <td>223500</td>\n",
              "    </tr>\n",
              "    <tr>\n",
              "      <th>3</th>\n",
              "      <td>4</td>\n",
              "      <td>70</td>\n",
              "      <td>RL</td>\n",
              "      <td>60.0</td>\n",
              "      <td>9550</td>\n",
              "      <td>Pave</td>\n",
              "      <td>NaN</td>\n",
              "      <td>IR1</td>\n",
              "      <td>Lvl</td>\n",
              "      <td>AllPub</td>\n",
              "      <td>...</td>\n",
              "      <td>0</td>\n",
              "      <td>NaN</td>\n",
              "      <td>NaN</td>\n",
              "      <td>NaN</td>\n",
              "      <td>0</td>\n",
              "      <td>2</td>\n",
              "      <td>2006</td>\n",
              "      <td>WD</td>\n",
              "      <td>Abnorml</td>\n",
              "      <td>140000</td>\n",
              "    </tr>\n",
              "    <tr>\n",
              "      <th>4</th>\n",
              "      <td>5</td>\n",
              "      <td>60</td>\n",
              "      <td>RL</td>\n",
              "      <td>84.0</td>\n",
              "      <td>14260</td>\n",
              "      <td>Pave</td>\n",
              "      <td>NaN</td>\n",
              "      <td>IR1</td>\n",
              "      <td>Lvl</td>\n",
              "      <td>AllPub</td>\n",
              "      <td>...</td>\n",
              "      <td>0</td>\n",
              "      <td>NaN</td>\n",
              "      <td>NaN</td>\n",
              "      <td>NaN</td>\n",
              "      <td>0</td>\n",
              "      <td>12</td>\n",
              "      <td>2008</td>\n",
              "      <td>WD</td>\n",
              "      <td>Normal</td>\n",
              "      <td>250000</td>\n",
              "    </tr>\n",
              "  </tbody>\n",
              "</table>\n",
              "<p>5 rows × 81 columns</p>\n",
              "</div>\n",
              "      <button class=\"colab-df-convert\" onclick=\"convertToInteractive('df-99675851-a332-4b5a-b5dd-d3db2d41d02e')\"\n",
              "              title=\"Convert this dataframe to an interactive table.\"\n",
              "              style=\"display:none;\">\n",
              "\n",
              "  <svg xmlns=\"http://www.w3.org/2000/svg\" height=\"24px\"viewBox=\"0 0 24 24\"\n",
              "       width=\"24px\">\n",
              "    <path d=\"M0 0h24v24H0V0z\" fill=\"none\"/>\n",
              "    <path d=\"M18.56 5.44l.94 2.06.94-2.06 2.06-.94-2.06-.94-.94-2.06-.94 2.06-2.06.94zm-11 1L8.5 8.5l.94-2.06 2.06-.94-2.06-.94L8.5 2.5l-.94 2.06-2.06.94zm10 10l.94 2.06.94-2.06 2.06-.94-2.06-.94-.94-2.06-.94 2.06-2.06.94z\"/><path d=\"M17.41 7.96l-1.37-1.37c-.4-.4-.92-.59-1.43-.59-.52 0-1.04.2-1.43.59L10.3 9.45l-7.72 7.72c-.78.78-.78 2.05 0 2.83L4 21.41c.39.39.9.59 1.41.59.51 0 1.02-.2 1.41-.59l7.78-7.78 2.81-2.81c.8-.78.8-2.07 0-2.86zM5.41 20L4 18.59l7.72-7.72 1.47 1.35L5.41 20z\"/>\n",
              "  </svg>\n",
              "      </button>\n",
              "\n",
              "\n",
              "\n",
              "    <div id=\"df-93aa6e45-d7a2-481c-95ee-9d386e4991af\">\n",
              "      <button class=\"colab-df-quickchart\" onclick=\"quickchart('df-93aa6e45-d7a2-481c-95ee-9d386e4991af')\"\n",
              "              title=\"Suggest charts.\"\n",
              "              style=\"display:none;\">\n",
              "\n",
              "<svg xmlns=\"http://www.w3.org/2000/svg\" height=\"24px\"viewBox=\"0 0 24 24\"\n",
              "     width=\"24px\">\n",
              "    <g>\n",
              "        <path d=\"M19 3H5c-1.1 0-2 .9-2 2v14c0 1.1.9 2 2 2h14c1.1 0 2-.9 2-2V5c0-1.1-.9-2-2-2zM9 17H7v-7h2v7zm4 0h-2V7h2v10zm4 0h-2v-4h2v4z\"/>\n",
              "    </g>\n",
              "</svg>\n",
              "      </button>\n",
              "    </div>\n",
              "\n",
              "<style>\n",
              "  .colab-df-quickchart {\n",
              "    background-color: #E8F0FE;\n",
              "    border: none;\n",
              "    border-radius: 50%;\n",
              "    cursor: pointer;\n",
              "    display: none;\n",
              "    fill: #1967D2;\n",
              "    height: 32px;\n",
              "    padding: 0 0 0 0;\n",
              "    width: 32px;\n",
              "  }\n",
              "\n",
              "  .colab-df-quickchart:hover {\n",
              "    background-color: #E2EBFA;\n",
              "    box-shadow: 0px 1px 2px rgba(60, 64, 67, 0.3), 0px 1px 3px 1px rgba(60, 64, 67, 0.15);\n",
              "    fill: #174EA6;\n",
              "  }\n",
              "\n",
              "  [theme=dark] .colab-df-quickchart {\n",
              "    background-color: #3B4455;\n",
              "    fill: #D2E3FC;\n",
              "  }\n",
              "\n",
              "  [theme=dark] .colab-df-quickchart:hover {\n",
              "    background-color: #434B5C;\n",
              "    box-shadow: 0px 1px 3px 1px rgba(0, 0, 0, 0.15);\n",
              "    filter: drop-shadow(0px 1px 2px rgba(0, 0, 0, 0.3));\n",
              "    fill: #FFFFFF;\n",
              "  }\n",
              "</style>\n",
              "\n",
              "    <script>\n",
              "      async function quickchart(key) {\n",
              "        const containerElement = document.querySelector('#' + key);\n",
              "        const charts = await google.colab.kernel.invokeFunction(\n",
              "            'suggestCharts', [key], {});\n",
              "      }\n",
              "    </script>\n",
              "\n",
              "      <script>\n",
              "\n",
              "function displayQuickchartButton(domScope) {\n",
              "  let quickchartButtonEl =\n",
              "    domScope.querySelector('#df-93aa6e45-d7a2-481c-95ee-9d386e4991af button.colab-df-quickchart');\n",
              "  quickchartButtonEl.style.display =\n",
              "    google.colab.kernel.accessAllowed ? 'block' : 'none';\n",
              "}\n",
              "\n",
              "        displayQuickchartButton(document);\n",
              "      </script>\n",
              "      <style>\n",
              "    .colab-df-container {\n",
              "      display:flex;\n",
              "      flex-wrap:wrap;\n",
              "      gap: 12px;\n",
              "    }\n",
              "\n",
              "    .colab-df-convert {\n",
              "      background-color: #E8F0FE;\n",
              "      border: none;\n",
              "      border-radius: 50%;\n",
              "      cursor: pointer;\n",
              "      display: none;\n",
              "      fill: #1967D2;\n",
              "      height: 32px;\n",
              "      padding: 0 0 0 0;\n",
              "      width: 32px;\n",
              "    }\n",
              "\n",
              "    .colab-df-convert:hover {\n",
              "      background-color: #E2EBFA;\n",
              "      box-shadow: 0px 1px 2px rgba(60, 64, 67, 0.3), 0px 1px 3px 1px rgba(60, 64, 67, 0.15);\n",
              "      fill: #174EA6;\n",
              "    }\n",
              "\n",
              "    [theme=dark] .colab-df-convert {\n",
              "      background-color: #3B4455;\n",
              "      fill: #D2E3FC;\n",
              "    }\n",
              "\n",
              "    [theme=dark] .colab-df-convert:hover {\n",
              "      background-color: #434B5C;\n",
              "      box-shadow: 0px 1px 3px 1px rgba(0, 0, 0, 0.15);\n",
              "      filter: drop-shadow(0px 1px 2px rgba(0, 0, 0, 0.3));\n",
              "      fill: #FFFFFF;\n",
              "    }\n",
              "  </style>\n",
              "\n",
              "      <script>\n",
              "        const buttonEl =\n",
              "          document.querySelector('#df-99675851-a332-4b5a-b5dd-d3db2d41d02e button.colab-df-convert');\n",
              "        buttonEl.style.display =\n",
              "          google.colab.kernel.accessAllowed ? 'block' : 'none';\n",
              "\n",
              "        async function convertToInteractive(key) {\n",
              "          const element = document.querySelector('#df-99675851-a332-4b5a-b5dd-d3db2d41d02e');\n",
              "          const dataTable =\n",
              "            await google.colab.kernel.invokeFunction('convertToInteractive',\n",
              "                                                     [key], {});\n",
              "          if (!dataTable) return;\n",
              "\n",
              "          const docLinkHtml = 'Like what you see? Visit the ' +\n",
              "            '<a target=\"_blank\" href=https://colab.research.google.com/notebooks/data_table.ipynb>data table notebook</a>'\n",
              "            + ' to learn more about interactive tables.';\n",
              "          element.innerHTML = '';\n",
              "          dataTable['output_type'] = 'display_data';\n",
              "          await google.colab.output.renderOutput(dataTable, element);\n",
              "          const docLink = document.createElement('div');\n",
              "          docLink.innerHTML = docLinkHtml;\n",
              "          element.appendChild(docLink);\n",
              "        }\n",
              "      </script>\n",
              "    </div>\n",
              "  </div>\n"
            ]
          },
          "metadata": {},
          "execution_count": 24
        }
      ]
    },
    {
      "cell_type": "markdown",
      "source": [
        "Histogram"
      ],
      "metadata": {
        "id": "hR4r87_boPAh"
      },
      "id": "hR4r87_boPAh"
    },
    {
      "cell_type": "code",
      "source": [
        "plt.figure(figsize=[5,4])\n",
        "n, bins, patches = plt.hist(data1['SalePrice'], facecolor='blue')\n",
        "plt.show()"
      ],
      "metadata": {
        "id": "CDwDyxq57xDw",
        "colab": {
          "base_uri": "https://localhost:8080/",
          "height": 368
        },
        "outputId": "fd1e2e59-6855-4b17-f0de-71a1f4e8cd76"
      },
      "id": "CDwDyxq57xDw",
      "execution_count": 25,
      "outputs": [
        {
          "output_type": "display_data",
          "data": {
            "text/plain": [
              "<Figure size 500x400 with 1 Axes>"
            ],
            "image/png": "[encoded data removed]"
          },
          "metadata": {}
        }
      ]
    },
    {
      "cell_type": "markdown",
      "source": [
        "Scatterplot"
      ],
      "metadata": {
        "id": "65rtM6vYoRNM"
      },
      "id": "65rtM6vYoRNM"
    },
    {
      "cell_type": "code",
      "source": [
        "plt.figure(figsize=[5,4])\n",
        "plt.scatter(data1['SalePrice'], data1['LotArea'])\n",
        "plt.show()"
      ],
      "metadata": {
        "colab": {
          "base_uri": "https://localhost:8080/",
          "height": 368
        },
        "id": "cFt77puCoTke",
        "outputId": "8e9f95a4-9a06-44e7-cd81-f6e6a0c63e2c"
      },
      "id": "cFt77puCoTke",
      "execution_count": 26,
      "outputs": [
        {
          "output_type": "display_data",
          "data": {
            "text/plain": [
              "<Figure size 500x400 with 1 Axes>"
            ],
            "image/png": "[encoded data removed]"
          },
          "metadata": {}
        }
      ]
    },
    {
      "cell_type": "markdown",
      "source": [
        "Step 2"
      ],
      "metadata": {
        "id": "RkdghdK56rjQ"
      },
      "id": "RkdghdK56rjQ"
    },
    {
      "cell_type": "code",
      "source": [
        "mean = sum(data1['SalePrice']) / len(data1['SalePrice'])\n",
        "mean"
      ],
      "metadata": {
        "colab": {
          "base_uri": "https://localhost:8080/"
        },
        "id": "rXYkIXLj7xxw",
        "outputId": "1057f20b-a466-405f-cdbb-403457f9c8f9"
      },
      "id": "rXYkIXLj7xxw",
      "execution_count": 27,
      "outputs": [
        {
          "output_type": "execute_result",
          "data": {
            "text/plain": [
              "180921.19589041095"
            ]
          },
          "metadata": {},
          "execution_count": 27
        }
      ]
    },
    {
      "cell_type": "code",
      "source": [
        "differences = []\n",
        "for i in data1['SalePrice']:\n",
        "  differences.append((i - mean)**2)\n",
        "sum_of_differences = sum(differences)\n",
        "std_deviation = (sum_of_differences / len(data1['SalePrice']) - 1) ** 0.5\n",
        "std_deviation"
      ],
      "metadata": {
        "colab": {
          "base_uri": "https://localhost:8080/"
        },
        "id": "hl4PLqdB7yz5",
        "outputId": "37c70470-8c13-499a-801d-64cce95d0298"
      },
      "id": "hl4PLqdB7yz5",
      "execution_count": 28,
      "outputs": [
        {
          "output_type": "execute_result",
          "data": {
            "text/plain": [
              "79415.2918797715"
            ]
          },
          "metadata": {},
          "execution_count": 28
        }
      ]
    },
    {
      "cell_type": "code",
      "source": [
        "threshold1, threshold2 = 3, -3\n",
        "outliers1 = []\n",
        "for i in data1['SalePrice']:\n",
        "  zscore = (i - mean) / std_deviation\n",
        "  if zscore > threshold1 or zscore < threshold2:\n",
        "    outliers1.append(i)\n",
        "\n",
        "outliers1"
      ],
      "metadata": {
        "colab": {
          "base_uri": "https://localhost:8080/"
        },
        "id": "N4mmP-cV6tZP",
        "outputId": "231cdbc2-9f4c-4f79-c5ca-cde373548a84"
      },
      "id": "N4mmP-cV6tZP",
      "execution_count": 29,
      "outputs": [
        {
          "output_type": "execute_result",
          "data": {
            "text/plain": [
              "[438780,\n",
              " 501837,\n",
              " 475000,\n",
              " 437154,\n",
              " 426000,\n",
              " 555000,\n",
              " 440000,\n",
              " 430000,\n",
              " 446261,\n",
              " 451950,\n",
              " 423000,\n",
              " 755000,\n",
              " 538000,\n",
              " 485000,\n",
              " 582933,\n",
              " 611657,\n",
              " 556581,\n",
              " 424870,\n",
              " 625000,\n",
              " 745000,\n",
              " 465000,\n",
              " 466500]"
            ]
          },
          "metadata": {},
          "execution_count": 29
        }
      ]
    },
    {
      "cell_type": "code",
      "source": [
        "threshold1, threshold2 = 2.5, -2.5\n",
        "outliers2 = []\n",
        "for i in data1['SalePrice']:\n",
        "  zscore = (i - mean) / std_deviation\n",
        "  if zscore > threshold1 or zscore < threshold2:\n",
        "    outliers2.append(i)\n",
        "\n",
        "outliers2"
      ],
      "metadata": {
        "colab": {
          "base_uri": "https://localhost:8080/"
        },
        "id": "MYJwi0v38Eoj",
        "outputId": "14cbcc25-3851-41ed-d5c7-0c150386c0d5"
      },
      "id": "MYJwi0v38Eoj",
      "execution_count": 30,
      "outputs": [
        {
          "output_type": "execute_result",
          "data": {
            "text/plain": [
              "[385000,\n",
              " 438780,\n",
              " 383970,\n",
              " 412500,\n",
              " 501837,\n",
              " 475000,\n",
              " 386250,\n",
              " 403000,\n",
              " 415298,\n",
              " 437154,\n",
              " 394432,\n",
              " 426000,\n",
              " 555000,\n",
              " 440000,\n",
              " 380000,\n",
              " 430000,\n",
              " 402861,\n",
              " 446261,\n",
              " 451950,\n",
              " 402000,\n",
              " 423000,\n",
              " 392000,\n",
              " 755000,\n",
              " 538000,\n",
              " 395000,\n",
              " 485000,\n",
              " 582933,\n",
              " 385000,\n",
              " 611657,\n",
              " 395192,\n",
              " 556581,\n",
              " 424870,\n",
              " 625000,\n",
              " 392500,\n",
              " 745000,\n",
              " 465000,\n",
              " 381000,\n",
              " 410000,\n",
              " 466500,\n",
              " 394617]"
            ]
          },
          "metadata": {},
          "execution_count": 30
        }
      ]
    },
    {
      "cell_type": "code",
      "source": [
        "threshold1, threshold2 = 3.5, -3.5\n",
        "outliers3 = []\n",
        "for i in data1['SalePrice']:\n",
        "  zscore = (i - mean) / std_deviation\n",
        "  if zscore > threshold1 or zscore < threshold2:\n",
        "    outliers3.append(i)\n",
        "\n",
        "outliers3"
      ],
      "metadata": {
        "colab": {
          "base_uri": "https://localhost:8080/"
        },
        "id": "i5KD83pi8R2F",
        "outputId": "d261de02-f2d4-4d09-9105-9ca65ce37043"
      },
      "id": "i5KD83pi8R2F",
      "execution_count": 31,
      "outputs": [
        {
          "output_type": "execute_result",
          "data": {
            "text/plain": [
              "[501837,\n",
              " 475000,\n",
              " 555000,\n",
              " 755000,\n",
              " 538000,\n",
              " 485000,\n",
              " 582933,\n",
              " 611657,\n",
              " 556581,\n",
              " 625000,\n",
              " 745000,\n",
              " 465000,\n",
              " 466500]"
            ]
          },
          "metadata": {},
          "execution_count": 31
        }
      ]
    },
    {
      "cell_type": "code",
      "source": [
        "threshold1, threshold2 = 2, -2\n",
        "outliers4 = []\n",
        "for i in data1['SalePrice']:\n",
        "  zscore = (i - mean) / std_deviation\n",
        "  if zscore > threshold1 or zscore < threshold2:\n",
        "    outliers4.append(i)\n",
        "\n",
        "outliers4"
      ],
      "metadata": {
        "colab": {
          "base_uri": "https://localhost:8080/"
        },
        "id": "6Y0HErcSAu1e",
        "outputId": "3bf7025c-3615-4de7-f01e-a8b2f6396708"
      },
      "id": "6Y0HErcSAu1e",
      "execution_count": 32,
      "outputs": [
        {
          "output_type": "execute_result",
          "data": {
            "text/plain": [
              "[345000,\n",
              " 385000,\n",
              " 438780,\n",
              " 383970,\n",
              " 372402,\n",
              " 412500,\n",
              " 501837,\n",
              " 475000,\n",
              " 386250,\n",
              " 403000,\n",
              " 415298,\n",
              " 360000,\n",
              " 375000,\n",
              " 342643,\n",
              " 354000,\n",
              " 377426,\n",
              " 437154,\n",
              " 340000,\n",
              " 394432,\n",
              " 426000,\n",
              " 555000,\n",
              " 440000,\n",
              " 380000,\n",
              " 374000,\n",
              " 430000,\n",
              " 402861,\n",
              " 446261,\n",
              " 369900,\n",
              " 451950,\n",
              " 359100,\n",
              " 345000,\n",
              " 370878,\n",
              " 350000,\n",
              " 402000,\n",
              " 423000,\n",
              " 372500,\n",
              " 392000,\n",
              " 755000,\n",
              " 361919,\n",
              " 341000,\n",
              " 538000,\n",
              " 395000,\n",
              " 485000,\n",
              " 582933,\n",
              " 385000,\n",
              " 350000,\n",
              " 611657,\n",
              " 395192,\n",
              " 348000,\n",
              " 556581,\n",
              " 424870,\n",
              " 625000,\n",
              " 392500,\n",
              " 745000,\n",
              " 367294,\n",
              " 465000,\n",
              " 378500,\n",
              " 381000,\n",
              " 410000,\n",
              " 466500,\n",
              " 377500,\n",
              " 340000,\n",
              " 394617]"
            ]
          },
          "metadata": {},
          "execution_count": 32
        }
      ]
    },
    {
      "cell_type": "code",
      "source": [
        "figure = plt.figure(figsize =(5, 4))\n",
        "plt.boxplot(data1['SalePrice'])\n",
        "plt.show()"
      ],
      "metadata": {
        "colab": {
          "base_uri": "https://localhost:8080/",
          "height": 368
        },
        "id": "PqvoyIxs8_v2",
        "outputId": "cafd2450-935e-4c6f-e7b0-6d65b3417f7c"
      },
      "id": "PqvoyIxs8_v2",
      "execution_count": 33,
      "outputs": [
        {
          "output_type": "display_data",
          "data": {
            "text/plain": [
              "<Figure size 500x400 with 1 Axes>"
            ],
            "image/png": "[encoded data removed]"
          },
          "metadata": {}
        }
      ]
    },
    {
      "cell_type": "markdown",
      "source": [
        "Part 3."
      ],
      "metadata": {
        "id": "jAXP58HFBJ-O"
      },
      "id": "jAXP58HFBJ-O"
    },
    {
      "cell_type": "code",
      "source": [
        "len(outliers1)"
      ],
      "metadata": {
        "colab": {
          "base_uri": "https://localhost:8080/"
        },
        "id": "9KQ8vhSYBLvk",
        "outputId": "f7e1f8d6-487c-46de-edfa-e3f968d582f5"
      },
      "id": "9KQ8vhSYBLvk",
      "execution_count": 34,
      "outputs": [
        {
          "output_type": "execute_result",
          "data": {
            "text/plain": [
              "22"
            ]
          },
          "metadata": {},
          "execution_count": 34
        }
      ]
    },
    {
      "cell_type": "code",
      "source": [
        "len(outliers2)"
      ],
      "metadata": {
        "colab": {
          "base_uri": "https://localhost:8080/"
        },
        "id": "C-n35ekcBOFt",
        "outputId": "0fb25780-e996-4165-f4b2-5323a8ebf85c"
      },
      "id": "C-n35ekcBOFt",
      "execution_count": 35,
      "outputs": [
        {
          "output_type": "execute_result",
          "data": {
            "text/plain": [
              "40"
            ]
          },
          "metadata": {},
          "execution_count": 35
        }
      ]
    },
    {
      "cell_type": "code",
      "source": [
        "len(outliers3)"
      ],
      "metadata": {
        "colab": {
          "base_uri": "https://localhost:8080/"
        },
        "id": "ttwJ8pecBPuO",
        "outputId": "41b75a87-80db-47d9-9070-509385f40b91"
      },
      "id": "ttwJ8pecBPuO",
      "execution_count": 36,
      "outputs": [
        {
          "output_type": "execute_result",
          "data": {
            "text/plain": [
              "13"
            ]
          },
          "metadata": {},
          "execution_count": 36
        }
      ]
    },
    {
      "cell_type": "code",
      "source": [
        "len(outliers4)"
      ],
      "metadata": {
        "colab": {
          "base_uri": "https://localhost:8080/"
        },
        "id": "BoikPN_YBRd2",
        "outputId": "61150bd5-8f19-434d-a7e4-fe397b691535"
      },
      "id": "BoikPN_YBRd2",
      "execution_count": 37,
      "outputs": [
        {
          "output_type": "execute_result",
          "data": {
            "text/plain": [
              "63"
            ]
          },
          "metadata": {},
          "execution_count": 37
        }
      ]
    },
    {
      "cell_type": "markdown",
      "source": [
        "Part 4."
      ],
      "metadata": {
        "id": "6VC4umJbIDLI"
      },
      "id": "6VC4umJbIDLI"
    },
    {
      "cell_type": "code",
      "source": [
        "from sklearn.neighbors import LocalOutlierFactor\n",
        "from matplotlib.legend_handler import HandlerPathCollection"
      ],
      "metadata": {
        "id": "-8fCus75Ihbx"
      },
      "id": "-8fCus75Ihbx",
      "execution_count": 38,
      "outputs": []
    },
    {
      "cell_type": "code",
      "source": [
        "data11 = data1[['SalePrice', 'LotArea']]\n",
        "X = data11.to_numpy()\n",
        "X"
      ],
      "metadata": {
        "colab": {
          "base_uri": "https://localhost:8080/"
        },
        "id": "zsdjIi9CK0hd",
        "outputId": "22284c1c-7ef5-4f90-e2f2-d88453ef5a76"
      },
      "id": "zsdjIi9CK0hd",
      "execution_count": 39,
      "outputs": [
        {
          "output_type": "execute_result",
          "data": {
            "text/plain": [
              "array([[208500,   8450],\n",
              "       [181500,   9600],\n",
              "       [223500,  11250],\n",
              "       ...,\n",
              "       [266500,   9042],\n",
              "       [142125,   9717],\n",
              "       [147500,   9937]])"
            ]
          },
          "metadata": {},
          "execution_count": 39
        }
      ]
    },
    {
      "cell_type": "code",
      "source": [
        "n_outliers = len(outliers1)\n",
        "ground_truth = np.ones(len(X), dtype=int)\n",
        "ground_truth[-n_outliers:] = -1"
      ],
      "metadata": {
        "id": "uZwLZNReNiDn"
      },
      "id": "uZwLZNReNiDn",
      "execution_count": 40,
      "outputs": []
    },
    {
      "cell_type": "code",
      "source": [
        "figure = plt.figure(figsize =(5, 4))\n",
        "plt.scatter(data1['SalePrice'], data1['LotArea'])\n",
        "plt.show()"
      ],
      "metadata": {
        "colab": {
          "base_uri": "https://localhost:8080/",
          "height": 368
        },
        "id": "B4g8tXR8KSHa",
        "outputId": "7115a055-9a18-4079-92b8-ab022121a25d"
      },
      "id": "B4g8tXR8KSHa",
      "execution_count": 41,
      "outputs": [
        {
          "output_type": "display_data",
          "data": {
            "text/plain": [
              "<Figure size 500x400 with 1 Axes>"
            ],
            "image/png": "[encoded data removed]"
          },
          "metadata": {}
        }
      ]
    },
    {
      "cell_type": "code",
      "source": [
        "clf = LocalOutlierFactor(n_neighbors=20, contamination=0.03)"
      ],
      "metadata": {
        "id": "1RQgCSohKfs6"
      },
      "id": "1RQgCSohKfs6",
      "execution_count": 42,
      "outputs": []
    },
    {
      "cell_type": "code",
      "source": [
        "y_pred = clf.fit_predict(X)"
      ],
      "metadata": {
        "id": "oVdwnBR7Kncw"
      },
      "id": "oVdwnBR7Kncw",
      "execution_count": 43,
      "outputs": []
    },
    {
      "cell_type": "code",
      "source": [
        "n_errors = (y_pred != ground_truth).sum()\n",
        "X_scores = clf.negative_outlier_factor_"
      ],
      "metadata": {
        "id": "_txK2_8QLe6l"
      },
      "id": "_txK2_8QLe6l",
      "execution_count": 44,
      "outputs": []
    },
    {
      "cell_type": "code",
      "source": [
        "def update_handler_marker_size(handle, orig):\n",
        "  handle.update_from(orig)\n",
        "  handle.set_sizes([20])"
      ],
      "metadata": {
        "id": "9JIRj_WoNPPh"
      },
      "id": "9JIRj_WoNPPh",
      "execution_count": 45,
      "outputs": []
    },
    {
      "cell_type": "code",
      "source": [
        "plt.scatter(X[:,0], X[:,1], color=\"k\", s=3.0, label=\"Data Points\")\n",
        "radius = (X_scores.max() - X_scores) / (X_scores.max() - X_scores.min())\n",
        "scatter = plt.scatter(X[:,0], X[:,1], s=1000*radius, edgecolors=\"r\", facecolors=\"none\", label=\"Outlier scores\")\n",
        "plt.axis(\"tight\")\n",
        "plt.xlabel(\"prediction errors: %d\" % (n_errors))\n",
        "plt.legend(handler_map={scatter: HandlerPathCollection(update_func=update_handler_marker_size)})\n",
        "plt.title(\"Local Outlier Factor (LOF)\")\n",
        "plt.show()"
      ],
      "metadata": {
        "colab": {
          "base_uri": "https://localhost:8080/",
          "height": 524
        },
        "id": "Fh-8T--XNPSF",
        "outputId": "c3b5e593-38b6-4921-a1c8-b3254ca1bbde"
      },
      "id": "Fh-8T--XNPSF",
      "execution_count": 46,
      "outputs": [
        {
          "output_type": "display_data",
          "data": {
            "text/plain": [
              "<Figure size 800x550 with 1 Axes>"
            ],
            "image/png": "[encoded data removed]"
          },
          "metadata": {}
        }
      ]
    },
    {
      "cell_type": "markdown",
      "id": "49fef8c2",
      "metadata": {
        "id": "49fef8c2"
      },
      "source": [
        "## 2. PCA (35 points)"
      ]
    },
    {
      "cell_type": "markdown",
      "id": "d4c6f403",
      "metadata": {
        "id": "d4c6f403"
      },
      "source": [
        "Accuracy Comparison for Logistic Regression model: before and after PCA.\n",
        "Please follow the following steps:\n",
        "\n",
        "  1. Seperate and standardize the disease classification dataset. (5 points)\n",
        "  2. Do Eigen decomposition using any LA library of your choice. Display scree plot. (10 points)\n",
        "  3. Primary Component Selection. (Select the first 6 components) (5 points)\n",
        "  4. Projection in a New Feature Space. (5 points)\n",
        "  5. Principal Component Analysis. (5 points)\n",
        "  6. Compare the presision and recall for the data using logistic regression before and after PCA. (10 points)"
      ]
    },
    {
      "cell_type": "markdown",
      "source": [
        "Seperating the data into numerical and categorical columns"
      ],
      "metadata": {
        "id": "HDnxH9ZPF0yZ"
      },
      "id": "HDnxH9ZPF0yZ"
    },
    {
      "cell_type": "code",
      "source": [
        "data2 = \"/content/Q2_dataset.csv\""
      ],
      "metadata": {
        "id": "wKwu1IfaQ4sX"
      },
      "id": "wKwu1IfaQ4sX",
      "execution_count": 44,
      "outputs": []
    },
    {
      "cell_type": "code",
      "source": [
        "data2 = pd.read_csv(data2)\n",
        "data2.head()"
      ],
      "metadata": {
        "colab": {
          "base_uri": "https://localhost:8080/",
          "height": 300
        },
        "id": "Q356cG-RpWV7",
        "outputId": "ceff96f2-58ef-4200-b9c9-19b52ffa3289"
      },
      "id": "Q356cG-RpWV7",
      "execution_count": 45,
      "outputs": [
        {
          "output_type": "execute_result",
          "data": {
            "text/plain": [
              "   id  gender      PPE      DFA     RPDE  numPulses  numPeriodsPulses  \\\n",
              "0   0       1  0.85247  0.71826  0.57227        240               239   \n",
              "1   0       1  0.76686  0.69481  0.53966        234               233   \n",
              "2   0       1  0.85083  0.67604  0.58982        232               231   \n",
              "3   1       0  0.41121  0.79672  0.59257        178               177   \n",
              "4   1       0  0.32790  0.79782  0.53028        236               235   \n",
              "\n",
              "   meanPeriodPulses  stdDevPeriodPulses  locPctJitter  ...  \\\n",
              "0          0.008064            0.000087       0.00218  ...   \n",
              "1          0.008258            0.000073       0.00195  ...   \n",
              "2          0.008340            0.000060       0.00176  ...   \n",
              "3          0.010858            0.000183       0.00419  ...   \n",
              "4          0.008162            0.002669       0.00535  ...   \n",
              "\n",
              "   tqwt_kurtosisValue_dec_28  tqwt_kurtosisValue_dec_29  \\\n",
              "0                     1.5620                     2.6445   \n",
              "1                     1.5589                     3.6107   \n",
              "2                     1.5643                     2.3308   \n",
              "3                     3.7805                     3.5664   \n",
              "4                     6.1727                     5.8416   \n",
              "\n",
              "   tqwt_kurtosisValue_dec_30  tqwt_kurtosisValue_dec_31  \\\n",
              "0                     3.8686                     4.2105   \n",
              "1                    23.5155                    14.1962   \n",
              "2                     9.4959                    10.7458   \n",
              "3                     5.2558                    14.0403   \n",
              "4                     6.0805                     5.7621   \n",
              "\n",
              "   tqwt_kurtosisValue_dec_32  tqwt_kurtosisValue_dec_33  \\\n",
              "0                     5.1221                     4.4625   \n",
              "1                    11.0261                     9.5082   \n",
              "2                    11.0177                     4.8066   \n",
              "3                     4.2235                     4.6857   \n",
              "4                     7.7817                    11.6891   \n",
              "\n",
              "   tqwt_kurtosisValue_dec_34  tqwt_kurtosisValue_dec_35  \\\n",
              "0                     2.6202                     3.0004   \n",
              "1                     6.5245                     6.3431   \n",
              "2                     2.9199                     3.1495   \n",
              "3                     4.8460                     6.2650   \n",
              "4                     8.2103                     5.0559   \n",
              "\n",
              "   tqwt_kurtosisValue_dec_36  class  \n",
              "0                    18.9405      1  \n",
              "1                    45.1780      1  \n",
              "2                     4.7666      1  \n",
              "3                     4.0603      1  \n",
              "4                     6.1164      1  \n",
              "\n",
              "[5 rows x 755 columns]"
            ],
            "text/html": [
              "\n",
              "\n",
              "  <div id=\"df-2d9d8578-c24c-4527-8279-4eaab6ecfb61\">\n",
              "    <div class=\"colab-df-container\">\n",
              "      <div>\n",
              "<style scoped>\n",
              "    .dataframe tbody tr th:only-of-type {\n",
              "        vertical-align: middle;\n",
              "    }\n",
              "\n",
              "    .dataframe tbody tr th {\n",
              "        vertical-align: top;\n",
              "    }\n",
              "\n",
              "    .dataframe thead th {\n",
              "        text-align: right;\n",
              "    }\n",
              "</style>\n",
              "<table border=\"1\" class=\"dataframe\">\n",
              "  <thead>\n",
              "    <tr style=\"text-align: right;\">\n",
              "      <th></th>\n",
              "      <th>id</th>\n",
              "      <th>gender</th>\n",
              "      <th>PPE</th>\n",
              "      <th>DFA</th>\n",
              "      <th>RPDE</th>\n",
              "      <th>numPulses</th>\n",
              "      <th>numPeriodsPulses</th>\n",
              "      <th>meanPeriodPulses</th>\n",
              "      <th>stdDevPeriodPulses</th>\n",
              "      <th>locPctJitter</th>\n",
              "      <th>...</th>\n",
              "      <th>tqwt_kurtosisValue_dec_28</th>\n",
              "      <th>tqwt_kurtosisValue_dec_29</th>\n",
              "      <th>tqwt_kurtosisValue_dec_30</th>\n",
              "      <th>tqwt_kurtosisValue_dec_31</th>\n",
              "      <th>tqwt_kurtosisValue_dec_32</th>\n",
              "      <th>tqwt_kurtosisValue_dec_33</th>\n",
              "      <th>tqwt_kurtosisValue_dec_34</th>\n",
              "      <th>tqwt_kurtosisValue_dec_35</th>\n",
              "      <th>tqwt_kurtosisValue_dec_36</th>\n",
              "      <th>class</th>\n",
              "    </tr>\n",
              "  </thead>\n",
              "  <tbody>\n",
              "    <tr>\n",
              "      <th>0</th>\n",
              "      <td>0</td>\n",
              "      <td>1</td>\n",
              "      <td>0.85247</td>\n",
              "      <td>0.71826</td>\n",
              "      <td>0.57227</td>\n",
              "      <td>240</td>\n",
              "      <td>239</td>\n",
              "      <td>0.008064</td>\n",
              "      <td>0.000087</td>\n",
              "      <td>0.00218</td>\n",
              "      <td>...</td>\n",
              "      <td>1.5620</td>\n",
              "      <td>2.6445</td>\n",
              "      <td>3.8686</td>\n",
              "      <td>4.2105</td>\n",
              "      <td>5.1221</td>\n",
              "      <td>4.4625</td>\n",
              "      <td>2.6202</td>\n",
              "      <td>3.0004</td>\n",
              "      <td>18.9405</td>\n",
              "      <td>1</td>\n",
              "    </tr>\n",
              "    <tr>\n",
              "      <th>1</th>\n",
              "      <td>0</td>\n",
              "      <td>1</td>\n",
              "      <td>0.76686</td>\n",
              "      <td>0.69481</td>\n",
              "      <td>0.53966</td>\n",
              "      <td>234</td>\n",
              "      <td>233</td>\n",
              "      <td>0.008258</td>\n",
              "      <td>0.000073</td>\n",
              "      <td>0.00195</td>\n",
              "      <td>...</td>\n",
              "      <td>1.5589</td>\n",
              "      <td>3.6107</td>\n",
              "      <td>23.5155</td>\n",
              "      <td>14.1962</td>\n",
              "      <td>11.0261</td>\n",
              "      <td>9.5082</td>\n",
              "      <td>6.5245</td>\n",
              "      <td>6.3431</td>\n",
              "      <td>45.1780</td>\n",
              "      <td>1</td>\n",
              "    </tr>\n",
              "    <tr>\n",
              "      <th>2</th>\n",
              "      <td>0</td>\n",
              "      <td>1</td>\n",
              "      <td>0.85083</td>\n",
              "      <td>0.67604</td>\n",
              "      <td>0.58982</td>\n",
              "      <td>232</td>\n",
              "      <td>231</td>\n",
              "      <td>0.008340</td>\n",
              "      <td>0.000060</td>\n",
              "      <td>0.00176</td>\n",
              "      <td>...</td>\n",
              "      <td>1.5643</td>\n",
              "      <td>2.3308</td>\n",
              "      <td>9.4959</td>\n",
              "      <td>10.7458</td>\n",
              "      <td>11.0177</td>\n",
              "      <td>4.8066</td>\n",
              "      <td>2.9199</td>\n",
              "      <td>3.1495</td>\n",
              "      <td>4.7666</td>\n",
              "      <td>1</td>\n",
              "    </tr>\n",
              "    <tr>\n",
              "      <th>3</th>\n",
              "      <td>1</td>\n",
              "      <td>0</td>\n",
              "      <td>0.41121</td>\n",
              "      <td>0.79672</td>\n",
              "      <td>0.59257</td>\n",
              "      <td>178</td>\n",
              "      <td>177</td>\n",
              "      <td>0.010858</td>\n",
              "      <td>0.000183</td>\n",
              "      <td>0.00419</td>\n",
              "      <td>...</td>\n",
              "      <td>3.7805</td>\n",
              "      <td>3.5664</td>\n",
              "      <td>5.2558</td>\n",
              "      <td>14.0403</td>\n",
              "      <td>4.2235</td>\n",
              "      <td>4.6857</td>\n",
              "      <td>4.8460</td>\n",
              "      <td>6.2650</td>\n",
              "      <td>4.0603</td>\n",
              "      <td>1</td>\n",
              "    </tr>\n",
              "    <tr>\n",
              "      <th>4</th>\n",
              "      <td>1</td>\n",
              "      <td>0</td>\n",
              "      <td>0.32790</td>\n",
              "      <td>0.79782</td>\n",
              "      <td>0.53028</td>\n",
              "      <td>236</td>\n",
              "      <td>235</td>\n",
              "      <td>0.008162</td>\n",
              "      <td>0.002669</td>\n",
              "      <td>0.00535</td>\n",
              "      <td>...</td>\n",
              "      <td>6.1727</td>\n",
              "      <td>5.8416</td>\n",
              "      <td>6.0805</td>\n",
              "      <td>5.7621</td>\n",
              "      <td>7.7817</td>\n",
              "      <td>11.6891</td>\n",
              "      <td>8.2103</td>\n",
              "      <td>5.0559</td>\n",
              "      <td>6.1164</td>\n",
              "      <td>1</td>\n",
              "    </tr>\n",
              "  </tbody>\n",
              "</table>\n",
              "<p>5 rows × 755 columns</p>\n",
              "</div>\n",
              "      <button class=\"colab-df-convert\" onclick=\"convertToInteractive('df-2d9d8578-c24c-4527-8279-4eaab6ecfb61')\"\n",
              "              title=\"Convert this dataframe to an interactive table.\"\n",
              "              style=\"display:none;\">\n",
              "\n",
              "  <svg xmlns=\"http://www.w3.org/2000/svg\" height=\"24px\"viewBox=\"0 0 24 24\"\n",
              "       width=\"24px\">\n",
              "    <path d=\"M0 0h24v24H0V0z\" fill=\"none\"/>\n",
              "    <path d=\"M18.56 5.44l.94 2.06.94-2.06 2.06-.94-2.06-.94-.94-2.06-.94 2.06-2.06.94zm-11 1L8.5 8.5l.94-2.06 2.06-.94-2.06-.94L8.5 2.5l-.94 2.06-2.06.94zm10 10l.94 2.06.94-2.06 2.06-.94-2.06-.94-.94-2.06-.94 2.06-2.06.94z\"/><path d=\"M17.41 7.96l-1.37-1.37c-.4-.4-.92-.59-1.43-.59-.52 0-1.04.2-1.43.59L10.3 9.45l-7.72 7.72c-.78.78-.78 2.05 0 2.83L4 21.41c.39.39.9.59 1.41.59.51 0 1.02-.2 1.41-.59l7.78-7.78 2.81-2.81c.8-.78.8-2.07 0-2.86zM5.41 20L4 18.59l7.72-7.72 1.47 1.35L5.41 20z\"/>\n",
              "  </svg>\n",
              "      </button>\n",
              "\n",
              "\n",
              "\n",
              "    <div id=\"df-2f8c2285-2c63-405e-9b6f-dc21fc0aa8d5\">\n",
              "      <button class=\"colab-df-quickchart\" onclick=\"quickchart('df-2f8c2285-2c63-405e-9b6f-dc21fc0aa8d5')\"\n",
              "              title=\"Suggest charts.\"\n",
              "              style=\"display:none;\">\n",
              "\n",
              "<svg xmlns=\"http://www.w3.org/2000/svg\" height=\"24px\"viewBox=\"0 0 24 24\"\n",
              "     width=\"24px\">\n",
              "    <g>\n",
              "        <path d=\"M19 3H5c-1.1 0-2 .9-2 2v14c0 1.1.9 2 2 2h14c1.1 0 2-.9 2-2V5c0-1.1-.9-2-2-2zM9 17H7v-7h2v7zm4 0h-2V7h2v10zm4 0h-2v-4h2v4z\"/>\n",
              "    </g>\n",
              "</svg>\n",
              "      </button>\n",
              "    </div>\n",
              "\n",
              "<style>\n",
              "  .colab-df-quickchart {\n",
              "    background-color: #E8F0FE;\n",
              "    border: none;\n",
              "    border-radius: 50%;\n",
              "    cursor: pointer;\n",
              "    display: none;\n",
              "    fill: #1967D2;\n",
              "    height: 32px;\n",
              "    padding: 0 0 0 0;\n",
              "    width: 32px;\n",
              "  }\n",
              "\n",
              "  .colab-df-quickchart:hover {\n",
              "    background-color: #E2EBFA;\n",
              "    box-shadow: 0px 1px 2px rgba(60, 64, 67, 0.3), 0px 1px 3px 1px rgba(60, 64, 67, 0.15);\n",
              "    fill: #174EA6;\n",
              "  }\n",
              "\n",
              "  [theme=dark] .colab-df-quickchart {\n",
              "    background-color: #3B4455;\n",
              "    fill: #D2E3FC;\n",
              "  }\n",
              "\n",
              "  [theme=dark] .colab-df-quickchart:hover {\n",
              "    background-color: #434B5C;\n",
              "    box-shadow: 0px 1px 3px 1px rgba(0, 0, 0, 0.15);\n",
              "    filter: drop-shadow(0px 1px 2px rgba(0, 0, 0, 0.3));\n",
              "    fill: #FFFFFF;\n",
              "  }\n",
              "</style>\n",
              "\n",
              "    <script>\n",
              "      async function quickchart(key) {\n",
              "        const containerElement = document.querySelector('#' + key);\n",
              "        const charts = await google.colab.kernel.invokeFunction(\n",
              "            'suggestCharts', [key], {});\n",
              "      }\n",
              "    </script>\n",
              "\n",
              "      <script>\n",
              "\n",
              "function displayQuickchartButton(domScope) {\n",
              "  let quickchartButtonEl =\n",
              "    domScope.querySelector('#df-2f8c2285-2c63-405e-9b6f-dc21fc0aa8d5 button.colab-df-quickchart');\n",
              "  quickchartButtonEl.style.display =\n",
              "    google.colab.kernel.accessAllowed ? 'block' : 'none';\n",
              "}\n",
              "\n",
              "        displayQuickchartButton(document);\n",
              "      </script>\n",
              "      <style>\n",
              "    .colab-df-container {\n",
              "      display:flex;\n",
              "      flex-wrap:wrap;\n",
              "      gap: 12px;\n",
              "    }\n",
              "\n",
              "    .colab-df-convert {\n",
              "      background-color: #E8F0FE;\n",
              "      border: none;\n",
              "      border-radius: 50%;\n",
              "      cursor: pointer;\n",
              "      display: none;\n",
              "      fill: #1967D2;\n",
              "      height: 32px;\n",
              "      padding: 0 0 0 0;\n",
              "      width: 32px;\n",
              "    }\n",
              "\n",
              "    .colab-df-convert:hover {\n",
              "      background-color: #E2EBFA;\n",
              "      box-shadow: 0px 1px 2px rgba(60, 64, 67, 0.3), 0px 1px 3px 1px rgba(60, 64, 67, 0.15);\n",
              "      fill: #174EA6;\n",
              "    }\n",
              "\n",
              "    [theme=dark] .colab-df-convert {\n",
              "      background-color: #3B4455;\n",
              "      fill: #D2E3FC;\n",
              "    }\n",
              "\n",
              "    [theme=dark] .colab-df-convert:hover {\n",
              "      background-color: #434B5C;\n",
              "      box-shadow: 0px 1px 3px 1px rgba(0, 0, 0, 0.15);\n",
              "      filter: drop-shadow(0px 1px 2px rgba(0, 0, 0, 0.3));\n",
              "      fill: #FFFFFF;\n",
              "    }\n",
              "  </style>\n",
              "\n",
              "      <script>\n",
              "        const buttonEl =\n",
              "          document.querySelector('#df-2d9d8578-c24c-4527-8279-4eaab6ecfb61 button.colab-df-convert');\n",
              "        buttonEl.style.display =\n",
              "          google.colab.kernel.accessAllowed ? 'block' : 'none';\n",
              "\n",
              "        async function convertToInteractive(key) {\n",
              "          const element = document.querySelector('#df-2d9d8578-c24c-4527-8279-4eaab6ecfb61');\n",
              "          const dataTable =\n",
              "            await google.colab.kernel.invokeFunction('convertToInteractive',\n",
              "                                                     [key], {});\n",
              "          if (!dataTable) return;\n",
              "\n",
              "          const docLinkHtml = 'Like what you see? Visit the ' +\n",
              "            '<a target=\"_blank\" href=https://colab.research.google.com/notebooks/data_table.ipynb>data table notebook</a>'\n",
              "            + ' to learn more about interactive tables.';\n",
              "          element.innerHTML = '';\n",
              "          dataTable['output_type'] = 'display_data';\n",
              "          await google.colab.output.renderOutput(dataTable, element);\n",
              "          const docLink = document.createElement('div');\n",
              "          docLink.innerHTML = docLinkHtml;\n",
              "          element.appendChild(docLink);\n",
              "        }\n",
              "      </script>\n",
              "    </div>\n",
              "  </div>\n"
            ]
          },
          "metadata": {},
          "execution_count": 45
        }
      ]
    },
    {
      "cell_type": "code",
      "source": [
        "data2.dtypes"
      ],
      "metadata": {
        "colab": {
          "base_uri": "https://localhost:8080/"
        },
        "id": "14KI3TwupWbl",
        "outputId": "131d78eb-2c9a-49ae-bcce-6a493de9b3de"
      },
      "id": "14KI3TwupWbl",
      "execution_count": 46,
      "outputs": [
        {
          "output_type": "execute_result",
          "data": {
            "text/plain": [
              "id                             int64\n",
              "gender                         int64\n",
              "PPE                          float64\n",
              "DFA                          float64\n",
              "RPDE                         float64\n",
              "                              ...   \n",
              "tqwt_kurtosisValue_dec_33    float64\n",
              "tqwt_kurtosisValue_dec_34    float64\n",
              "tqwt_kurtosisValue_dec_35    float64\n",
              "tqwt_kurtosisValue_dec_36    float64\n",
              "class                          int64\n",
              "Length: 755, dtype: object"
            ]
          },
          "metadata": {},
          "execution_count": 46
        }
      ]
    },
    {
      "cell_type": "code",
      "source": [
        "data = data2.drop(['id', 'gender', 'class'], axis=1)\n",
        "data"
      ],
      "metadata": {
        "colab": {
          "base_uri": "https://localhost:8080/",
          "height": 488
        },
        "id": "uiYgYGToFj0O",
        "outputId": "2f62b960-5f52-4110-cb53-c1c008a8f637"
      },
      "id": "uiYgYGToFj0O",
      "execution_count": 47,
      "outputs": [
        {
          "output_type": "execute_result",
          "data": {
            "text/plain": [
              "         PPE      DFA     RPDE  numPulses  numPeriodsPulses  meanPeriodPulses  \\\n",
              "0    0.85247  0.71826  0.57227        240               239          0.008064   \n",
              "1    0.76686  0.69481  0.53966        234               233          0.008258   \n",
              "2    0.85083  0.67604  0.58982        232               231          0.008340   \n",
              "3    0.41121  0.79672  0.59257        178               177          0.010858   \n",
              "4    0.32790  0.79782  0.53028        236               235          0.008162   \n",
              "..       ...      ...      ...        ...               ...               ...   \n",
              "751  0.80903  0.56355  0.28385        417               416          0.004627   \n",
              "752  0.16084  0.56499  0.59194        415               413          0.004550   \n",
              "753  0.88389  0.72335  0.46815        381               380          0.005069   \n",
              "754  0.83782  0.74890  0.49823        340               339          0.005679   \n",
              "755  0.81304  0.76471  0.46374        340               339          0.005676   \n",
              "\n",
              "     stdDevPeriodPulses  locPctJitter  locAbsJitter  rapJitter  ...  \\\n",
              "0              0.000087       0.00218      0.000018    0.00067  ...   \n",
              "1              0.000073       0.00195      0.000016    0.00052  ...   \n",
              "2              0.000060       0.00176      0.000015    0.00057  ...   \n",
              "3              0.000183       0.00419      0.000046    0.00149  ...   \n",
              "4              0.002669       0.00535      0.000044    0.00166  ...   \n",
              "..                  ...           ...           ...        ...  ...   \n",
              "751            0.000052       0.00064      0.000003    0.00008  ...   \n",
              "752            0.000220       0.00143      0.000006    0.00016  ...   \n",
              "753            0.000103       0.00076      0.000004    0.00011  ...   \n",
              "754            0.000055       0.00092      0.000005    0.00017  ...   \n",
              "755            0.000037       0.00078      0.000004    0.00014  ...   \n",
              "\n",
              "     tqwt_kurtosisValue_dec_27  tqwt_kurtosisValue_dec_28  \\\n",
              "0                       1.5466                     1.5620   \n",
              "1                       1.5530                     1.5589   \n",
              "2                       1.5399                     1.5643   \n",
              "3                       6.9761                     3.7805   \n",
              "4                       7.8832                     6.1727   \n",
              "..                         ...                        ...   \n",
              "751                     3.4394                     3.0706   \n",
              "752                    19.6733                     1.9704   \n",
              "753                   137.3126                    51.5607   \n",
              "754                     5.4425                    19.1607   \n",
              "755                    11.1487                    62.9927   \n",
              "\n",
              "     tqwt_kurtosisValue_dec_29  tqwt_kurtosisValue_dec_30  \\\n",
              "0                       2.6445                     3.8686   \n",
              "1                       3.6107                    23.5155   \n",
              "2                       2.3308                     9.4959   \n",
              "3                       3.5664                     5.2558   \n",
              "4                       5.8416                     6.0805   \n",
              "..                         ...                        ...   \n",
              "751                     3.0190                     3.1212   \n",
              "752                     1.7451                     1.8277   \n",
              "753                    44.4641                    26.1586   \n",
              "754                    12.8312                     8.9434   \n",
              "755                    21.8152                     9.2457   \n",
              "\n",
              "     tqwt_kurtosisValue_dec_31  tqwt_kurtosisValue_dec_32  \\\n",
              "0                       4.2105                     5.1221   \n",
              "1                      14.1962                    11.0261   \n",
              "2                      10.7458                    11.0177   \n",
              "3                      14.0403                     4.2235   \n",
              "4                       5.7621                     7.7817   \n",
              "..                         ...                        ...   \n",
              "751                     2.4921                     3.5844   \n",
              "752                     2.4976                     5.2981   \n",
              "753                     6.3076                     2.8601   \n",
              "754                     2.2044                     1.9496   \n",
              "755                     4.8555                     3.0551   \n",
              "\n",
              "     tqwt_kurtosisValue_dec_33  tqwt_kurtosisValue_dec_34  \\\n",
              "0                       4.4625                     2.6202   \n",
              "1                       9.5082                     6.5245   \n",
              "2                       4.8066                     2.9199   \n",
              "3                       4.6857                     4.8460   \n",
              "4                      11.6891                     8.2103   \n",
              "..                         ...                        ...   \n",
              "751                     3.5400                     3.3805   \n",
              "752                     4.2616                     6.3042   \n",
              "753                     2.5361                     3.5377   \n",
              "754                     1.9664                     2.6801   \n",
              "755                     3.0415                     4.0116   \n",
              "\n",
              "     tqwt_kurtosisValue_dec_35  tqwt_kurtosisValue_dec_36  \n",
              "0                       3.0004                    18.9405  \n",
              "1                       6.3431                    45.1780  \n",
              "2                       3.1495                     4.7666  \n",
              "3                       6.2650                     4.0603  \n",
              "4                       5.0559                     6.1164  \n",
              "..                         ...                        ...  \n",
              "751                     3.2003                     6.8671  \n",
              "752                    10.9058                    28.4170  \n",
              "753                     3.3545                     5.0424  \n",
              "754                     2.8332                     3.7131  \n",
              "755                     2.6217                     3.1527  \n",
              "\n",
              "[756 rows x 752 columns]"
            ],
            "text/html": [
              "\n",
              "\n",
              "  <div id=\"df-c2483efd-b0bf-44b9-b876-c97205ac0b3c\">\n",
              "    <div class=\"colab-df-container\">\n",
              "      <div>\n",
              "<style scoped>\n",
              "    .dataframe tbody tr th:only-of-type {\n",
              "        vertical-align: middle;\n",
              "    }\n",
              "\n",
              "    .dataframe tbody tr th {\n",
              "        vertical-align: top;\n",
              "    }\n",
              "\n",
              "    .dataframe thead th {\n",
              "        text-align: right;\n",
              "    }\n",
              "</style>\n",
              "<table border=\"1\" class=\"dataframe\">\n",
              "  <thead>\n",
              "    <tr style=\"text-align: right;\">\n",
              "      <th></th>\n",
              "      <th>PPE</th>\n",
              "      <th>DFA</th>\n",
              "      <th>RPDE</th>\n",
              "      <th>numPulses</th>\n",
              "      <th>numPeriodsPulses</th>\n",
              "      <th>meanPeriodPulses</th>\n",
              "      <th>stdDevPeriodPulses</th>\n",
              "      <th>locPctJitter</th>\n",
              "      <th>locAbsJitter</th>\n",
              "      <th>rapJitter</th>\n",
              "      <th>...</th>\n",
              "      <th>tqwt_kurtosisValue_dec_27</th>\n",
              "      <th>tqwt_kurtosisValue_dec_28</th>\n",
              "      <th>tqwt_kurtosisValue_dec_29</th>\n",
              "      <th>tqwt_kurtosisValue_dec_30</th>\n",
              "      <th>tqwt_kurtosisValue_dec_31</th>\n",
              "      <th>tqwt_kurtosisValue_dec_32</th>\n",
              "      <th>tqwt_kurtosisValue_dec_33</th>\n",
              "      <th>tqwt_kurtosisValue_dec_34</th>\n",
              "      <th>tqwt_kurtosisValue_dec_35</th>\n",
              "      <th>tqwt_kurtosisValue_dec_36</th>\n",
              "    </tr>\n",
              "  </thead>\n",
              "  <tbody>\n",
              "    <tr>\n",
              "      <th>0</th>\n",
              "      <td>0.85247</td>\n",
              "      <td>0.71826</td>\n",
              "      <td>0.57227</td>\n",
              "      <td>240</td>\n",
              "      <td>239</td>\n",
              "      <td>0.008064</td>\n",
              "      <td>0.000087</td>\n",
              "      <td>0.00218</td>\n",
              "      <td>0.000018</td>\n",
              "      <td>0.00067</td>\n",
              "      <td>...</td>\n",
              "      <td>1.5466</td>\n",
              "      <td>1.5620</td>\n",
              "      <td>2.6445</td>\n",
              "      <td>3.8686</td>\n",
              "      <td>4.2105</td>\n",
              "      <td>5.1221</td>\n",
              "      <td>4.4625</td>\n",
              "      <td>2.6202</td>\n",
              "      <td>3.0004</td>\n",
              "      <td>18.9405</td>\n",
              "    </tr>\n",
              "    <tr>\n",
              "      <th>1</th>\n",
              "      <td>0.76686</td>\n",
              "      <td>0.69481</td>\n",
              "      <td>0.53966</td>\n",
              "      <td>234</td>\n",
              "      <td>233</td>\n",
              "      <td>0.008258</td>\n",
              "      <td>0.000073</td>\n",
              "      <td>0.00195</td>\n",
              "      <td>0.000016</td>\n",
              "      <td>0.00052</td>\n",
              "      <td>...</td>\n",
              "      <td>1.5530</td>\n",
              "      <td>1.5589</td>\n",
              "      <td>3.6107</td>\n",
              "      <td>23.5155</td>\n",
              "      <td>14.1962</td>\n",
              "      <td>11.0261</td>\n",
              "      <td>9.5082</td>\n",
              "      <td>6.5245</td>\n",
              "      <td>6.3431</td>\n",
              "      <td>45.1780</td>\n",
              "    </tr>\n",
              "    <tr>\n",
              "      <th>2</th>\n",
              "      <td>0.85083</td>\n",
              "      <td>0.67604</td>\n",
              "      <td>0.58982</td>\n",
              "      <td>232</td>\n",
              "      <td>231</td>\n",
              "      <td>0.008340</td>\n",
              "      <td>0.000060</td>\n",
              "      <td>0.00176</td>\n",
              "      <td>0.000015</td>\n",
              "      <td>0.00057</td>\n",
              "      <td>...</td>\n",
              "      <td>1.5399</td>\n",
              "      <td>1.5643</td>\n",
              "      <td>2.3308</td>\n",
              "      <td>9.4959</td>\n",
              "      <td>10.7458</td>\n",
              "      <td>11.0177</td>\n",
              "      <td>4.8066</td>\n",
              "      <td>2.9199</td>\n",
              "      <td>3.1495</td>\n",
              "      <td>4.7666</td>\n",
              "    </tr>\n",
              "    <tr>\n",
              "      <th>3</th>\n",
              "      <td>0.41121</td>\n",
              "      <td>0.79672</td>\n",
              "      <td>0.59257</td>\n",
              "      <td>178</td>\n",
              "      <td>177</td>\n",
              "      <td>0.010858</td>\n",
              "      <td>0.000183</td>\n",
              "      <td>0.00419</td>\n",
              "      <td>0.000046</td>\n",
              "      <td>0.00149</td>\n",
              "      <td>...</td>\n",
              "      <td>6.9761</td>\n",
              "      <td>3.7805</td>\n",
              "      <td>3.5664</td>\n",
              "      <td>5.2558</td>\n",
              "      <td>14.0403</td>\n",
              "      <td>4.2235</td>\n",
              "      <td>4.6857</td>\n",
              "      <td>4.8460</td>\n",
              "      <td>6.2650</td>\n",
              "      <td>4.0603</td>\n",
              "    </tr>\n",
              "    <tr>\n",
              "      <th>4</th>\n",
              "      <td>0.32790</td>\n",
              "      <td>0.79782</td>\n",
              "      <td>0.53028</td>\n",
              "      <td>236</td>\n",
              "      <td>235</td>\n",
              "      <td>0.008162</td>\n",
              "      <td>0.002669</td>\n",
              "      <td>0.00535</td>\n",
              "      <td>0.000044</td>\n",
              "      <td>0.00166</td>\n",
              "      <td>...</td>\n",
              "      <td>7.8832</td>\n",
              "      <td>6.1727</td>\n",
              "      <td>5.8416</td>\n",
              "      <td>6.0805</td>\n",
              "      <td>5.7621</td>\n",
              "      <td>7.7817</td>\n",
              "      <td>11.6891</td>\n",
              "      <td>8.2103</td>\n",
              "      <td>5.0559</td>\n",
              "      <td>6.1164</td>\n",
              "    </tr>\n",
              "    <tr>\n",
              "      <th>...</th>\n",
              "      <td>...</td>\n",
              "      <td>...</td>\n",
              "      <td>...</td>\n",
              "      <td>...</td>\n",
              "      <td>...</td>\n",
              "      <td>...</td>\n",
              "      <td>...</td>\n",
              "      <td>...</td>\n",
              "      <td>...</td>\n",
              "      <td>...</td>\n",
              "      <td>...</td>\n",
              "      <td>...</td>\n",
              "      <td>...</td>\n",
              "      <td>...</td>\n",
              "      <td>...</td>\n",
              "      <td>...</td>\n",
              "      <td>...</td>\n",
              "      <td>...</td>\n",
              "      <td>...</td>\n",
              "      <td>...</td>\n",
              "      <td>...</td>\n",
              "    </tr>\n",
              "    <tr>\n",
              "      <th>751</th>\n",
              "      <td>0.80903</td>\n",
              "      <td>0.56355</td>\n",
              "      <td>0.28385</td>\n",
              "      <td>417</td>\n",
              "      <td>416</td>\n",
              "      <td>0.004627</td>\n",
              "      <td>0.000052</td>\n",
              "      <td>0.00064</td>\n",
              "      <td>0.000003</td>\n",
              "      <td>0.00008</td>\n",
              "      <td>...</td>\n",
              "      <td>3.4394</td>\n",
              "      <td>3.0706</td>\n",
              "      <td>3.0190</td>\n",
              "      <td>3.1212</td>\n",
              "      <td>2.4921</td>\n",
              "      <td>3.5844</td>\n",
              "      <td>3.5400</td>\n",
              "      <td>3.3805</td>\n",
              "      <td>3.2003</td>\n",
              "      <td>6.8671</td>\n",
              "    </tr>\n",
              "    <tr>\n",
              "      <th>752</th>\n",
              "      <td>0.16084</td>\n",
              "      <td>0.56499</td>\n",
              "      <td>0.59194</td>\n",
              "      <td>415</td>\n",
              "      <td>413</td>\n",
              "      <td>0.004550</td>\n",
              "      <td>0.000220</td>\n",
              "      <td>0.00143</td>\n",
              "      <td>0.000006</td>\n",
              "      <td>0.00016</td>\n",
              "      <td>...</td>\n",
              "      <td>19.6733</td>\n",
              "      <td>1.9704</td>\n",
              "      <td>1.7451</td>\n",
              "      <td>1.8277</td>\n",
              "      <td>2.4976</td>\n",
              "      <td>5.2981</td>\n",
              "      <td>4.2616</td>\n",
              "      <td>6.3042</td>\n",
              "      <td>10.9058</td>\n",
              "      <td>28.4170</td>\n",
              "    </tr>\n",
              "    <tr>\n",
              "      <th>753</th>\n",
              "      <td>0.88389</td>\n",
              "      <td>0.72335</td>\n",
              "      <td>0.46815</td>\n",
              "      <td>381</td>\n",
              "      <td>380</td>\n",
              "      <td>0.005069</td>\n",
              "      <td>0.000103</td>\n",
              "      <td>0.00076</td>\n",
              "      <td>0.000004</td>\n",
              "      <td>0.00011</td>\n",
              "      <td>...</td>\n",
              "      <td>137.3126</td>\n",
              "      <td>51.5607</td>\n",
              "      <td>44.4641</td>\n",
              "      <td>26.1586</td>\n",
              "      <td>6.3076</td>\n",
              "      <td>2.8601</td>\n",
              "      <td>2.5361</td>\n",
              "      <td>3.5377</td>\n",
              "      <td>3.3545</td>\n",
              "      <td>5.0424</td>\n",
              "    </tr>\n",
              "    <tr>\n",
              "      <th>754</th>\n",
              "      <td>0.83782</td>\n",
              "      <td>0.74890</td>\n",
              "      <td>0.49823</td>\n",
              "      <td>340</td>\n",
              "      <td>339</td>\n",
              "      <td>0.005679</td>\n",
              "      <td>0.000055</td>\n",
              "      <td>0.00092</td>\n",
              "      <td>0.000005</td>\n",
              "      <td>0.00017</td>\n",
              "      <td>...</td>\n",
              "      <td>5.4425</td>\n",
              "      <td>19.1607</td>\n",
              "      <td>12.8312</td>\n",
              "      <td>8.9434</td>\n",
              "      <td>2.2044</td>\n",
              "      <td>1.9496</td>\n",
              "      <td>1.9664</td>\n",
              "      <td>2.6801</td>\n",
              "      <td>2.8332</td>\n",
              "      <td>3.7131</td>\n",
              "    </tr>\n",
              "    <tr>\n",
              "      <th>755</th>\n",
              "      <td>0.81304</td>\n",
              "      <td>0.76471</td>\n",
              "      <td>0.46374</td>\n",
              "      <td>340</td>\n",
              "      <td>339</td>\n",
              "      <td>0.005676</td>\n",
              "      <td>0.000037</td>\n",
              "      <td>0.00078</td>\n",
              "      <td>0.000004</td>\n",
              "      <td>0.00014</td>\n",
              "      <td>...</td>\n",
              "      <td>11.1487</td>\n",
              "      <td>62.9927</td>\n",
              "      <td>21.8152</td>\n",
              "      <td>9.2457</td>\n",
              "      <td>4.8555</td>\n",
              "      <td>3.0551</td>\n",
              "      <td>3.0415</td>\n",
              "      <td>4.0116</td>\n",
              "      <td>2.6217</td>\n",
              "      <td>3.1527</td>\n",
              "    </tr>\n",
              "  </tbody>\n",
              "</table>\n",
              "<p>756 rows × 752 columns</p>\n",
              "</div>\n",
              "      <button class=\"colab-df-convert\" onclick=\"convertToInteractive('df-c2483efd-b0bf-44b9-b876-c97205ac0b3c')\"\n",
              "              title=\"Convert this dataframe to an interactive table.\"\n",
              "              style=\"display:none;\">\n",
              "\n",
              "  <svg xmlns=\"http://www.w3.org/2000/svg\" height=\"24px\"viewBox=\"0 0 24 24\"\n",
              "       width=\"24px\">\n",
              "    <path d=\"M0 0h24v24H0V0z\" fill=\"none\"/>\n",
              "    <path d=\"M18.56 5.44l.94 2.06.94-2.06 2.06-.94-2.06-.94-.94-2.06-.94 2.06-2.06.94zm-11 1L8.5 8.5l.94-2.06 2.06-.94-2.06-.94L8.5 2.5l-.94 2.06-2.06.94zm10 10l.94 2.06.94-2.06 2.06-.94-2.06-.94-.94-2.06-.94 2.06-2.06.94z\"/><path d=\"M17.41 7.96l-1.37-1.37c-.4-.4-.92-.59-1.43-.59-.52 0-1.04.2-1.43.59L10.3 9.45l-7.72 7.72c-.78.78-.78 2.05 0 2.83L4 21.41c.39.39.9.59 1.41.59.51 0 1.02-.2 1.41-.59l7.78-7.78 2.81-2.81c.8-.78.8-2.07 0-2.86zM5.41 20L4 18.59l7.72-7.72 1.47 1.35L5.41 20z\"/>\n",
              "  </svg>\n",
              "      </button>\n",
              "\n",
              "\n",
              "\n",
              "    <div id=\"df-276a78d2-5f8a-4307-a466-03ca88e95d38\">\n",
              "      <button class=\"colab-df-quickchart\" onclick=\"quickchart('df-276a78d2-5f8a-4307-a466-03ca88e95d38')\"\n",
              "              title=\"Suggest charts.\"\n",
              "              style=\"display:none;\">\n",
              "\n",
              "<svg xmlns=\"http://www.w3.org/2000/svg\" height=\"24px\"viewBox=\"0 0 24 24\"\n",
              "     width=\"24px\">\n",
              "    <g>\n",
              "        <path d=\"M19 3H5c-1.1 0-2 .9-2 2v14c0 1.1.9 2 2 2h14c1.1 0 2-.9 2-2V5c0-1.1-.9-2-2-2zM9 17H7v-7h2v7zm4 0h-2V7h2v10zm4 0h-2v-4h2v4z\"/>\n",
              "    </g>\n",
              "</svg>\n",
              "      </button>\n",
              "    </div>\n",
              "\n",
              "<style>\n",
              "  .colab-df-quickchart {\n",
              "    background-color: #E8F0FE;\n",
              "    border: none;\n",
              "    border-radius: 50%;\n",
              "    cursor: pointer;\n",
              "    display: none;\n",
              "    fill: #1967D2;\n",
              "    height: 32px;\n",
              "    padding: 0 0 0 0;\n",
              "    width: 32px;\n",
              "  }\n",
              "\n",
              "  .colab-df-quickchart:hover {\n",
              "    background-color: #E2EBFA;\n",
              "    box-shadow: 0px 1px 2px rgba(60, 64, 67, 0.3), 0px 1px 3px 1px rgba(60, 64, 67, 0.15);\n",
              "    fill: #174EA6;\n",
              "  }\n",
              "\n",
              "  [theme=dark] .colab-df-quickchart {\n",
              "    background-color: #3B4455;\n",
              "    fill: #D2E3FC;\n",
              "  }\n",
              "\n",
              "  [theme=dark] .colab-df-quickchart:hover {\n",
              "    background-color: #434B5C;\n",
              "    box-shadow: 0px 1px 3px 1px rgba(0, 0, 0, 0.15);\n",
              "    filter: drop-shadow(0px 1px 2px rgba(0, 0, 0, 0.3));\n",
              "    fill: #FFFFFF;\n",
              "  }\n",
              "</style>\n",
              "\n",
              "    <script>\n",
              "      async function quickchart(key) {\n",
              "        const containerElement = document.querySelector('#' + key);\n",
              "        const charts = await google.colab.kernel.invokeFunction(\n",
              "            'suggestCharts', [key], {});\n",
              "      }\n",
              "    </script>\n",
              "\n",
              "      <script>\n",
              "\n",
              "function displayQuickchartButton(domScope) {\n",
              "  let quickchartButtonEl =\n",
              "    domScope.querySelector('#df-276a78d2-5f8a-4307-a466-03ca88e95d38 button.colab-df-quickchart');\n",
              "  quickchartButtonEl.style.display =\n",
              "    google.colab.kernel.accessAllowed ? 'block' : 'none';\n",
              "}\n",
              "\n",
              "        displayQuickchartButton(document);\n",
              "      </script>\n",
              "      <style>\n",
              "    .colab-df-container {\n",
              "      display:flex;\n",
              "      flex-wrap:wrap;\n",
              "      gap: 12px;\n",
              "    }\n",
              "\n",
              "    .colab-df-convert {\n",
              "      background-color: #E8F0FE;\n",
              "      border: none;\n",
              "      border-radius: 50%;\n",
              "      cursor: pointer;\n",
              "      display: none;\n",
              "      fill: #1967D2;\n",
              "      height: 32px;\n",
              "      padding: 0 0 0 0;\n",
              "      width: 32px;\n",
              "    }\n",
              "\n",
              "    .colab-df-convert:hover {\n",
              "      background-color: #E2EBFA;\n",
              "      box-shadow: 0px 1px 2px rgba(60, 64, 67, 0.3), 0px 1px 3px 1px rgba(60, 64, 67, 0.15);\n",
              "      fill: #174EA6;\n",
              "    }\n",
              "\n",
              "    [theme=dark] .colab-df-convert {\n",
              "      background-color: #3B4455;\n",
              "      fill: #D2E3FC;\n",
              "    }\n",
              "\n",
              "    [theme=dark] .colab-df-convert:hover {\n",
              "      background-color: #434B5C;\n",
              "      box-shadow: 0px 1px 3px 1px rgba(0, 0, 0, 0.15);\n",
              "      filter: drop-shadow(0px 1px 2px rgba(0, 0, 0, 0.3));\n",
              "      fill: #FFFFFF;\n",
              "    }\n",
              "  </style>\n",
              "\n",
              "      <script>\n",
              "        const buttonEl =\n",
              "          document.querySelector('#df-c2483efd-b0bf-44b9-b876-c97205ac0b3c button.colab-df-convert');\n",
              "        buttonEl.style.display =\n",
              "          google.colab.kernel.accessAllowed ? 'block' : 'none';\n",
              "\n",
              "        async function convertToInteractive(key) {\n",
              "          const element = document.querySelector('#df-c2483efd-b0bf-44b9-b876-c97205ac0b3c');\n",
              "          const dataTable =\n",
              "            await google.colab.kernel.invokeFunction('convertToInteractive',\n",
              "                                                     [key], {});\n",
              "          if (!dataTable) return;\n",
              "\n",
              "          const docLinkHtml = 'Like what you see? Visit the ' +\n",
              "            '<a target=\"_blank\" href=https://colab.research.google.com/notebooks/data_table.ipynb>data table notebook</a>'\n",
              "            + ' to learn more about interactive tables.';\n",
              "          element.innerHTML = '';\n",
              "          dataTable['output_type'] = 'display_data';\n",
              "          await google.colab.output.renderOutput(dataTable, element);\n",
              "          const docLink = document.createElement('div');\n",
              "          docLink.innerHTML = docLinkHtml;\n",
              "          element.appendChild(docLink);\n",
              "        }\n",
              "      </script>\n",
              "    </div>\n",
              "  </div>\n"
            ]
          },
          "metadata": {},
          "execution_count": 47
        }
      ]
    },
    {
      "cell_type": "code",
      "source": [
        "X = data\n",
        "y = data2['class']"
      ],
      "metadata": {
        "id": "iogRAseGp6gF"
      },
      "id": "iogRAseGp6gF",
      "execution_count": 48,
      "outputs": []
    },
    {
      "cell_type": "code",
      "source": [
        "X_train, X_test, y_train, y_test = train_test_split(X, y, test_size=0.20, random_state=42)"
      ],
      "metadata": {
        "id": "WWB2Qd03pi7P"
      },
      "id": "WWB2Qd03pi7P",
      "execution_count": 49,
      "outputs": []
    },
    {
      "cell_type": "code",
      "source": [
        "X_train.shape"
      ],
      "metadata": {
        "colab": {
          "base_uri": "https://localhost:8080/"
        },
        "id": "Zwukdi80qI3z",
        "outputId": "903a3517-6126-44da-aa3e-373843eca00b"
      },
      "id": "Zwukdi80qI3z",
      "execution_count": 50,
      "outputs": [
        {
          "output_type": "execute_result",
          "data": {
            "text/plain": [
              "(604, 752)"
            ]
          },
          "metadata": {},
          "execution_count": 50
        }
      ]
    },
    {
      "cell_type": "markdown",
      "source": [
        "Standardizing the data"
      ],
      "metadata": {
        "id": "7VqMyCj7F8Qf"
      },
      "id": "7VqMyCj7F8Qf"
    },
    {
      "cell_type": "code",
      "source": [
        "scaler = StandardScaler()\n",
        "df = scaler.fit_transform(X_train)"
      ],
      "metadata": {
        "id": "v0jW8fweF-4-"
      },
      "id": "v0jW8fweF-4-",
      "execution_count": 51,
      "outputs": []
    },
    {
      "cell_type": "code",
      "source": [
        "df_meaned = df\n",
        "df_meaned.shape"
      ],
      "metadata": {
        "colab": {
          "base_uri": "https://localhost:8080/"
        },
        "id": "sEcXruhyPiyO",
        "outputId": "b421177d-296e-4279-9c4a-0f3147e513ac"
      },
      "id": "sEcXruhyPiyO",
      "execution_count": 52,
      "outputs": [
        {
          "output_type": "execute_result",
          "data": {
            "text/plain": [
              "(604, 752)"
            ]
          },
          "metadata": {},
          "execution_count": 52
        }
      ]
    },
    {
      "cell_type": "code",
      "source": [
        "df1 = pd.DataFrame(df_meaned)"
      ],
      "metadata": {
        "id": "R-YU6BLFs-KD"
      },
      "id": "R-YU6BLFs-KD",
      "execution_count": 53,
      "outputs": []
    },
    {
      "cell_type": "markdown",
      "source": [
        "Making the rows = column as we require a square matrix for eigen value decomposition. Adding zero columns which wont give any information."
      ],
      "metadata": {
        "id": "AQNwyyaNrfDP"
      },
      "id": "AQNwyyaNrfDP"
    },
    {
      "cell_type": "code",
      "source": [
        "result = df1.combine_first(df1.T).fillna(0.0)"
      ],
      "metadata": {
        "id": "SZzhyb3Ss0yn"
      },
      "id": "SZzhyb3Ss0yn",
      "execution_count": 54,
      "outputs": []
    },
    {
      "cell_type": "code",
      "source": [
        "result.shape"
      ],
      "metadata": {
        "colab": {
          "base_uri": "https://localhost:8080/"
        },
        "id": "Ta9XtMF0s7aA",
        "outputId": "77e7c7e5-0140-4a19-d7cf-90b5c9cceb04"
      },
      "id": "Ta9XtMF0s7aA",
      "execution_count": 55,
      "outputs": [
        {
          "output_type": "execute_result",
          "data": {
            "text/plain": [
              "(752, 752)"
            ]
          },
          "metadata": {},
          "execution_count": 55
        }
      ]
    },
    {
      "cell_type": "code",
      "source": [
        "result = result.to_numpy()\n",
        "result"
      ],
      "metadata": {
        "colab": {
          "base_uri": "https://localhost:8080/"
        },
        "id": "Y0Y9s5IyttMe",
        "outputId": "f62724a2-1e70-4f07-be6e-183c6d71aa3e"
      },
      "id": "Y0Y9s5IyttMe",
      "execution_count": 56,
      "outputs": [
        {
          "output_type": "execute_result",
          "data": {
            "text/plain": [
              "array([[ 0.47126094,  0.56016794, -1.30667773, ..., -0.73448598,\n",
              "        -0.39539864, -0.61971077],\n",
              "       [ 0.41159886,  0.32989777, -0.26548543, ..., -0.4423655 ,\n",
              "        -0.61720284, -0.83269257],\n",
              "       [ 0.51431667,  0.66609222, -0.11570599, ...,  1.08284854,\n",
              "         1.91358583,  1.78676432],\n",
              "       ...,\n",
              "       [-0.73448598, -0.4423655 ,  1.08284854, ...,  0.        ,\n",
              "         0.        ,  0.        ],\n",
              "       [-0.39539864, -0.61720284,  1.91358583, ...,  0.        ,\n",
              "         0.        ,  0.        ],\n",
              "       [-0.61971077, -0.83269257,  1.78676432, ...,  0.        ,\n",
              "         0.        ,  0.        ]])"
            ]
          },
          "metadata": {},
          "execution_count": 56
        }
      ]
    },
    {
      "cell_type": "markdown",
      "source": [
        "Eigen value decomposition"
      ],
      "metadata": {
        "id": "RkyZMk9eMwHH"
      },
      "id": "RkyZMk9eMwHH"
    },
    {
      "cell_type": "code",
      "source": [
        "eigenvalues, eigenvectors = LA.eig(result)\n",
        "eigenvalues = eigenvalues.real\n",
        "eigenvectors = eigenvectors.real"
      ],
      "metadata": {
        "id": "_qmRWApRPPkS"
      },
      "id": "_qmRWApRPPkS",
      "execution_count": 57,
      "outputs": []
    },
    {
      "cell_type": "code",
      "source": [
        "eigenvalues[:10]"
      ],
      "metadata": {
        "colab": {
          "base_uri": "https://localhost:8080/"
        },
        "id": "n8k27Yk6Q-xZ",
        "outputId": "4da31232-6bfe-4919-d7c6-0a6a20dbec1d"
      },
      "id": "n8k27Yk6Q-xZ",
      "execution_count": 58,
      "outputs": [
        {
          "output_type": "execute_result",
          "data": {
            "text/plain": [
              "array([ 132.75006395, -129.17322326,  -92.88186107,   88.00294636,\n",
              "        -73.62893865,   74.12899238,   71.81928484,   65.69837507,\n",
              "        -64.95178251,  -64.95178251])"
            ]
          },
          "metadata": {},
          "execution_count": 58
        }
      ]
    },
    {
      "cell_type": "code",
      "source": [
        "eigenvectors[:3]"
      ],
      "metadata": {
        "colab": {
          "base_uri": "https://localhost:8080/"
        },
        "id": "fH8eK7uHPHt5",
        "outputId": "eebb83d7-550e-420b-8886-32aab58b0c5b"
      },
      "id": "fH8eK7uHPHt5",
      "execution_count": 59,
      "outputs": [
        {
          "output_type": "execute_result",
          "data": {
            "text/plain": [
              "array([[ 0.01168307, -0.04630855, -0.00959803, ..., -0.00284882,\n",
              "        -0.00262015, -0.00271742],\n",
              "       [-0.01173647,  0.02445773,  0.02411508, ..., -0.00582301,\n",
              "        -0.01225115, -0.01267565],\n",
              "       [ 0.01617516, -0.02736427, -0.01765509, ...,  0.0014286 ,\n",
              "        -0.00154386, -0.00164072]])"
            ]
          },
          "metadata": {},
          "execution_count": 59
        }
      ]
    },
    {
      "cell_type": "code",
      "source": [
        "eigenpairs = []\n",
        "for i in range(len(eigenvalues)):\n",
        "  eigenpairs.append((eigenvalues[i], eigenvectors[i]))"
      ],
      "metadata": {
        "id": "QZHM6uFpY3nc"
      },
      "id": "QZHM6uFpY3nc",
      "execution_count": 60,
      "outputs": []
    },
    {
      "cell_type": "code",
      "source": [
        "covariancematrix = PCA(n_components = 10)\n",
        "covariancematrix.fit(df)"
      ],
      "metadata": {
        "colab": {
          "base_uri": "https://localhost:8080/",
          "height": 75
        },
        "id": "7py0XGkuSFlV",
        "outputId": "c3597e94-7c36-4a3c-c753-d38cf72f155b"
      },
      "id": "7py0XGkuSFlV",
      "execution_count": 61,
      "outputs": [
        {
          "output_type": "execute_result",
          "data": {
            "text/plain": [
              "PCA(n_components=10)"
            ],
            "text/html": [
              "<style>#sk-container-id-4 {color: black;background-color: white;}#sk-container-id-4 pre{padding: 0;}#sk-container-id-4 div.sk-toggleable {background-color: white;}#sk-container-id-4 label.sk-toggleable__label {cursor: pointer;display: block;width: 100%;margin-bottom: 0;padding: 0.3em;box-sizing: border-box;text-align: center;}#sk-container-id-4 label.sk-toggleable__label-arrow:before {content: \"▸\";float: left;margin-right: 0.25em;color: #696969;}#sk-container-id-4 label.sk-toggleable__label-arrow:hover:before {color: black;}#sk-container-id-4 div.sk-estimator:hover label.sk-toggleable__label-arrow:before {color: black;}#sk-container-id-4 div.sk-toggleable__content {max-height: 0;max-width: 0;overflow: hidden;text-align: left;background-color: #f0f8ff;}#sk-container-id-4 div.sk-toggleable__content pre {margin: 0.2em;color: black;border-radius: 0.25em;background-color: #f0f8ff;}#sk-container-id-4 input.sk-toggleable__control:checked~div.sk-toggleable__content {max-height: 200px;max-width: 100%;overflow: auto;}#sk-container-id-4 input.sk-toggleable__control:checked~label.sk-toggleable__label-arrow:before {content: \"▾\";}#sk-container-id-4 div.sk-estimator input.sk-toggleable__control:checked~label.sk-toggleable__label {background-color: #d4ebff;}#sk-container-id-4 div.sk-label input.sk-toggleable__control:checked~label.sk-toggleable__label {background-color: #d4ebff;}#sk-container-id-4 input.sk-hidden--visually {border: 0;clip: rect(1px 1px 1px 1px);clip: rect(1px, 1px, 1px, 1px);height: 1px;margin: -1px;overflow: hidden;padding: 0;position: absolute;width: 1px;}#sk-container-id-4 div.sk-estimator {font-family: monospace;background-color: #f0f8ff;border: 1px dotted black;border-radius: 0.25em;box-sizing: border-box;margin-bottom: 0.5em;}#sk-container-id-4 div.sk-estimator:hover {background-color: #d4ebff;}#sk-container-id-4 div.sk-parallel-item::after {content: \"\";width: 100%;border-bottom: 1px solid gray;flex-grow: 1;}#sk-container-id-4 div.sk-label:hover label.sk-toggleable__label {background-color: #d4ebff;}#sk-container-id-4 div.sk-serial::before {content: \"\";position: absolute;border-left: 1px solid gray;box-sizing: border-box;top: 0;bottom: 0;left: 50%;z-index: 0;}#sk-container-id-4 div.sk-serial {display: flex;flex-direction: column;align-items: center;background-color: white;padding-right: 0.2em;padding-left: 0.2em;position: relative;}#sk-container-id-4 div.sk-item {position: relative;z-index: 1;}#sk-container-id-4 div.sk-parallel {display: flex;align-items: stretch;justify-content: center;background-color: white;position: relative;}#sk-container-id-4 div.sk-item::before, #sk-container-id-4 div.sk-parallel-item::before {content: \"\";position: absolute;border-left: 1px solid gray;box-sizing: border-box;top: 0;bottom: 0;left: 50%;z-index: -1;}#sk-container-id-4 div.sk-parallel-item {display: flex;flex-direction: column;z-index: 1;position: relative;background-color: white;}#sk-container-id-4 div.sk-parallel-item:first-child::after {align-self: flex-end;width: 50%;}#sk-container-id-4 div.sk-parallel-item:last-child::after {align-self: flex-start;width: 50%;}#sk-container-id-4 div.sk-parallel-item:only-child::after {width: 0;}#sk-container-id-4 div.sk-dashed-wrapped {border: 1px dashed gray;margin: 0 0.4em 0.5em 0.4em;box-sizing: border-box;padding-bottom: 0.4em;background-color: white;}#sk-container-id-4 div.sk-label label {font-family: monospace;font-weight: bold;display: inline-block;line-height: 1.2em;}#sk-container-id-4 div.sk-label-container {text-align: center;}#sk-container-id-4 div.sk-container {/* jupyter's `normalize.less` sets `[hidden] { display: none; }` but bootstrap.min.css set `[hidden] { display: none !important; }` so we also need the `!important` here to be able to override the default hidden behavior on the sphinx rendered scikit-learn.org. See: https://github.com/scikit-learn/scikit-learn/issues/21755 */display: inline-block !important;position: relative;}#sk-container-id-4 div.sk-text-repr-fallback {display: none;}</style><div id=\"sk-container-id-4\" class=\"sk-top-container\"><div class=\"sk-text-repr-fallback\"><pre>PCA(n_components=10)</pre><b>In a Jupyter environment, please rerun this cell to show the HTML representation or trust the notebook. <br />On GitHub, the HTML representation is unable to render, please try loading this page with nbviewer.org.</b></div><div class=\"sk-container\" hidden><div class=\"sk-item\"><div class=\"sk-estimator sk-toggleable\"><input class=\"sk-toggleable__control sk-hidden--visually\" id=\"sk-estimator-id-4\" type=\"checkbox\" checked><label for=\"sk-estimator-id-4\" class=\"sk-toggleable__label sk-toggleable__label-arrow\">PCA</label><div class=\"sk-toggleable__content\"><pre>PCA(n_components=10)</pre></div></div></div></div></div>"
            ]
          },
          "metadata": {},
          "execution_count": 61
        }
      ]
    },
    {
      "cell_type": "code",
      "source": [
        "plt.xlabel('Principal Components')\n",
        "plt.ylabel('Eigenvalues')\n",
        "plt.ylim(0, max(covariancematrix.explained_variance_))\n",
        "plt.style.context('seaborn-whitegrid')\n",
        "plt.axhline(y = 1, color = 'r', linestyle = '--')\n",
        "plt.plot(covariancematrix.explained_variance_)\n",
        "plt.show()"
      ],
      "metadata": {
        "colab": {
          "base_uri": "https://localhost:8080/",
          "height": 503
        },
        "id": "ZSsl7GiuSkfs",
        "outputId": "5d45ff8a-c4cb-4036-e553-177e929fcafe"
      },
      "id": "ZSsl7GiuSkfs",
      "execution_count": 62,
      "outputs": [
        {
          "output_type": "display_data",
          "data": {
            "text/plain": [
              "<Figure size 800x550 with 1 Axes>"
            ],
            "image/png": "[encoded data removed]"
          },
          "metadata": {}
        }
      ]
    },
    {
      "cell_type": "code",
      "source": [
        "explainedvariance = covariancematrix.explained_variance_ratio_\n",
        "print(explainedvariance)"
      ],
      "metadata": {
        "colab": {
          "base_uri": "https://localhost:8080/"
        },
        "id": "Dj98hQSKUNQn",
        "outputId": "c0f2ae8b-ab2e-4a93-fbc7-1d6fcc7fda4d"
      },
      "id": "Dj98hQSKUNQn",
      "execution_count": 63,
      "outputs": [
        {
          "output_type": "stream",
          "name": "stdout",
          "text": [
            "[0.12861733 0.09279395 0.08595264 0.04449205 0.03621372 0.03070807\n",
            " 0.02598343 0.02251608 0.02060931 0.01905586]\n"
          ]
        }
      ]
    },
    {
      "cell_type": "markdown",
      "source": [
        "Principal Component Selection"
      ],
      "metadata": {
        "id": "8WeIF8OhWmSt"
      },
      "id": "8WeIF8OhWmSt"
    },
    {
      "cell_type": "code",
      "source": [
        "principal_components = explainedvariance[:6]\n",
        "principal_components"
      ],
      "metadata": {
        "colab": {
          "base_uri": "https://localhost:8080/"
        },
        "id": "ip3CNspiWrB3",
        "outputId": "1d26a764-47b9-4d73-d618-a72f73b47e93"
      },
      "id": "ip3CNspiWrB3",
      "execution_count": 64,
      "outputs": [
        {
          "output_type": "execute_result",
          "data": {
            "text/plain": [
              "array([0.12861733, 0.09279395, 0.08595264, 0.04449205, 0.03621372,\n",
              "       0.03070807])"
            ]
          },
          "metadata": {},
          "execution_count": 64
        }
      ]
    },
    {
      "cell_type": "markdown",
      "source": [
        "Projection in a New Feature Space"
      ],
      "metadata": {
        "id": "-yflGByHc8K4"
      },
      "id": "-yflGByHc8K4"
    },
    {
      "cell_type": "code",
      "source": [
        "sorted_index = np.argsort(eigenvalues)[::-1]\n",
        "sorted_eigenvalue = eigenvalues[sorted_index]\n",
        "sorted_eigenvectors = eigenvectors[:,sorted_index]"
      ],
      "metadata": {
        "id": "PotDMUfacPjI"
      },
      "id": "PotDMUfacPjI",
      "execution_count": 65,
      "outputs": []
    },
    {
      "cell_type": "code",
      "source": [
        "eigenvector_subset = sorted_eigenvectors[:,0:len(principal_components)]"
      ],
      "metadata": {
        "id": "Tb1SwJpmcHBF"
      },
      "id": "Tb1SwJpmcHBF",
      "execution_count": 66,
      "outputs": []
    },
    {
      "cell_type": "code",
      "source": [
        "X_reduced = np.dot(eigenvector_subset.transpose(), df_meaned.transpose()).transpose()\n",
        "X_reduced.shape"
      ],
      "metadata": {
        "colab": {
          "base_uri": "https://localhost:8080/"
        },
        "id": "JZSdMK_kZ6WP",
        "outputId": "b457b440-a59a-4283-a00b-cbfbc357a1b2"
      },
      "id": "JZSdMK_kZ6WP",
      "execution_count": 67,
      "outputs": [
        {
          "output_type": "execute_result",
          "data": {
            "text/plain": [
              "(604, 6)"
            ]
          },
          "metadata": {},
          "execution_count": 67
        }
      ]
    },
    {
      "cell_type": "markdown",
      "source": [
        "Logistic Regression before PCA"
      ],
      "metadata": {
        "id": "m0d5InpHnkmk"
      },
      "id": "m0d5InpHnkmk"
    },
    {
      "cell_type": "code",
      "source": [
        "model = LogisticRegression(random_state=42)"
      ],
      "metadata": {
        "id": "zzwYbj5KnrRV"
      },
      "id": "zzwYbj5KnrRV",
      "execution_count": 68,
      "outputs": []
    },
    {
      "cell_type": "code",
      "source": [
        "model.fit(X_train, y_train)"
      ],
      "metadata": {
        "colab": {
          "base_uri": "https://localhost:8080/",
          "height": 218
        },
        "id": "GpxxXTL4nt0m",
        "outputId": "4c44648a-6595-4551-c230-9e322cbc9f3e"
      },
      "id": "GpxxXTL4nt0m",
      "execution_count": 69,
      "outputs": [
        {
          "output_type": "stream",
          "name": "stderr",
          "text": [
            "/usr/local/lib/python3.10/dist-packages/sklearn/linear_model/_logistic.py:458: ConvergenceWarning: lbfgs failed to converge (status=1):\n",
            "STOP: TOTAL NO. of ITERATIONS REACHED LIMIT.\n",
            "\n",
            "Increase the number of iterations (max_iter) or scale the data as shown in:\n",
            "    https://scikit-learn.org/stable/modules/preprocessing.html\n",
            "Please also refer to the documentation for alternative solver options:\n",
            "    https://scikit-learn.org/stable/modules/linear_model.html#logistic-regression\n",
            "  n_iter_i = _check_optimize_result(\n"
          ]
        },
        {
          "output_type": "execute_result",
          "data": {
            "text/plain": [
              "LogisticRegression(random_state=42)"
            ],
            "text/html": [
              "<style>#sk-container-id-5 {color: black;background-color: white;}#sk-container-id-5 pre{padding: 0;}#sk-container-id-5 div.sk-toggleable {background-color: white;}#sk-container-id-5 label.sk-toggleable__label {cursor: pointer;display: block;width: 100%;margin-bottom: 0;padding: 0.3em;box-sizing: border-box;text-align: center;}#sk-container-id-5 label.sk-toggleable__label-arrow:before {content: \"▸\";float: left;margin-right: 0.25em;color: #696969;}#sk-container-id-5 label.sk-toggleable__label-arrow:hover:before {color: black;}#sk-container-id-5 div.sk-estimator:hover label.sk-toggleable__label-arrow:before {color: black;}#sk-container-id-5 div.sk-toggleable__content {max-height: 0;max-width: 0;overflow: hidden;text-align: left;background-color: #f0f8ff;}#sk-container-id-5 div.sk-toggleable__content pre {margin: 0.2em;color: black;border-radius: 0.25em;background-color: #f0f8ff;}#sk-container-id-5 input.sk-toggleable__control:checked~div.sk-toggleable__content {max-height: 200px;max-width: 100%;overflow: auto;}#sk-container-id-5 input.sk-toggleable__control:checked~label.sk-toggleable__label-arrow:before {content: \"▾\";}#sk-container-id-5 div.sk-estimator input.sk-toggleable__control:checked~label.sk-toggleable__label {background-color: #d4ebff;}#sk-container-id-5 div.sk-label input.sk-toggleable__control:checked~label.sk-toggleable__label {background-color: #d4ebff;}#sk-container-id-5 input.sk-hidden--visually {border: 0;clip: rect(1px 1px 1px 1px);clip: rect(1px, 1px, 1px, 1px);height: 1px;margin: -1px;overflow: hidden;padding: 0;position: absolute;width: 1px;}#sk-container-id-5 div.sk-estimator {font-family: monospace;background-color: #f0f8ff;border: 1px dotted black;border-radius: 0.25em;box-sizing: border-box;margin-bottom: 0.5em;}#sk-container-id-5 div.sk-estimator:hover {background-color: #d4ebff;}#sk-container-id-5 div.sk-parallel-item::after {content: \"\";width: 100%;border-bottom: 1px solid gray;flex-grow: 1;}#sk-container-id-5 div.sk-label:hover label.sk-toggleable__label {background-color: #d4ebff;}#sk-container-id-5 div.sk-serial::before {content: \"\";position: absolute;border-left: 1px solid gray;box-sizing: border-box;top: 0;bottom: 0;left: 50%;z-index: 0;}#sk-container-id-5 div.sk-serial {display: flex;flex-direction: column;align-items: center;background-color: white;padding-right: 0.2em;padding-left: 0.2em;position: relative;}#sk-container-id-5 div.sk-item {position: relative;z-index: 1;}#sk-container-id-5 div.sk-parallel {display: flex;align-items: stretch;justify-content: center;background-color: white;position: relative;}#sk-container-id-5 div.sk-item::before, #sk-container-id-5 div.sk-parallel-item::before {content: \"\";position: absolute;border-left: 1px solid gray;box-sizing: border-box;top: 0;bottom: 0;left: 50%;z-index: -1;}#sk-container-id-5 div.sk-parallel-item {display: flex;flex-direction: column;z-index: 1;position: relative;background-color: white;}#sk-container-id-5 div.sk-parallel-item:first-child::after {align-self: flex-end;width: 50%;}#sk-container-id-5 div.sk-parallel-item:last-child::after {align-self: flex-start;width: 50%;}#sk-container-id-5 div.sk-parallel-item:only-child::after {width: 0;}#sk-container-id-5 div.sk-dashed-wrapped {border: 1px dashed gray;margin: 0 0.4em 0.5em 0.4em;box-sizing: border-box;padding-bottom: 0.4em;background-color: white;}#sk-container-id-5 div.sk-label label {font-family: monospace;font-weight: bold;display: inline-block;line-height: 1.2em;}#sk-container-id-5 div.sk-label-container {text-align: center;}#sk-container-id-5 div.sk-container {/* jupyter's `normalize.less` sets `[hidden] { display: none; }` but bootstrap.min.css set `[hidden] { display: none !important; }` so we also need the `!important` here to be able to override the default hidden behavior on the sphinx rendered scikit-learn.org. See: https://github.com/scikit-learn/scikit-learn/issues/21755 */display: inline-block !important;position: relative;}#sk-container-id-5 div.sk-text-repr-fallback {display: none;}</style><div id=\"sk-container-id-5\" class=\"sk-top-container\"><div class=\"sk-text-repr-fallback\"><pre>LogisticRegression(random_state=42)</pre><b>In a Jupyter environment, please rerun this cell to show the HTML representation or trust the notebook. <br />On GitHub, the HTML representation is unable to render, please try loading this page with nbviewer.org.</b></div><div class=\"sk-container\" hidden><div class=\"sk-item\"><div class=\"sk-estimator sk-toggleable\"><input class=\"sk-toggleable__control sk-hidden--visually\" id=\"sk-estimator-id-5\" type=\"checkbox\" checked><label for=\"sk-estimator-id-5\" class=\"sk-toggleable__label sk-toggleable__label-arrow\">LogisticRegression</label><div class=\"sk-toggleable__content\"><pre>LogisticRegression(random_state=42)</pre></div></div></div></div></div>"
            ]
          },
          "metadata": {},
          "execution_count": 69
        }
      ]
    },
    {
      "cell_type": "code",
      "source": [
        "y_pred = model.predict(X_test)"
      ],
      "metadata": {
        "id": "zWqydPIZnxfg"
      },
      "id": "zWqydPIZnxfg",
      "execution_count": 70,
      "outputs": []
    },
    {
      "cell_type": "code",
      "source": [
        "confusionmatrix = confusion_matrix(y_true=y_test, y_pred=y_pred)"
      ],
      "metadata": {
        "id": "GLtovATvn3Pr"
      },
      "id": "GLtovATvn3Pr",
      "execution_count": 71,
      "outputs": []
    },
    {
      "cell_type": "code",
      "source": [
        "fig, ax = plt.subplots(figsize=(5, 5))\n",
        "ax.matshow(confusionmatrix, cmap = plt.cm.Oranges, alpha=0.3)\n",
        "for i in range(confusionmatrix.shape[0]):\n",
        "  for j in range(confusionmatrix.shape[1]):\n",
        "    ax.text(x=j, y=i, s=confusionmatrix[i, j], va='center', ha='center', size='xx-large')\n",
        "plt.xlabel('Predictions')\n",
        "plt.ylabel('Actual')\n",
        "plt.title('Confusion Matrix')"
      ],
      "metadata": {
        "colab": {
          "base_uri": "https://localhost:8080/",
          "height": 503
        },
        "id": "sS8kdfOon6hW",
        "outputId": "4c9b6c14-f6e3-4e4e-eb77-dce21593083c"
      },
      "id": "sS8kdfOon6hW",
      "execution_count": 72,
      "outputs": [
        {
          "output_type": "execute_result",
          "data": {
            "text/plain": [
              "Text(0.5, 1.0, 'Confusion Matrix')"
            ]
          },
          "metadata": {},
          "execution_count": 72
        },
        {
          "output_type": "display_data",
          "data": {
            "text/plain": [
              "<Figure size 500x500 with 1 Axes>"
            ],
            "image/png": "[encoded data removed]"
          },
          "metadata": {}
        }
      ]
    },
    {
      "cell_type": "code",
      "source": [
        "precision = precision_score(y_test, y_pred)\n",
        "precision"
      ],
      "metadata": {
        "colab": {
          "base_uri": "https://localhost:8080/"
        },
        "id": "_PayKnEyn-8r",
        "outputId": "e6023a4a-b7ae-479b-da52-05e9f31a4763"
      },
      "id": "_PayKnEyn-8r",
      "execution_count": 73,
      "outputs": [
        {
          "output_type": "execute_result",
          "data": {
            "text/plain": [
              "0.7703703703703704"
            ]
          },
          "metadata": {},
          "execution_count": 73
        }
      ]
    },
    {
      "cell_type": "code",
      "source": [
        "recall = recall_score(y_test, y_pred)\n",
        "recall"
      ],
      "metadata": {
        "colab": {
          "base_uri": "https://localhost:8080/"
        },
        "id": "kXDK3RTfoDKA",
        "outputId": "5759ea6f-caba-4964-b175-57f7839bb35d"
      },
      "id": "kXDK3RTfoDKA",
      "execution_count": 74,
      "outputs": [
        {
          "output_type": "execute_result",
          "data": {
            "text/plain": [
              "0.9122807017543859"
            ]
          },
          "metadata": {},
          "execution_count": 74
        }
      ]
    },
    {
      "cell_type": "markdown",
      "source": [
        "Logisitic Regression after PCA"
      ],
      "metadata": {
        "id": "YOFs70KLzBgD"
      },
      "id": "YOFs70KLzBgD"
    },
    {
      "cell_type": "code",
      "source": [
        "X_train = X_reduced\n",
        "y_train = y_train"
      ],
      "metadata": {
        "id": "mAGD_Ulk9FFa"
      },
      "id": "mAGD_Ulk9FFa",
      "execution_count": 75,
      "outputs": []
    },
    {
      "cell_type": "code",
      "source": [
        "model = LogisticRegression(random_state=42)"
      ],
      "metadata": {
        "id": "D7aRjO66vBc4"
      },
      "id": "D7aRjO66vBc4",
      "execution_count": 76,
      "outputs": []
    },
    {
      "cell_type": "code",
      "source": [
        "model.fit(X_train, y_train)"
      ],
      "metadata": {
        "colab": {
          "base_uri": "https://localhost:8080/",
          "height": 75
        },
        "id": "bS8tU17Azw8w",
        "outputId": "9939d90b-ec19-40d4-a4a7-a72db18380a4"
      },
      "id": "bS8tU17Azw8w",
      "execution_count": 77,
      "outputs": [
        {
          "output_type": "execute_result",
          "data": {
            "text/plain": [
              "LogisticRegression(random_state=42)"
            ],
            "text/html": [
              "<style>#sk-container-id-6 {color: black;background-color: white;}#sk-container-id-6 pre{padding: 0;}#sk-container-id-6 div.sk-toggleable {background-color: white;}#sk-container-id-6 label.sk-toggleable__label {cursor: pointer;display: block;width: 100%;margin-bottom: 0;padding: 0.3em;box-sizing: border-box;text-align: center;}#sk-container-id-6 label.sk-toggleable__label-arrow:before {content: \"▸\";float: left;margin-right: 0.25em;color: #696969;}#sk-container-id-6 label.sk-toggleable__label-arrow:hover:before {color: black;}#sk-container-id-6 div.sk-estimator:hover label.sk-toggleable__label-arrow:before {color: black;}#sk-container-id-6 div.sk-toggleable__content {max-height: 0;max-width: 0;overflow: hidden;text-align: left;background-color: #f0f8ff;}#sk-container-id-6 div.sk-toggleable__content pre {margin: 0.2em;color: black;border-radius: 0.25em;background-color: #f0f8ff;}#sk-container-id-6 input.sk-toggleable__control:checked~div.sk-toggleable__content {max-height: 200px;max-width: 100%;overflow: auto;}#sk-container-id-6 input.sk-toggleable__control:checked~label.sk-toggleable__label-arrow:before {content: \"▾\";}#sk-container-id-6 div.sk-estimator input.sk-toggleable__control:checked~label.sk-toggleable__label {background-color: #d4ebff;}#sk-container-id-6 div.sk-label input.sk-toggleable__control:checked~label.sk-toggleable__label {background-color: #d4ebff;}#sk-container-id-6 input.sk-hidden--visually {border: 0;clip: rect(1px 1px 1px 1px);clip: rect(1px, 1px, 1px, 1px);height: 1px;margin: -1px;overflow: hidden;padding: 0;position: absolute;width: 1px;}#sk-container-id-6 div.sk-estimator {font-family: monospace;background-color: #f0f8ff;border: 1px dotted black;border-radius: 0.25em;box-sizing: border-box;margin-bottom: 0.5em;}#sk-container-id-6 div.sk-estimator:hover {background-color: #d4ebff;}#sk-container-id-6 div.sk-parallel-item::after {content: \"\";width: 100%;border-bottom: 1px solid gray;flex-grow: 1;}#sk-container-id-6 div.sk-label:hover label.sk-toggleable__label {background-color: #d4ebff;}#sk-container-id-6 div.sk-serial::before {content: \"\";position: absolute;border-left: 1px solid gray;box-sizing: border-box;top: 0;bottom: 0;left: 50%;z-index: 0;}#sk-container-id-6 div.sk-serial {display: flex;flex-direction: column;align-items: center;background-color: white;padding-right: 0.2em;padding-left: 0.2em;position: relative;}#sk-container-id-6 div.sk-item {position: relative;z-index: 1;}#sk-container-id-6 div.sk-parallel {display: flex;align-items: stretch;justify-content: center;background-color: white;position: relative;}#sk-container-id-6 div.sk-item::before, #sk-container-id-6 div.sk-parallel-item::before {content: \"\";position: absolute;border-left: 1px solid gray;box-sizing: border-box;top: 0;bottom: 0;left: 50%;z-index: -1;}#sk-container-id-6 div.sk-parallel-item {display: flex;flex-direction: column;z-index: 1;position: relative;background-color: white;}#sk-container-id-6 div.sk-parallel-item:first-child::after {align-self: flex-end;width: 50%;}#sk-container-id-6 div.sk-parallel-item:last-child::after {align-self: flex-start;width: 50%;}#sk-container-id-6 div.sk-parallel-item:only-child::after {width: 0;}#sk-container-id-6 div.sk-dashed-wrapped {border: 1px dashed gray;margin: 0 0.4em 0.5em 0.4em;box-sizing: border-box;padding-bottom: 0.4em;background-color: white;}#sk-container-id-6 div.sk-label label {font-family: monospace;font-weight: bold;display: inline-block;line-height: 1.2em;}#sk-container-id-6 div.sk-label-container {text-align: center;}#sk-container-id-6 div.sk-container {/* jupyter's `normalize.less` sets `[hidden] { display: none; }` but bootstrap.min.css set `[hidden] { display: none !important; }` so we also need the `!important` here to be able to override the default hidden behavior on the sphinx rendered scikit-learn.org. See: https://github.com/scikit-learn/scikit-learn/issues/21755 */display: inline-block !important;position: relative;}#sk-container-id-6 div.sk-text-repr-fallback {display: none;}</style><div id=\"sk-container-id-6\" class=\"sk-top-container\"><div class=\"sk-text-repr-fallback\"><pre>LogisticRegression(random_state=42)</pre><b>In a Jupyter environment, please rerun this cell to show the HTML representation or trust the notebook. <br />On GitHub, the HTML representation is unable to render, please try loading this page with nbviewer.org.</b></div><div class=\"sk-container\" hidden><div class=\"sk-item\"><div class=\"sk-estimator sk-toggleable\"><input class=\"sk-toggleable__control sk-hidden--visually\" id=\"sk-estimator-id-6\" type=\"checkbox\" checked><label for=\"sk-estimator-id-6\" class=\"sk-toggleable__label sk-toggleable__label-arrow\">LogisticRegression</label><div class=\"sk-toggleable__content\"><pre>LogisticRegression(random_state=42)</pre></div></div></div></div></div>"
            ]
          },
          "metadata": {},
          "execution_count": 77
        }
      ]
    },
    {
      "cell_type": "markdown",
      "source": [
        "Preprocess X_test data now before applying PCA"
      ],
      "metadata": {
        "id": "P7UpmOQxuSya"
      },
      "id": "P7UpmOQxuSya"
    },
    {
      "cell_type": "code",
      "source": [
        "dftest = scaler.transform(X_test)"
      ],
      "metadata": {
        "id": "3Dhi8l1vuR_C"
      },
      "id": "3Dhi8l1vuR_C",
      "execution_count": 79,
      "outputs": []
    },
    {
      "cell_type": "code",
      "source": [
        "Xtest_reduced = np.dot(eigenvector_subset.transpose(), dftest.transpose()).transpose()\n",
        "Xtest_reduced.shape"
      ],
      "metadata": {
        "colab": {
          "base_uri": "https://localhost:8080/"
        },
        "id": "sRW9o0s5wHsw",
        "outputId": "bfba6afd-5576-4e48-d5a9-38b9528c8a22"
      },
      "id": "sRW9o0s5wHsw",
      "execution_count": 80,
      "outputs": [
        {
          "output_type": "execute_result",
          "data": {
            "text/plain": [
              "(152, 6)"
            ]
          },
          "metadata": {},
          "execution_count": 80
        }
      ]
    },
    {
      "cell_type": "code",
      "source": [
        "y_pred = model.predict(Xtest_reduced)"
      ],
      "metadata": {
        "id": "rFUFUtGQzw_W"
      },
      "id": "rFUFUtGQzw_W",
      "execution_count": 81,
      "outputs": []
    },
    {
      "cell_type": "code",
      "source": [
        "confusionmatrix = confusion_matrix(y_true=y_test, y_pred=y_pred)"
      ],
      "metadata": {
        "id": "9dKPogal1XI5"
      },
      "id": "9dKPogal1XI5",
      "execution_count": 82,
      "outputs": []
    },
    {
      "cell_type": "code",
      "source": [
        "fig, ax = plt.subplots(figsize=(5, 5))\n",
        "ax.matshow(confusionmatrix, cmap = plt.cm.Oranges, alpha=0.3)\n",
        "for i in range(confusionmatrix.shape[0]):\n",
        "  for j in range(confusionmatrix.shape[1]):\n",
        "    ax.text(x=j, y=i, s=confusionmatrix[i, j], va='center', ha='center', size='xx-large')\n",
        "plt.xlabel('Predictions')\n",
        "plt.ylabel('Actual')\n",
        "plt.title('Confusion Matrix')"
      ],
      "metadata": {
        "colab": {
          "base_uri": "https://localhost:8080/",
          "height": 503
        },
        "id": "CJl6D9nK2jb4",
        "outputId": "c000026c-3db1-4c2b-ab21-04b4c67fbd40"
      },
      "id": "CJl6D9nK2jb4",
      "execution_count": 83,
      "outputs": [
        {
          "output_type": "execute_result",
          "data": {
            "text/plain": [
              "Text(0.5, 1.0, 'Confusion Matrix')"
            ]
          },
          "metadata": {},
          "execution_count": 83
        },
        {
          "output_type": "display_data",
          "data": {
            "text/plain": [
              "<Figure size 500x500 with 1 Axes>"
            ],
            "image/png": "[encoded data removed]"
          },
          "metadata": {}
        }
      ]
    },
    {
      "cell_type": "markdown",
      "source": [
        "Precision = TP / ( FP + TP )"
      ],
      "metadata": {
        "id": "DoRG1STO3oLu"
      },
      "id": "DoRG1STO3oLu"
    },
    {
      "cell_type": "code",
      "source": [
        "precision = precision_score(y_test, y_pred)\n",
        "precision"
      ],
      "metadata": {
        "colab": {
          "base_uri": "https://localhost:8080/"
        },
        "id": "oWPkN0S23nmN",
        "outputId": "dcfcd15b-3282-4ad8-b5f0-0dea97f6d4ef"
      },
      "id": "oWPkN0S23nmN",
      "execution_count": 84,
      "outputs": [
        {
          "output_type": "execute_result",
          "data": {
            "text/plain": [
              "0.8549618320610687"
            ]
          },
          "metadata": {},
          "execution_count": 84
        }
      ]
    },
    {
      "cell_type": "markdown",
      "source": [
        "Recall = TP / ( FN + TP )"
      ],
      "metadata": {
        "id": "XeNaNN7K34ZN"
      },
      "id": "XeNaNN7K34ZN"
    },
    {
      "cell_type": "code",
      "source": [
        "recall = recall_score(y_test, y_pred)\n",
        "recall"
      ],
      "metadata": {
        "colab": {
          "base_uri": "https://localhost:8080/"
        },
        "id": "UrSv3dG33-44",
        "outputId": "8d612ef2-548f-4a60-fcde-d81643ae0320"
      },
      "id": "UrSv3dG33-44",
      "execution_count": 85,
      "outputs": [
        {
          "output_type": "execute_result",
          "data": {
            "text/plain": [
              "0.9824561403508771"
            ]
          },
          "metadata": {},
          "execution_count": 85
        }
      ]
    },
    {
      "cell_type": "markdown",
      "id": "e057e3ee",
      "metadata": {
        "id": "e057e3ee"
      },
      "source": [
        "## 3. EM Algorithm (35 points)\n",
        "\n",
        "Etimate the probability distribution in a 1-dimensional dataset\n",
        "There are two Normal distributions  𝑁(𝜇1,𝜎1^2) and 𝑁(𝜇2,𝜎2^2).\n",
        "There are 5 paramaters to estimate: 𝜃=(𝑤,𝜇1,𝜎1^2,𝜇2,𝜎2^2) where 𝑤 is the probability that the data comes from the first normal probability distribution and (1-𝑤) comes from the second normal probability distribution.\n",
        "The probability density function (PDF) of the mixture model is: 𝑓(𝑥|𝜃)=𝑤 𝑓1(𝑥 | 𝜇1,𝜎1^2)+(1−𝑤) 𝑓2(𝑥 | 𝜇2,𝜎2^2)\n",
        "Your goal is to best fit a given probability density by finding 𝜃=(𝑤,𝜇1,𝜎1^2,𝜇2,𝜎2^2) through EM iterations.\n",
        "\n",
        "Using the following way to produce data:\n",
        "```python\n",
        "import numpy as np\n",
        "random_seed=36784765\n",
        "np.random.seed(random_seed)\n",
        "\n",
        "Mean1 = 9.0  # Input parameter, mean of first normal probability distribution\n",
        "Standard_dev1 = 5.0 #@param {type:\"number\"}\n",
        "Mean2 = 2.0 # Input parameter, mean of second normal  probability distribution\n",
        "Standard_dev2 = 2.0 #@param {type:\"number\"}\n",
        "\n",
        "# generate data\n",
        "y1 = np.random.normal(Mean1, Standard_dev1, 500)\n",
        "y2 = np.random.normal(Mean2, Standard_dev2, 2000)\n",
        "data=np.append(y1,y2)\n",
        "\n",
        "```\n",
        "\n",
        "(1) Using a single Gaussion to estimate and draw a picure to see the result: (5 points)\n",
        "```python\n",
        "class Gaussian:\n",
        "\"Model univariate Gaussian\"\n",
        "def __init__(self, mu, sigma):\n",
        "    #mean and standard deviation\n",
        "\n",
        "\n",
        "#probability density function\n",
        "def pdf(self, datum):\n",
        "    \"Probability of a data point given the current parameters\"\n",
        "```\n",
        "\n",
        "(2) Using a 2 Gaussian mixture model to estimate and draw a picture to see the result(Do not use sklearn GaussianMixture): (30 points)\n",
        "```python\n",
        "class GaussianMixture_self:\n",
        "\"Model mixture of two univariate Gaussians and their EM estimation\"\n",
        "\n",
        "def __init__(self, data, mu_min=min(data), mu_max=max(data), sigma_min=1, sigma_max=1, mix=.5):\n",
        "\n",
        "\n",
        "def Estep(self):\n",
        "    \"Perform an E(stimation)-step, assign each point to gaussian 1 or 2 with a percentage\"\n",
        "\n",
        "def Mstep(self, weights):\n",
        "    \"Perform an M(aximization)-step\"\n",
        "\n",
        "def iterate(self, N=1, verbose=False):\n",
        "    \"Perform N iterations, then compute log-likelihood\"\n",
        "\n",
        "def pdf(self, x):\n",
        "        \n",
        "```"
      ]
    },
    {
      "cell_type": "code",
      "source": [
        "import numpy as np\n",
        "random_seed=36784765\n",
        "np.random.seed(random_seed)\n",
        "\n",
        "Mean1 = 9.0  # Input parameter, mean of first normal probability distribution\n",
        "Standard_dev1 = 5.0 #\n",
        "Mean2 = 2.0 # Input parameter, mean of second normal  probability distribution\n",
        "Standard_dev2 = 2.0 #@\n",
        "\n",
        "# generate data\n",
        "y1 = np.random.normal(Mean1, Standard_dev1, 500)\n",
        "y2 = np.random.normal(Mean2, Standard_dev2, 2000)\n",
        "data=np.append(y1,y2)"
      ],
      "metadata": {
        "id": "NaZ65r14PTjB"
      },
      "id": "NaZ65r14PTjB",
      "execution_count": 97,
      "outputs": []
    },
    {
      "cell_type": "code",
      "source": [
        "class Gaussian:\n",
        "    \"Model univariate Gaussian\"\n",
        "    def __init__(self, mu, sigma):\n",
        "        #mean and standard deviation\n",
        "        self.mu = mu\n",
        "        self.sigma = sigma\n",
        "\n",
        "    def pdf(self, datum):\n",
        "        \"Probability of a data point given the current parameters\"\n",
        "        u = (datum - self.mu) / abs(self.sigma)\n",
        "        y = (1 / (((2 * pi) ** 1/2) * abs(self.sigma))) * exp(-u * u / 2)\n",
        "        return y"
      ],
      "metadata": {
        "id": "jVUqSedsPiq6"
      },
      "id": "jVUqSedsPiq6",
      "execution_count": 98,
      "outputs": []
    },
    {
      "cell_type": "code",
      "source": [
        "mu = data.mean()\n",
        "sigma = data.std()\n",
        "\n",
        "gaussain = Gaussian(mu, sigma)\n",
        "\n",
        "gaussain1 = Gaussian(y1.mean(), y1.std())\n",
        "gaussain2 = Gaussian(y2.mean(), y2.std())\n",
        "\n",
        "x = np.linspace(min(data), max(data), num=1000)\n",
        "\n",
        "l1, l2 = [], []\n",
        "for i in x:\n",
        "  l1.append(gaussain1.pdf(i))\n",
        "for j in x:\n",
        "  l2.append(gaussain2.pdf(j))\n",
        "\n",
        "pdf1 = np.array(l1)\n",
        "pdf2 = np.array(l2)"
      ],
      "metadata": {
        "id": "rIO7oQq8dd3U"
      },
      "id": "rIO7oQq8dd3U",
      "execution_count": 99,
      "outputs": []
    },
    {
      "cell_type": "code",
      "source": [
        "sns.distplot(y1, hist=False, color='black')\n",
        "plt.plot(x, pdf1, color='red')\n",
        "plt.title('Gaussian Distribution for y1 data')\n",
        "plt.xlabel('y1 data')\n",
        "plt.ylabel('Likelihood')\n",
        "plt.show()"
      ],
      "metadata": {
        "colab": {
          "base_uri": "https://localhost:8080/",
          "height": 720
        },
        "id": "Pn6Ttabg_MYd",
        "outputId": "6b026ed8-c845-473f-8572-4282c19d41c4"
      },
      "id": "Pn6Ttabg_MYd",
      "execution_count": 100,
      "outputs": [
        {
          "output_type": "stream",
          "name": "stderr",
          "text": [
            "<ipython-input-100-2442c6c43fe2>:1: UserWarning: \n",
            "\n",
            "`distplot` is a deprecated function and will be removed in seaborn v0.14.0.\n",
            "\n",
            "Please adapt your code to use either `displot` (a figure-level function with\n",
            "similar flexibility) or `kdeplot` (an axes-level function for kernel density plots).\n",
            "\n",
            "For a guide to updating your code to use the new functions, please see\n",
            "https://gist.github.com/mwaskom/de44147ed2974457ad6372750bbe5751\n",
            "\n",
            "  sns.distplot(y1, hist=False, color='black')\n"
          ]
        },
        {
          "output_type": "display_data",
          "data": {
            "text/plain": [
              "<Figure size 800x550 with 1 Axes>"
            ],
            "image/png": "[encoded data removed]"
          },
          "metadata": {}
        }
      ]
    },
    {
      "cell_type": "code",
      "source": [
        "sns.distplot(y2, hist=False, color='black')\n",
        "plt.plot(x, pdf2, color='red')\n",
        "plt.title('Gaussian Distribution for y1 data')\n",
        "plt.xlabel('y1 data')\n",
        "plt.ylabel('Likelihood')\n",
        "plt.show()"
      ],
      "metadata": {
        "colab": {
          "base_uri": "https://localhost:8080/",
          "height": 720
        },
        "id": "3yLf8a2QAvai",
        "outputId": "7b63b54d-fbdd-4062-bcdc-f306f45e80ac"
      },
      "id": "3yLf8a2QAvai",
      "execution_count": 101,
      "outputs": [
        {
          "output_type": "stream",
          "name": "stderr",
          "text": [
            "<ipython-input-101-ac2cb69940ee>:1: UserWarning: \n",
            "\n",
            "`distplot` is a deprecated function and will be removed in seaborn v0.14.0.\n",
            "\n",
            "Please adapt your code to use either `displot` (a figure-level function with\n",
            "similar flexibility) or `kdeplot` (an axes-level function for kernel density plots).\n",
            "\n",
            "For a guide to updating your code to use the new functions, please see\n",
            "https://gist.github.com/mwaskom/de44147ed2974457ad6372750bbe5751\n",
            "\n",
            "  sns.distplot(y2, hist=False, color='black')\n"
          ]
        },
        {
          "output_type": "display_data",
          "data": {
            "text/plain": [
              "<Figure size 800x550 with 1 Axes>"
            ],
            "image/png": "[encoded data removed]"
          },
          "metadata": {}
        }
      ]
    },
    {
      "cell_type": "code",
      "source": [
        "x = np.linspace(min(data), max(data), num=1000)\n",
        "l = []\n",
        "for i in x:\n",
        "  l.append(gaussain.pdf(i))\n",
        "pdf = np.array(l)"
      ],
      "metadata": {
        "id": "AXuCcltlA4tj"
      },
      "id": "AXuCcltlA4tj",
      "execution_count": 102,
      "outputs": []
    },
    {
      "cell_type": "code",
      "source": [
        "plt.plot(x, pdf, color='black')\n",
        "plt.title('Gaussian Distribution')\n",
        "plt.xlabel('data')\n",
        "plt.ylabel('Likelihood')\n",
        "plt.show()"
      ],
      "metadata": {
        "colab": {
          "base_uri": "https://localhost:8080/",
          "height": 524
        },
        "id": "lGbqqarwB4H2",
        "outputId": "f3448514-c1ab-4e8b-98bd-0b0c0751f2cd"
      },
      "id": "lGbqqarwB4H2",
      "execution_count": 103,
      "outputs": [
        {
          "output_type": "display_data",
          "data": {
            "text/plain": [
              "<Figure size 800x550 with 1 Axes>"
            ],
            "image/png": "[encoded data removed]"
          },
          "metadata": {}
        }
      ]
    },
    {
      "cell_type": "code",
      "source": [
        "class GaussianMixture_self:\n",
        "    \"Model mixture of two univariate Gaussians and their EM estimation\"\n",
        "\n",
        "    def __init__(self, data, mu_min=min(data), mu_max=max(data), sigma_min=1, sigma_max=1, mix=.5):\n",
        "        self.data = data\n",
        "        self.one = Gaussian(uniform(mu_min, mu_max), uniform(sigma_min, sigma_max))\n",
        "        self.two = Gaussian(uniform(mu_min, mu_max), uniform(sigma_min, sigma_max))\n",
        "        self.mix = mix\n",
        "\n",
        "    def Estep(self):\n",
        "        \"Perform an E(stimation)-step, assign each point to gaussian 1 or 2 with a percentage\"\n",
        "        self.loglike = 0\n",
        "        for datum in self.data:\n",
        "            w1 = self.one.pdf(datum) * self.mix\n",
        "            w2 = self.two.pdf(datum) * (1. - self.mix)\n",
        "            den = w1 + w2\n",
        "            w1 /= den\n",
        "            w2 /= den\n",
        "            self.loglike += log(den)\n",
        "            yield (w1, w2)\n",
        "\n",
        "    def Mstep(self, weights):\n",
        "        \"Perform an M(aximization)-step\"\n",
        "        (left, right) = zip(*weights)\n",
        "        one_den = sum(left)\n",
        "        two_den = sum(right)\n",
        "\n",
        "        self.one.mu = sum(w * d / one_den for (w, d) in zip(left, self.data))\n",
        "        self.two.mu = sum(w * d / two_den for (w, d) in zip(right, self.data))\n",
        "\n",
        "        self.one.sigma = sqrt(sum(w * ((d - self.one.mu) ** 2)\n",
        "                                  for (w, d) in zip(left, self.data)) / one_den)\n",
        "        self.two.sigma = sqrt(sum(w * ((d - self.two.mu) ** 2)\n",
        "                                  for (w, d) in zip(right, self.data)) / two_den)\n",
        "        self.mix = one_den / len(self.data)\n",
        "\n",
        "\n",
        "    def iterate(self, N=1, verbose=False):\n",
        "        \"Perform N iterations, then compute log-likelihood\"\n",
        "        try:\n",
        "          for i in range(1, N+1):\n",
        "              self.Mstep(self.Estep())\n",
        "              if verbose:\n",
        "                  print('{0:2} {1}'.format(i, self))\n",
        "          self.Estep()\n",
        "        except StopIteration:\n",
        "          pass\n",
        "        return self\n",
        "\n",
        "    def pdf(self, x):\n",
        "        return (self.mix)*self.one.pdf(x) + (1-self.mix)*self.two.pdf(x)"
      ],
      "metadata": {
        "id": "AVz1M15Dngb8"
      },
      "id": "AVz1M15Dngb8",
      "execution_count": 104,
      "outputs": []
    },
    {
      "cell_type": "code",
      "source": [
        "mix = GaussianMixture_self(data)\n",
        "mix.iterate(N=50)\n",
        "mixpdf = [mix.pdf(i) for i in np.linspace(min(data), max(data), num=1000)]\n",
        "xvals = np.linspace(min(data), max(data), num=1000)\n",
        "plt.plot(xvals, mixpdf)\n",
        "plt.show()"
      ],
      "metadata": {
        "colab": {
          "base_uri": "https://localhost:8080/",
          "height": 487
        },
        "id": "i2urbXETLV1z",
        "outputId": "a8e58acd-7ba9-41b0-dbcb-394a0db041ab"
      },
      "id": "i2urbXETLV1z",
      "execution_count": 105,
      "outputs": [
        {
          "output_type": "display_data",
          "data": {
            "text/plain": [
              "<Figure size 800x550 with 1 Axes>"
            ],
            "image/png": "[encoded data removed]"
          },
          "metadata": {}
        }
      ]
    }
  ],
  "metadata": {
    "kernelspec": {
      "display_name": "Python 3",
      "language": "python",
      "name": "python3"
    },
    "language_info": {
      "codemirror_mode": {
        "name": "ipython",
        "version": 3
      },
      "file_extension": ".py",
      "mimetype": "text/x-python",
      "name": "python",
      "nbconvert_exporter": "python",
      "pygments_lexer": "ipython3",
      "version": "3.8.8"
    },
    "colab": {
      "provenance": []
    }
  },
  "nbformat": 4,
  "nbformat_minor": 5
}