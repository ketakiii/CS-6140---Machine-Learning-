{
  "nbformat": 4,
  "nbformat_minor": 0,
  "metadata": {
    "colab": {
      "provenance": []
    },
    "kernelspec": {
      "name": "python3",
      "display_name": "Python 3"
    },
    "language_info": {
      "name": "python"
    }
  },
  "cells": [
    {
      "cell_type": "markdown",
      "source": [
        "# Ans 1."
      ],
      "metadata": {
        "id": "_zYoKuJ77lG_"
      }
    },
    {
      "cell_type": "markdown",
      "source": [
        "### Optimization problems"
      ],
      "metadata": {
        "id": "DqdK0b-vToxR"
      }
    },
    {
      "cell_type": "markdown",
      "source": [
        "When dealing with Support Vector Machines we come across the concept of unconstrained optimization and constrained optimization. Unconstrained optimization deals with minimizing or maximizing a function without any given constraints. But in SVMs we mainly deal with constrained optimization problems where we want to optimize (minimize/ maximize) a function given a constraint. Below is an example of a constraint optimization problem:\n",
        "\n",
        "> Minimize f (w) such that h (w) = 0\n",
        "\n",
        "Here f (w) is the objective function and h (w) is the equality constraint, here we just have one constraint however the model is valid for multiple equality constraint.\n",
        "\n",
        "\n",
        "\n",
        "\n",
        "\n"
      ],
      "metadata": {
        "id": "zUZhpDjbIfgf"
      }
    },
    {
      "cell_type": "markdown",
      "source": [
        "### Solution to constrained optimzation"
      ],
      "metadata": {
        "id": "qj8G70fFTw_C"
      }
    },
    {
      "cell_type": "markdown",
      "source": [
        "Langrange Multipliers\n",
        "\n",
        "We can solve this problem of constrained optimization using Lagrange multipliers.\n",
        "\n",
        "\n",
        "> L (w, B) = f (w) + B.h (w)\n",
        "\n",
        "B - Lagrange multiplier\n",
        "\n"
      ],
      "metadata": {
        "id": "FwzHPSG8TDM5"
      }
    },
    {
      "cell_type": "markdown",
      "source": [
        "### Theorem"
      ],
      "metadata": {
        "id": "bZHoH7EFTnRN"
      }
    },
    {
      "cell_type": "markdown",
      "source": [
        "- if w is a minima then dL/dw = 0 and dL/dB = 0\n",
        "- if f (w) is convex then dL/dw = 0 and dL/dB = 0\n",
        "\n",
        "implies that w is a minima"
      ],
      "metadata": {
        "id": "YKe-n2HyT8_i"
      }
    },
    {
      "cell_type": "markdown",
      "source": [
        "### Optimality Conditions : Primal Function"
      ],
      "metadata": {
        "id": "59ZE3wSRUoGG"
      }
    },
    {
      "cell_type": "markdown",
      "source": [
        "For a constrained optimization problem:\n",
        "\n",
        "\n",
        "\n",
        "> min f (x) such that hi (x) = 0\n",
        "\n",
        "x ∈ R^m\n",
        "\n",
        "i = 1, 2, ... N\n",
        "\n",
        "\n",
        "Construct the Lagrangian:\n",
        "\n",
        "\n",
        "> L (x, B) = f(x) + ∑ i = 1 n (Bi . hi (x))\n",
        "\n",
        "\n",
        "then x* is a local minima if there exists a unique B* such that:\n",
        "\n",
        "- ▽x L (x*, B*) = 0\n",
        "- ▽B L (x*, B*) = 0\n",
        "- y^T (▽^2 xx . L (x*, B*)) >= 0\n",
        "\n",
        "such that ▽x h (x*) y = 0\n",
        "\n",
        "\n",
        "\n"
      ],
      "metadata": {
        "id": "9qIJTSSJUrRN"
      }
    },
    {
      "cell_type": "markdown",
      "source": [
        "### Lagrangian Dual Function"
      ],
      "metadata": {
        "id": "rOMtvJtmW1-w"
      }
    },
    {
      "cell_type": "markdown",
      "source": [
        "Need of a dual function?\n",
        "\n",
        "- This approach may lead to a simpler optimization problem.\n",
        "- For cases where the number of primal variables (dimensions of x) is greater than the number of constraints.\n",
        "- The relationship between the primal and dual variables can provide useful insights about the optimal primal solution."
      ],
      "metadata": {
        "id": "YhdGIaBMX3yK"
      }
    },
    {
      "cell_type": "markdown",
      "source": [
        "\n",
        "\n",
        "> max λ, µ q (λ, µ) such that λ >= 0\n",
        "\n",
        "where,\n",
        "\n",
        "\n",
        "\n",
        "> q (λ, µ) = minx [ f (x) + λ^T . g (x) + µ^T . h(x) ]\n",
        "\n"
      ],
      "metadata": {
        "id": "A95MFAXsXHUn"
      }
    },
    {
      "cell_type": "markdown",
      "source": [
        "### Types of Duality"
      ],
      "metadata": {
        "id": "oO-kgjL0YpTn"
      }
    },
    {
      "cell_type": "markdown",
      "source": [
        "- The dual is always concave, even if the primal is not.\n",
        "- Weak Duality: f (x) >= q (λ, µ) for feasible values of λ, µ, x\n",
        "- Strong Duality: exists if the optimal values of primal = optimal values of dual i.e, f (x) = q (λ*, µ*)\n",
        "- Strong duality exists only if the primal objective function and the constraints satisy the following conditions:"
      ],
      "metadata": {
        "id": "lrU1Bz8SZGbX"
      }
    },
    {
      "cell_type": "markdown",
      "source": [
        "1. f (x) and g (x) are convex and h (x) is affine\n",
        "2. there exists some x such that g (x) <= 0 (slater's condition)\n",
        "3. there exists primal solution x* and dual solution (λ *, µ *) such that f (x) = q (λ*, µ*)\n",
        "4. x *, λ *, µ* satify the KKT conditions"
      ],
      "metadata": {
        "id": "0RcDn_xZZ9S2"
      }
    },
    {
      "cell_type": "markdown",
      "source": [
        "### KKT Conditions"
      ],
      "metadata": {
        "id": "Mibyn26wae6m"
      }
    },
    {
      "cell_type": "markdown",
      "source": [
        "1. ▽x L (x*, λ*, µ*) = 0\n",
        "2. ▽µ L (x*, λ*, µ*) = 0\n",
        "3. λ* >= 0 [ Dual Feasibility ]\n",
        "4. g (x*) <= 0 [ Primal Feasibility ]\n",
        "5. λ* g (x*) = 0 [ Complimentary Slackness ]"
      ],
      "metadata": {
        "id": "CGg1gYAHalX1"
      }
    },
    {
      "cell_type": "markdown",
      "source": [
        "### Complimentary Slackness"
      ],
      "metadata": {
        "id": "DHql884BcPKU"
      }
    },
    {
      "cell_type": "markdown",
      "source": [
        "If g (x*) < 0 then λ* = 0,\n",
        "\n",
        "similarly if λ* > 0 then g (x*) = 0\n",
        "\n"
      ],
      "metadata": {
        "id": "ANAU6glkcRgD"
      }
    },
    {
      "cell_type": "markdown",
      "source": [
        "## Code Explanation of complimentary slackness"
      ],
      "metadata": {
        "id": "x7UGWpqkc-8m"
      }
    },
    {
      "cell_type": "markdown",
      "source": [
        "Import libraries"
      ],
      "metadata": {
        "id": "ckScjC5BC-CH"
      }
    },
    {
      "cell_type": "code",
      "source": [
        "import warnings\n",
        "import numpy as np\n",
        "import matplotlib.pyplot as plt\n",
        "from matplotlib import cm\n",
        "from sklearn import svm\n",
        "from sklearn.svm import SVC\n",
        "from sklearn.model_selection import train_test_split, ShuffleSplit\n",
        "from sklearn.preprocessing import StandardScaler\n",
        "from sklearn.model_selection import GridSearchCV\n",
        "from sklearn.metrics import accuracy_score\n",
        "warnings.filterwarnings(\"ignore\")"
      ],
      "metadata": {
        "id": "Nj_9ZC7t95C9"
      },
      "execution_count": 2,
      "outputs": []
    },
    {
      "cell_type": "markdown",
      "source": [
        "Create 40 linearly seperable data points"
      ],
      "metadata": {
        "id": "qY_a24sqDBWq"
      }
    },
    {
      "cell_type": "code",
      "source": [
        "np.random.seed(40)\n",
        "X = np.r_[np.random.randn(20, 2) - [2, 2], np.random.randn(20, 2) + [2, 2]]\n",
        "y = [0] * 20 + [1] * 20"
      ],
      "metadata": {
        "id": "Mpk14aVfDFsg"
      },
      "execution_count": 3,
      "outputs": []
    },
    {
      "cell_type": "markdown",
      "source": [
        "## Hard Margin SVM"
      ],
      "metadata": {
        "id": "eXaBlT4zEH7i"
      }
    },
    {
      "cell_type": "markdown",
      "source": [
        "min w, b ( 1/2 . ||w||^2 )\n",
        "\n",
        "such that 1 - yi ( w^T .xi + b) <= 0\n",
        "\n",
        "- the objective is convex\n",
        "- the constraints are affine\n",
        "- since the data is seperable we know there exists at least one hyperplane (w) that is feasible\n"
      ],
      "metadata": {
        "id": "rf30QNAgdN_2"
      }
    },
    {
      "cell_type": "markdown",
      "source": [
        "### Formulating the Dual"
      ],
      "metadata": {
        "id": "AU3c8em5fsog"
      }
    },
    {
      "cell_type": "markdown",
      "source": [
        "> L (w, b α) = 1/2 ||w|| ^ 2 - Σ 1 to N ( αi [ yi ( w^T . xi + b ) - 1 ] )\n",
        "\n",
        "\n",
        "> such that q (α) = min w, b L (w, b, α)"
      ],
      "metadata": {
        "id": "pV-yRBP6fy39"
      }
    },
    {
      "cell_type": "markdown",
      "source": [
        "- minimize the Lagrangian wrt w and b\n",
        "- calculate the partial derivates wrt w and b\n",
        "- substitute back in the Lagrangian to obtain the dual"
      ],
      "metadata": {
        "id": "Z84Mw8OVgrNc"
      }
    },
    {
      "cell_type": "markdown",
      "source": [
        "Hence\n",
        "\n",
        "> dL (w, b, α)/ db = d/db [ - Σ 1 to N (αi * yi * b) ] = 0\n",
        "\n",
        "> Σ 1 to N ( αi * yi ) = 0\n",
        "\n",
        "\n",
        "\n"
      ],
      "metadata": {
        "id": "rhIx168Eg1sA"
      }
    },
    {
      "cell_type": "markdown",
      "source": [
        "### The Dual"
      ],
      "metadata": {
        "id": "TCsV4V2ohWoV"
      }
    },
    {
      "cell_type": "markdown",
      "source": [
        "> max α θ (α) = (Σ i=1 to N αi) - (1/2 Σ i=1 to N Σ j=1 to N yi * yj * αi * αj * xi^T * xj)\n",
        "\n",
        "\n",
        "\n",
        "> such that\n",
        "- αi >= 0\n",
        "- Σ i=1 to N (αi * yi) = 0\n",
        "\n",
        "\n",
        "\n",
        "\n",
        "\n",
        "\n"
      ],
      "metadata": {
        "id": "wnPG1C3phYdx"
      }
    },
    {
      "cell_type": "code",
      "source": [
        "clf = svm.SVC(kernel=\"linear\", C=1)\n",
        "clf.fit(X, y)\n",
        "\n",
        "w = clf.coef_[0]\n",
        "a = -w[0] / w[1]\n",
        "xx = np.linspace(-5, 5)\n",
        "yy = a * xx - (clf.intercept_[0] / w[1])\n",
        "\n",
        "margin = 1 / np.sqrt(np.sum(clf.coef_**2))\n",
        "yy_down = yy - np.sqrt(1 + a**2) * margin\n",
        "yy_up = yy + np.sqrt(1 + a**2) * margin"
      ],
      "metadata": {
        "id": "AxPZSn5wEG20"
      },
      "execution_count": 4,
      "outputs": []
    },
    {
      "cell_type": "code",
      "source": [
        "plt.figure(figsize=(7, 5))\n",
        "plt.clf()\n",
        "plt.plot(xx, yy, \"k-\")\n",
        "plt.plot(xx, yy_down, \"k--\")\n",
        "plt.plot(xx, yy_up, \"k--\")\n",
        "plt.scatter(clf.support_vectors_[:, 0], clf.support_vectors_[:, 1], s=80, facecolors=\"none\", zorder=10, edgecolors=\"k\", cmap=cm.get_cmap(\"RdBu\"))\n",
        "plt.scatter(X[:, 0], X[:, 1], c=y, zorder=10, cmap=cm.get_cmap(\"RdBu\"), edgecolors=\"k\")\n",
        "plt.axis(\"tight\")\n",
        "x_min = -4.8\n",
        "x_max = 4.2\n",
        "y_min = -6\n",
        "y_max = 6\n",
        "\n",
        "YY, XX = np.meshgrid(yy, xx)\n",
        "xy = np.vstack([XX.ravel(), YY.ravel()]).T\n",
        "Z = clf.decision_function(xy).reshape(XX.shape)\n",
        "plt.contour(XX, YY, Z, cmap=cm.get_cmap(\"RdBu\"), alpha=0.5, linestyles=[\"-\"])\n",
        "plt.xlim(x_min, x_max)\n",
        "plt.ylim(y_min, y_max)\n",
        "plt.xticks(())\n",
        "plt.yticks(())\n",
        "plt.show()"
      ],
      "metadata": {
        "colab": {
          "base_uri": "https://localhost:8080/",
          "height": 422
        },
        "id": "CpajBLs-GOqz",
        "outputId": "ac6c8c06-d1e5-492b-ff51-b2a9e92312ea"
      },
      "execution_count": 5,
      "outputs": [
        {
          "output_type": "display_data",
          "data": {
            "text/plain": [
              "<Figure size 700x500 with 1 Axes>"
            ],
            "image/png": "[encoded data removed]"
          },
          "metadata": {}
        }
      ]
    },
    {
      "cell_type": "markdown",
      "source": [
        "Given the dual optimization solution α *\n",
        "\n",
        "- from the complimentary slackness we can say that α* > 0 which means the corresponding constraint gi (w, b) = 0\n",
        "- Hence, the corresponding training instance has a margin = 1 known as the support vectors.\n"
      ],
      "metadata": {
        "id": "3PkF-pZsmH1S"
      }
    },
    {
      "cell_type": "markdown",
      "source": [
        "Optimal solution for the weight vector:\n",
        "- w* = Σ i=1 to N ( αi * yi * xi)\n",
        "- training instances will have αi = 0\n",
        "- prediction for new instances depend on their inner product with support vectors\n",
        "\n",
        "\n",
        "\n",
        "> w* ^ T x' + b* = [ Σ i=1 to N αi * yi * xi] ^ T\n",
        "\n",
        "\n",
        "> = Σ i=1 to N αi * yi <xi, x1> + b\n",
        "\n",
        "\n",
        "\n"
      ],
      "metadata": {
        "id": "xZFq-rxUmnBW"
      }
    },
    {
      "cell_type": "markdown",
      "source": [
        "The points through which the margin passes in the above example has their αi > 0 (support vectors) while the farther points have their αi = 0."
      ],
      "metadata": {
        "id": "sEDTlcprniZU"
      }
    },
    {
      "cell_type": "markdown",
      "source": [
        "."
      ],
      "metadata": {
        "id": "KH6GvojTeBkN"
      }
    },
    {
      "cell_type": "markdown",
      "source": [
        "## Soft Margin SVM"
      ],
      "metadata": {
        "id": "DasHrRIGJhAA"
      }
    },
    {
      "cell_type": "markdown",
      "source": [
        "min w, b 1/2 ||w|| ^ 2 + C Σ i=1 to N ξi\n",
        "\n",
        "subject to: yi ( w ^ T * xi + b ) >= 1 - ξi\n",
        "\n",
        "ξi >= 0"
      ],
      "metadata": {
        "id": "g29ZwCTubJ5N"
      }
    },
    {
      "cell_type": "markdown",
      "source": [
        "We use the slack variable ξi that transforms the constraints to soft constraints allowing soft constraints allowing instances to have a margin less than 1.\n",
        "\n",
        "However, for violating constraints we pay a linear penalty (C * ξi)"
      ],
      "metadata": {
        "id": "5X3tpjb9b5iY"
      }
    },
    {
      "cell_type": "markdown",
      "source": [
        "### Formulating the Dual"
      ],
      "metadata": {
        "id": "bSgWzWPLcdoO"
      }
    },
    {
      "cell_type": "markdown",
      "source": [
        "L = 1/2 ||w|| ^ 2 + C . Σ i=1 to N ( ξi ) - Σ i=1 to N ( αi [ yi ( w ^ T . xi + b ) - 1 + ξi ] ) - Σ i=1 to N ( ni .ξi )\n",
        "\n",
        "where θ ( α ) = min w, b, ξ L\n",
        "\n",
        "- minimize the Lagrangian wrt primal variables\n",
        "- calculate partial derivates wrt w, b and slack variable\n",
        "- substitute back in Lagrangian to obtain the dual"
      ],
      "metadata": {
        "id": "jVRVE-hycgca"
      }
    },
    {
      "cell_type": "markdown",
      "source": [
        "### The Dual"
      ],
      "metadata": {
        "id": "DcSKKHucdapJ"
      }
    },
    {
      "cell_type": "markdown",
      "source": [
        "max α θ ( α ) = Σ i=1 to N ( αi ) - 1/2 Σ i=1 to N Σ j=1 to N ( yi . yj . αi . αj . xi ^ T . xj )\n",
        "\n",
        "subject to : 0 <= αj <= C\n",
        "\n",
        "Σ i=1 to N ( αi . yi ) = 0\n",
        "\n"
      ],
      "metadata": {
        "id": "1Tvo9q20dcG2"
      }
    },
    {
      "cell_type": "code",
      "source": [
        "clf = svm.SVC(kernel=\"linear\", C=0.02)\n",
        "clf.fit(X, y)\n",
        "\n",
        "w = clf.coef_[0]\n",
        "a = -w[0] / w[1]\n",
        "xx = np.linspace(-5, 5)\n",
        "yy = a * xx - (clf.intercept_[0] / w[1])\n",
        "\n",
        "margin = 1 / np.sqrt(np.sum(clf.coef_**2))\n",
        "yy_down = yy - np.sqrt(1 + a**2) * margin\n",
        "yy_up = yy + np.sqrt(1 + a**2) * margin"
      ],
      "metadata": {
        "id": "dTfbaqsLI7FK"
      },
      "execution_count": 6,
      "outputs": []
    },
    {
      "cell_type": "code",
      "source": [
        "plt.figure(figsize=(7, 5))\n",
        "plt.clf()\n",
        "plt.plot(xx, yy, \"k-\")\n",
        "plt.plot(xx, yy_down, \"k--\")\n",
        "plt.plot(xx, yy_up, \"k--\")\n",
        "plt.scatter(clf.support_vectors_[:, 0], clf.support_vectors_[:, 1], s=80, facecolors=\"none\", zorder=10, edgecolors=\"k\", cmap=cm.get_cmap(\"RdBu\"))\n",
        "plt.scatter(X[:, 0], X[:, 1], c=y, zorder=10, cmap=cm.get_cmap(\"RdBu\"), edgecolors=\"k\")\n",
        "plt.axis(\"tight\")\n",
        "x_min = -4.8\n",
        "x_max = 4.2\n",
        "y_min = -6\n",
        "y_max = 6\n",
        "\n",
        "YY, XX = np.meshgrid(yy, xx)\n",
        "xy = np.vstack([XX.ravel(), YY.ravel()]).T\n",
        "Z = clf.decision_function(xy).reshape(XX.shape)\n",
        "plt.contour(XX, YY, Z, cmap=cm.get_cmap(\"RdBu\"), alpha=0.5, linestyles=[\"-\"])\n",
        "plt.xlim(x_min, x_max)\n",
        "plt.ylim(y_min, y_max)\n",
        "plt.xticks(())\n",
        "plt.yticks(())\n",
        "plt.show()"
      ],
      "metadata": {
        "colab": {
          "base_uri": "https://localhost:8080/",
          "height": 422
        },
        "id": "7Wqm1bnDI8YD",
        "outputId": "14281bec-5577-4c00-bc55-e6203d4af779"
      },
      "execution_count": 7,
      "outputs": [
        {
          "output_type": "display_data",
          "data": {
            "text/plain": [
              "<Figure size 700x500 with 1 Axes>"
            ],
            "image/png": "[encoded data removed]"
          },
          "metadata": {}
        }
      ]
    },
    {
      "cell_type": "markdown",
      "source": [
        "Given the dual solution α*\n",
        "\n",
        "- from the complementary slackness we know that αi = 0 implies that the corresponding constraint is inactive gi ( w, b ) <= 0 that is margin >= 1\n",
        "\n",
        "- αi = C implies that the corresponding constraint is violated gi ( w, b ) > 0 that is margin <= 1\n",
        "\n",
        "- 0 < αi < C implies that the corresponding constraint is active gi ( w, b ) = 0 that is margin = 0"
      ],
      "metadata": {
        "id": "V8QPsukEeGCZ"
      }
    },
    {
      "cell_type": "markdown",
      "source": [
        "Optimal solution for the weight vector:\n",
        "\n",
        "w* = Σ i=1 to N ( αi . yi . xi )\n",
        "\n",
        "- depends on only support vectors other training instances will have αi = 0\n",
        "- prediction for new instances only depend on their inner product with support vectors\n",
        "\n",
        "w* ^ T . x' + b = [ Σ i=1 to N ( αi . yi . xi ) ] ^ T + b\n",
        "\n",
        "= Σ i=1 to N ( αi . yi < xi . x' > + b )"
      ],
      "metadata": {
        "id": "eGNKnLLtfUYY"
      }
    },
    {
      "cell_type": "markdown",
      "source": [
        "# Ans 2."
      ],
      "metadata": {
        "id": "P3YxTTpppyMx"
      }
    },
    {
      "cell_type": "markdown",
      "source": [
        "Importing libraries"
      ],
      "metadata": {
        "id": "t6xyQnqphh31"
      }
    },
    {
      "cell_type": "code",
      "source": [
        "import numpy as np\n",
        "import pandas as pd\n",
        "from sklearn.datasets import make_moons, make_circles\n",
        "import seaborn as sns\n",
        "from sklearn.pipeline import make_pipeline\n",
        "from sklearn.preprocessing import StandardScaler\n",
        "from sklearn.svm import SVC\n",
        "from sklearn.model_selection import cross_val_score\n",
        "from sklearn.inspection import DecisionBoundaryDisplay"
      ],
      "metadata": {
        "id": "ozivhj2ip_4i"
      },
      "execution_count": 8,
      "outputs": []
    },
    {
      "cell_type": "markdown",
      "source": [
        "## Half-Circles dataset"
      ],
      "metadata": {
        "id": "1NCHP9M4p1hV"
      }
    },
    {
      "cell_type": "markdown",
      "source": [
        "Plotting the data points"
      ],
      "metadata": {
        "id": "yMuvQUFujcrI"
      }
    },
    {
      "cell_type": "code",
      "source": [
        "feature_names = [\"Feature #0\", \"Features #1\"]\n",
        "target_name = \"class\"\n",
        "\n",
        "X, y = make_circles(n_samples=100, noise=0.13, random_state=42)"
      ],
      "metadata": {
        "id": "FFeKrhI1p7Ds"
      },
      "execution_count": 9,
      "outputs": []
    },
    {
      "cell_type": "code",
      "source": [
        "# We store both the data and target in a dataframe to ease plotting\n",
        "circles = pd.DataFrame(np.concatenate([X, y[:, np.newaxis]], axis=1), columns=feature_names + [target_name],)\n",
        "circles = circles[circles['Features #1'] >=0]\n",
        "#moons = moons[moons['Feature #0'] >=0]\n",
        "data_circles, target_circles = circles[feature_names], circles[target_name]"
      ],
      "metadata": {
        "id": "y-H179spvXIs"
      },
      "execution_count": 10,
      "outputs": []
    },
    {
      "cell_type": "code",
      "source": [
        "sns.scatterplot(data = circles, x=feature_names[0], y=feature_names[1], hue=target_circles, palette=[\"tab:red\", \"tab:blue\"],)\n",
        "plt.title(\"Half Circle dataset\")"
      ],
      "metadata": {
        "colab": {
          "base_uri": "https://localhost:8080/",
          "height": 490
        },
        "id": "-Qg6Z1L4qFte",
        "outputId": "a11c98cc-4038-403f-def2-d58985204ef0"
      },
      "execution_count": 11,
      "outputs": [
        {
          "output_type": "execute_result",
          "data": {
            "text/plain": [
              "Text(0.5, 1.0, 'Half Circle dataset')"
            ]
          },
          "metadata": {},
          "execution_count": 11
        },
        {
          "output_type": "display_data",
          "data": {
            "text/plain": [
              "<Figure size 640x480 with 1 Axes>"
            ],
            "image/png": "[encoded data removed]"
          },
          "metadata": {}
        }
      ]
    },
    {
      "cell_type": "markdown",
      "source": [
        "### Linear Kernel Decision Boundary"
      ],
      "metadata": {
        "id": "TshOK4QiH3-1"
      }
    },
    {
      "cell_type": "code",
      "source": [
        "linear_model = make_pipeline(StandardScaler(), SVC(kernel=\"linear\", C=1, gamma=1))"
      ],
      "metadata": {
        "id": "-C0s0X_WE7pm"
      },
      "execution_count": 12,
      "outputs": []
    },
    {
      "cell_type": "markdown",
      "source": [
        "Train validation split"
      ],
      "metadata": {
        "id": "2aR2nO-Q51Gj"
      }
    },
    {
      "cell_type": "code",
      "source": [
        "train_set, validation_set = train_test_split(circles, test_size=0.2, random_state=42)"
      ],
      "metadata": {
        "id": "ZFXjg_q35JIS"
      },
      "execution_count": 13,
      "outputs": []
    },
    {
      "cell_type": "code",
      "source": [
        "X_train = train_set.iloc[:,0:-1].values\n",
        "y_train = train_set.iloc[:, -1].values\n",
        "X_val = validation_set.iloc[:, 0:-1].values\n",
        "y_val = validation_set.iloc[:, -1].values"
      ],
      "metadata": {
        "id": "DoCPJPZ35VOv"
      },
      "execution_count": 14,
      "outputs": []
    },
    {
      "cell_type": "markdown",
      "source": [
        "K-Fold cross validation on train data"
      ],
      "metadata": {
        "id": "0SJXo1vI59JH"
      }
    },
    {
      "cell_type": "code",
      "source": [
        "accuracies=cross_val_score(estimator=linear_model,X=X_train,y=y_train,cv=10)\n",
        "accuracies"
      ],
      "metadata": {
        "colab": {
          "base_uri": "https://localhost:8080/"
        },
        "id": "R8G4LSzR5eWS",
        "outputId": "03cc4f7f-24b2-422f-ef0d-ee94660e34c6"
      },
      "execution_count": 15,
      "outputs": [
        {
          "output_type": "execute_result",
          "data": {
            "text/plain": [
              "array([0.8 , 0.75, 0.25, 0.25, 0.5 , 0.5 , 0.75, 0.75, 0.75, 0.75])"
            ]
          },
          "metadata": {},
          "execution_count": 15
        }
      ]
    },
    {
      "cell_type": "code",
      "source": [
        "print(\"average accuracy :\",np.mean(accuracies))\n",
        "print(\"average std :\",np.std(accuracies))"
      ],
      "metadata": {
        "colab": {
          "base_uri": "https://localhost:8080/"
        },
        "id": "5eQW7ux15mJA",
        "outputId": "18d13416-de04-458c-b2b1-99afcc298a25"
      },
      "execution_count": 16,
      "outputs": [
        {
          "output_type": "stream",
          "name": "stdout",
          "text": [
            "average accuracy : 0.605\n",
            "average std : 0.20426698215815497\n"
          ]
        }
      ]
    },
    {
      "cell_type": "markdown",
      "source": [
        "Fitting the model and checking accuracy on validation data"
      ],
      "metadata": {
        "id": "m4E5w16O6EtQ"
      }
    },
    {
      "cell_type": "code",
      "source": [
        "linear_model.fit(X_train,y_train)\n",
        "print(\"test accuracy :\",linear_model.score(X_val,y_val))"
      ],
      "metadata": {
        "colab": {
          "base_uri": "https://localhost:8080/"
        },
        "id": "ZfN6prno5qii",
        "outputId": "0943ec51-59da-4647-bf3e-9a2c86d70360"
      },
      "execution_count": 17,
      "outputs": [
        {
          "output_type": "stream",
          "name": "stdout",
          "text": [
            "test accuracy : 0.5454545454545454\n"
          ]
        }
      ]
    },
    {
      "cell_type": "markdown",
      "source": [
        "\n",
        "Grid Search for hyperparameter tuning, changing hyperparameters in the kernel as given by the Grid Search for best results"
      ],
      "metadata": {
        "id": "y1-FjtW1Rm5x"
      }
    },
    {
      "cell_type": "code",
      "source": [
        "param_grid = {'C': [0.1,1, 10, 100], 'gamma': [1,0.1,0.01,0.001],'kernel': ['rbf', 'poly', 'sigmoid']}\n",
        "grid = GridSearchCV(SVC(),param_grid,refit=True,verbose=2)\n",
        "grid.fit(X_train,y_train)"
      ],
      "metadata": {
        "colab": {
          "base_uri": "https://localhost:8080/",
          "height": 1000
        },
        "id": "R1_W9t17RjsD",
        "outputId": "e783c32c-b313-4aed-9d6d-cdc42584dbf8"
      },
      "execution_count": 18,
      "outputs": [
        {
          "output_type": "stream",
          "name": "stdout",
          "text": [
            "Fitting 5 folds for each of 48 candidates, totalling 240 fits\n",
            "[CV] END .........................C=0.1, gamma=1, kernel=rbf; total time=   0.0s\n",
            "[CV] END .........................C=0.1, gamma=1, kernel=rbf; total time=   0.0s\n",
            "[CV] END .........................C=0.1, gamma=1, kernel=rbf; total time=   0.0s\n",
            "[CV] END .........................C=0.1, gamma=1, kernel=rbf; total time=   0.0s\n",
            "[CV] END .........................C=0.1, gamma=1, kernel=rbf; total time=   0.0s\n",
            "[CV] END ........................C=0.1, gamma=1, kernel=poly; total time=   0.0s\n",
            "[CV] END ........................C=0.1, gamma=1, kernel=poly; total time=   0.0s\n",
            "[CV] END ........................C=0.1, gamma=1, kernel=poly; total time=   0.0s\n",
            "[CV] END ........................C=0.1, gamma=1, kernel=poly; total time=   0.0s\n",
            "[CV] END ........................C=0.1, gamma=1, kernel=poly; total time=   0.0s\n",
            "[CV] END .....................C=0.1, gamma=1, kernel=sigmoid; total time=   0.0s\n",
            "[CV] END .....................C=0.1, gamma=1, kernel=sigmoid; total time=   0.0s\n",
            "[CV] END .....................C=0.1, gamma=1, kernel=sigmoid; total time=   0.0s\n",
            "[CV] END .....................C=0.1, gamma=1, kernel=sigmoid; total time=   0.0s\n",
            "[CV] END .....................C=0.1, gamma=1, kernel=sigmoid; total time=   0.0s\n",
            "[CV] END .......................C=0.1, gamma=0.1, kernel=rbf; total time=   0.0s\n",
            "[CV] END .......................C=0.1, gamma=0.1, kernel=rbf; total time=   0.0s\n",
            "[CV] END .......................C=0.1, gamma=0.1, kernel=rbf; total time=   0.0s\n",
            "[CV] END .......................C=0.1, gamma=0.1, kernel=rbf; total time=   0.0s\n",
            "[CV] END .......................C=0.1, gamma=0.1, kernel=rbf; total time=   0.0s\n",
            "[CV] END ......................C=0.1, gamma=0.1, kernel=poly; total time=   0.0s\n",
            "[CV] END ......................C=0.1, gamma=0.1, kernel=poly; total time=   0.0s\n",
            "[CV] END ......................C=0.1, gamma=0.1, kernel=poly; total time=   0.0s\n",
            "[CV] END ......................C=0.1, gamma=0.1, kernel=poly; total time=   0.0s\n",
            "[CV] END ......................C=0.1, gamma=0.1, kernel=poly; total time=   0.0s\n",
            "[CV] END ...................C=0.1, gamma=0.1, kernel=sigmoid; total time=   0.0s\n",
            "[CV] END ...................C=0.1, gamma=0.1, kernel=sigmoid; total time=   0.0s\n",
            "[CV] END ...................C=0.1, gamma=0.1, kernel=sigmoid; total time=   0.0s\n",
            "[CV] END ...................C=0.1, gamma=0.1, kernel=sigmoid; total time=   0.0s\n",
            "[CV] END ...................C=0.1, gamma=0.1, kernel=sigmoid; total time=   0.0s\n",
            "[CV] END ......................C=0.1, gamma=0.01, kernel=rbf; total time=   0.0s\n",
            "[CV] END ......................C=0.1, gamma=0.01, kernel=rbf; total time=   0.0s\n",
            "[CV] END ......................C=0.1, gamma=0.01, kernel=rbf; total time=   0.0s\n",
            "[CV] END ......................C=0.1, gamma=0.01, kernel=rbf; total time=   0.0s\n",
            "[CV] END ......................C=0.1, gamma=0.01, kernel=rbf; total time=   0.0s\n",
            "[CV] END .....................C=0.1, gamma=0.01, kernel=poly; total time=   0.0s\n",
            "[CV] END .....................C=0.1, gamma=0.01, kernel=poly; total time=   0.0s\n",
            "[CV] END .....................C=0.1, gamma=0.01, kernel=poly; total time=   0.0s\n",
            "[CV] END .....................C=0.1, gamma=0.01, kernel=poly; total time=   0.0s\n",
            "[CV] END .....................C=0.1, gamma=0.01, kernel=poly; total time=   0.0s\n",
            "[CV] END ..................C=0.1, gamma=0.01, kernel=sigmoid; total time=   0.0s\n",
            "[CV] END ..................C=0.1, gamma=0.01, kernel=sigmoid; total time=   0.0s\n",
            "[CV] END ..................C=0.1, gamma=0.01, kernel=sigmoid; total time=   0.0s\n",
            "[CV] END ..................C=0.1, gamma=0.01, kernel=sigmoid; total time=   0.0s\n",
            "[CV] END ..................C=0.1, gamma=0.01, kernel=sigmoid; total time=   0.0s\n",
            "[CV] END .....................C=0.1, gamma=0.001, kernel=rbf; total time=   0.0s\n",
            "[CV] END .....................C=0.1, gamma=0.001, kernel=rbf; total time=   0.0s\n",
            "[CV] END .....................C=0.1, gamma=0.001, kernel=rbf; total time=   0.0s\n",
            "[CV] END .....................C=0.1, gamma=0.001, kernel=rbf; total time=   0.0s\n",
            "[CV] END .....................C=0.1, gamma=0.001, kernel=rbf; total time=   0.0s\n",
            "[CV] END ....................C=0.1, gamma=0.001, kernel=poly; total time=   0.0s\n",
            "[CV] END ....................C=0.1, gamma=0.001, kernel=poly; total time=   0.0s\n",
            "[CV] END ....................C=0.1, gamma=0.001, kernel=poly; total time=   0.0s\n",
            "[CV] END ....................C=0.1, gamma=0.001, kernel=poly; total time=   0.0s\n",
            "[CV] END ....................C=0.1, gamma=0.001, kernel=poly; total time=   0.0s\n",
            "[CV] END .................C=0.1, gamma=0.001, kernel=sigmoid; total time=   0.0s\n",
            "[CV] END .................C=0.1, gamma=0.001, kernel=sigmoid; total time=   0.0s\n",
            "[CV] END .................C=0.1, gamma=0.001, kernel=sigmoid; total time=   0.0s\n",
            "[CV] END .................C=0.1, gamma=0.001, kernel=sigmoid; total time=   0.0s\n",
            "[CV] END .................C=0.1, gamma=0.001, kernel=sigmoid; total time=   0.0s\n",
            "[CV] END ...........................C=1, gamma=1, kernel=rbf; total time=   0.0s\n",
            "[CV] END ...........................C=1, gamma=1, kernel=rbf; total time=   0.0s\n",
            "[CV] END ...........................C=1, gamma=1, kernel=rbf; total time=   0.0s\n",
            "[CV] END ...........................C=1, gamma=1, kernel=rbf; total time=   0.0s\n",
            "[CV] END ...........................C=1, gamma=1, kernel=rbf; total time=   0.0s\n",
            "[CV] END ..........................C=1, gamma=1, kernel=poly; total time=   0.0s\n",
            "[CV] END ..........................C=1, gamma=1, kernel=poly; total time=   0.0s\n",
            "[CV] END ..........................C=1, gamma=1, kernel=poly; total time=   0.0s\n",
            "[CV] END ..........................C=1, gamma=1, kernel=poly; total time=   0.0s\n",
            "[CV] END ..........................C=1, gamma=1, kernel=poly; total time=   0.0s\n",
            "[CV] END .......................C=1, gamma=1, kernel=sigmoid; total time=   0.0s\n",
            "[CV] END .......................C=1, gamma=1, kernel=sigmoid; total time=   0.0s\n",
            "[CV] END .......................C=1, gamma=1, kernel=sigmoid; total time=   0.0s\n",
            "[CV] END .......................C=1, gamma=1, kernel=sigmoid; total time=   0.0s\n",
            "[CV] END .......................C=1, gamma=1, kernel=sigmoid; total time=   0.0s\n",
            "[CV] END .........................C=1, gamma=0.1, kernel=rbf; total time=   0.0s\n",
            "[CV] END .........................C=1, gamma=0.1, kernel=rbf; total time=   0.0s\n",
            "[CV] END .........................C=1, gamma=0.1, kernel=rbf; total time=   0.0s\n",
            "[CV] END .........................C=1, gamma=0.1, kernel=rbf; total time=   0.0s\n",
            "[CV] END .........................C=1, gamma=0.1, kernel=rbf; total time=   0.0s\n",
            "[CV] END ........................C=1, gamma=0.1, kernel=poly; total time=   0.0s\n",
            "[CV] END ........................C=1, gamma=0.1, kernel=poly; total time=   0.0s\n",
            "[CV] END ........................C=1, gamma=0.1, kernel=poly; total time=   0.0s\n",
            "[CV] END ........................C=1, gamma=0.1, kernel=poly; total time=   0.0s\n",
            "[CV] END ........................C=1, gamma=0.1, kernel=poly; total time=   0.0s\n",
            "[CV] END .....................C=1, gamma=0.1, kernel=sigmoid; total time=   0.0s\n",
            "[CV] END .....................C=1, gamma=0.1, kernel=sigmoid; total time=   0.0s\n",
            "[CV] END .....................C=1, gamma=0.1, kernel=sigmoid; total time=   0.0s\n",
            "[CV] END .....................C=1, gamma=0.1, kernel=sigmoid; total time=   0.0s\n",
            "[CV] END .....................C=1, gamma=0.1, kernel=sigmoid; total time=   0.0s\n",
            "[CV] END ........................C=1, gamma=0.01, kernel=rbf; total time=   0.0s\n",
            "[CV] END ........................C=1, gamma=0.01, kernel=rbf; total time=   0.0s\n",
            "[CV] END ........................C=1, gamma=0.01, kernel=rbf; total time=   0.0s\n",
            "[CV] END ........................C=1, gamma=0.01, kernel=rbf; total time=   0.0s\n",
            "[CV] END ........................C=1, gamma=0.01, kernel=rbf; total time=   0.0s\n",
            "[CV] END .......................C=1, gamma=0.01, kernel=poly; total time=   0.0s\n",
            "[CV] END .......................C=1, gamma=0.01, kernel=poly; total time=   0.0s\n",
            "[CV] END .......................C=1, gamma=0.01, kernel=poly; total time=   0.0s\n",
            "[CV] END .......................C=1, gamma=0.01, kernel=poly; total time=   0.0s\n",
            "[CV] END .......................C=1, gamma=0.01, kernel=poly; total time=   0.0s\n",
            "[CV] END ....................C=1, gamma=0.01, kernel=sigmoid; total time=   0.0s\n",
            "[CV] END ....................C=1, gamma=0.01, kernel=sigmoid; total time=   0.0s\n",
            "[CV] END ....................C=1, gamma=0.01, kernel=sigmoid; total time=   0.0s\n",
            "[CV] END ....................C=1, gamma=0.01, kernel=sigmoid; total time=   0.0s\n",
            "[CV] END ....................C=1, gamma=0.01, kernel=sigmoid; total time=   0.0s\n",
            "[CV] END .......................C=1, gamma=0.001, kernel=rbf; total time=   0.0s\n",
            "[CV] END .......................C=1, gamma=0.001, kernel=rbf; total time=   0.0s\n",
            "[CV] END .......................C=1, gamma=0.001, kernel=rbf; total time=   0.0s\n",
            "[CV] END .......................C=1, gamma=0.001, kernel=rbf; total time=   0.0s\n",
            "[CV] END .......................C=1, gamma=0.001, kernel=rbf; total time=   0.0s\n",
            "[CV] END ......................C=1, gamma=0.001, kernel=poly; total time=   0.0s\n",
            "[CV] END ......................C=1, gamma=0.001, kernel=poly; total time=   0.0s\n",
            "[CV] END ......................C=1, gamma=0.001, kernel=poly; total time=   0.0s\n",
            "[CV] END ......................C=1, gamma=0.001, kernel=poly; total time=   0.0s\n",
            "[CV] END ......................C=1, gamma=0.001, kernel=poly; total time=   0.0s\n",
            "[CV] END ...................C=1, gamma=0.001, kernel=sigmoid; total time=   0.0s\n",
            "[CV] END ...................C=1, gamma=0.001, kernel=sigmoid; total time=   0.0s\n",
            "[CV] END ...................C=1, gamma=0.001, kernel=sigmoid; total time=   0.0s\n",
            "[CV] END ...................C=1, gamma=0.001, kernel=sigmoid; total time=   0.0s\n",
            "[CV] END ...................C=1, gamma=0.001, kernel=sigmoid; total time=   0.0s\n",
            "[CV] END ..........................C=10, gamma=1, kernel=rbf; total time=   0.0s\n",
            "[CV] END ..........................C=10, gamma=1, kernel=rbf; total time=   0.0s\n",
            "[CV] END ..........................C=10, gamma=1, kernel=rbf; total time=   0.0s\n",
            "[CV] END ..........................C=10, gamma=1, kernel=rbf; total time=   0.0s\n",
            "[CV] END ..........................C=10, gamma=1, kernel=rbf; total time=   0.0s\n",
            "[CV] END .........................C=10, gamma=1, kernel=poly; total time=   0.0s\n",
            "[CV] END .........................C=10, gamma=1, kernel=poly; total time=   0.0s\n",
            "[CV] END .........................C=10, gamma=1, kernel=poly; total time=   0.0s\n",
            "[CV] END .........................C=10, gamma=1, kernel=poly; total time=   0.0s\n",
            "[CV] END .........................C=10, gamma=1, kernel=poly; total time=   0.0s\n",
            "[CV] END ......................C=10, gamma=1, kernel=sigmoid; total time=   0.0s\n",
            "[CV] END ......................C=10, gamma=1, kernel=sigmoid; total time=   0.0s\n",
            "[CV] END ......................C=10, gamma=1, kernel=sigmoid; total time=   0.0s\n",
            "[CV] END ......................C=10, gamma=1, kernel=sigmoid; total time=   0.0s\n",
            "[CV] END ......................C=10, gamma=1, kernel=sigmoid; total time=   0.0s\n",
            "[CV] END ........................C=10, gamma=0.1, kernel=rbf; total time=   0.0s\n",
            "[CV] END ........................C=10, gamma=0.1, kernel=rbf; total time=   0.0s\n",
            "[CV] END ........................C=10, gamma=0.1, kernel=rbf; total time=   0.0s\n",
            "[CV] END ........................C=10, gamma=0.1, kernel=rbf; total time=   0.0s\n",
            "[CV] END ........................C=10, gamma=0.1, kernel=rbf; total time=   0.0s\n",
            "[CV] END .......................C=10, gamma=0.1, kernel=poly; total time=   0.0s\n",
            "[CV] END .......................C=10, gamma=0.1, kernel=poly; total time=   0.0s\n",
            "[CV] END .......................C=10, gamma=0.1, kernel=poly; total time=   0.0s\n",
            "[CV] END .......................C=10, gamma=0.1, kernel=poly; total time=   0.0s\n",
            "[CV] END .......................C=10, gamma=0.1, kernel=poly; total time=   0.0s\n",
            "[CV] END ....................C=10, gamma=0.1, kernel=sigmoid; total time=   0.0s\n",
            "[CV] END ....................C=10, gamma=0.1, kernel=sigmoid; total time=   0.0s\n",
            "[CV] END ....................C=10, gamma=0.1, kernel=sigmoid; total time=   0.0s\n",
            "[CV] END ....................C=10, gamma=0.1, kernel=sigmoid; total time=   0.0s\n",
            "[CV] END ....................C=10, gamma=0.1, kernel=sigmoid; total time=   0.0s\n",
            "[CV] END .......................C=10, gamma=0.01, kernel=rbf; total time=   0.0s\n",
            "[CV] END .......................C=10, gamma=0.01, kernel=rbf; total time=   0.0s\n",
            "[CV] END .......................C=10, gamma=0.01, kernel=rbf; total time=   0.0s\n",
            "[CV] END .......................C=10, gamma=0.01, kernel=rbf; total time=   0.0s\n",
            "[CV] END .......................C=10, gamma=0.01, kernel=rbf; total time=   0.0s\n",
            "[CV] END ......................C=10, gamma=0.01, kernel=poly; total time=   0.0s\n",
            "[CV] END ......................C=10, gamma=0.01, kernel=poly; total time=   0.0s\n",
            "[CV] END ......................C=10, gamma=0.01, kernel=poly; total time=   0.0s\n",
            "[CV] END ......................C=10, gamma=0.01, kernel=poly; total time=   0.0s\n",
            "[CV] END ......................C=10, gamma=0.01, kernel=poly; total time=   0.0s\n",
            "[CV] END ...................C=10, gamma=0.01, kernel=sigmoid; total time=   0.0s\n",
            "[CV] END ...................C=10, gamma=0.01, kernel=sigmoid; total time=   0.0s\n",
            "[CV] END ...................C=10, gamma=0.01, kernel=sigmoid; total time=   0.0s\n",
            "[CV] END ...................C=10, gamma=0.01, kernel=sigmoid; total time=   0.0s\n",
            "[CV] END ...................C=10, gamma=0.01, kernel=sigmoid; total time=   0.0s\n",
            "[CV] END ......................C=10, gamma=0.001, kernel=rbf; total time=   0.0s\n",
            "[CV] END ......................C=10, gamma=0.001, kernel=rbf; total time=   0.0s\n",
            "[CV] END ......................C=10, gamma=0.001, kernel=rbf; total time=   0.0s\n",
            "[CV] END ......................C=10, gamma=0.001, kernel=rbf; total time=   0.0s\n",
            "[CV] END ......................C=10, gamma=0.001, kernel=rbf; total time=   0.0s\n",
            "[CV] END .....................C=10, gamma=0.001, kernel=poly; total time=   0.0s\n",
            "[CV] END .....................C=10, gamma=0.001, kernel=poly; total time=   0.0s\n",
            "[CV] END .....................C=10, gamma=0.001, kernel=poly; total time=   0.0s\n",
            "[CV] END .....................C=10, gamma=0.001, kernel=poly; total time=   0.0s\n",
            "[CV] END .....................C=10, gamma=0.001, kernel=poly; total time=   0.0s\n",
            "[CV] END ..................C=10, gamma=0.001, kernel=sigmoid; total time=   0.0s\n",
            "[CV] END ..................C=10, gamma=0.001, kernel=sigmoid; total time=   0.0s\n",
            "[CV] END ..................C=10, gamma=0.001, kernel=sigmoid; total time=   0.0s\n",
            "[CV] END ..................C=10, gamma=0.001, kernel=sigmoid; total time=   0.0s\n",
            "[CV] END ..................C=10, gamma=0.001, kernel=sigmoid; total time=   0.0s\n",
            "[CV] END .........................C=100, gamma=1, kernel=rbf; total time=   0.0s\n",
            "[CV] END .........................C=100, gamma=1, kernel=rbf; total time=   0.0s\n",
            "[CV] END .........................C=100, gamma=1, kernel=rbf; total time=   0.0s\n",
            "[CV] END .........................C=100, gamma=1, kernel=rbf; total time=   0.0s\n",
            "[CV] END .........................C=100, gamma=1, kernel=rbf; total time=   0.0s\n",
            "[CV] END ........................C=100, gamma=1, kernel=poly; total time=   0.0s\n",
            "[CV] END ........................C=100, gamma=1, kernel=poly; total time=   0.0s\n",
            "[CV] END ........................C=100, gamma=1, kernel=poly; total time=   0.0s\n",
            "[CV] END ........................C=100, gamma=1, kernel=poly; total time=   0.0s\n",
            "[CV] END ........................C=100, gamma=1, kernel=poly; total time=   0.0s\n",
            "[CV] END .....................C=100, gamma=1, kernel=sigmoid; total time=   0.0s\n",
            "[CV] END .....................C=100, gamma=1, kernel=sigmoid; total time=   0.0s\n",
            "[CV] END .....................C=100, gamma=1, kernel=sigmoid; total time=   0.0s\n",
            "[CV] END .....................C=100, gamma=1, kernel=sigmoid; total time=   0.0s\n",
            "[CV] END .....................C=100, gamma=1, kernel=sigmoid; total time=   0.0s\n",
            "[CV] END .......................C=100, gamma=0.1, kernel=rbf; total time=   0.0s\n",
            "[CV] END .......................C=100, gamma=0.1, kernel=rbf; total time=   0.0s\n",
            "[CV] END .......................C=100, gamma=0.1, kernel=rbf; total time=   0.0s\n",
            "[CV] END .......................C=100, gamma=0.1, kernel=rbf; total time=   0.0s\n",
            "[CV] END .......................C=100, gamma=0.1, kernel=rbf; total time=   0.0s\n",
            "[CV] END ......................C=100, gamma=0.1, kernel=poly; total time=   0.0s\n",
            "[CV] END ......................C=100, gamma=0.1, kernel=poly; total time=   0.0s\n",
            "[CV] END ......................C=100, gamma=0.1, kernel=poly; total time=   0.0s\n",
            "[CV] END ......................C=100, gamma=0.1, kernel=poly; total time=   0.0s\n",
            "[CV] END ......................C=100, gamma=0.1, kernel=poly; total time=   0.0s\n",
            "[CV] END ...................C=100, gamma=0.1, kernel=sigmoid; total time=   0.0s\n",
            "[CV] END ...................C=100, gamma=0.1, kernel=sigmoid; total time=   0.0s\n",
            "[CV] END ...................C=100, gamma=0.1, kernel=sigmoid; total time=   0.0s\n",
            "[CV] END ...................C=100, gamma=0.1, kernel=sigmoid; total time=   0.0s\n",
            "[CV] END ...................C=100, gamma=0.1, kernel=sigmoid; total time=   0.0s\n",
            "[CV] END ......................C=100, gamma=0.01, kernel=rbf; total time=   0.0s\n",
            "[CV] END ......................C=100, gamma=0.01, kernel=rbf; total time=   0.0s\n",
            "[CV] END ......................C=100, gamma=0.01, kernel=rbf; total time=   0.0s\n",
            "[CV] END ......................C=100, gamma=0.01, kernel=rbf; total time=   0.0s\n",
            "[CV] END ......................C=100, gamma=0.01, kernel=rbf; total time=   0.0s\n",
            "[CV] END .....................C=100, gamma=0.01, kernel=poly; total time=   0.0s\n",
            "[CV] END .....................C=100, gamma=0.01, kernel=poly; total time=   0.0s\n",
            "[CV] END .....................C=100, gamma=0.01, kernel=poly; total time=   0.0s\n",
            "[CV] END .....................C=100, gamma=0.01, kernel=poly; total time=   0.0s\n",
            "[CV] END .....................C=100, gamma=0.01, kernel=poly; total time=   0.0s\n",
            "[CV] END ..................C=100, gamma=0.01, kernel=sigmoid; total time=   0.0s\n",
            "[CV] END ..................C=100, gamma=0.01, kernel=sigmoid; total time=   0.0s\n",
            "[CV] END ..................C=100, gamma=0.01, kernel=sigmoid; total time=   0.0s\n",
            "[CV] END ..................C=100, gamma=0.01, kernel=sigmoid; total time=   0.0s\n",
            "[CV] END ..................C=100, gamma=0.01, kernel=sigmoid; total time=   0.0s\n",
            "[CV] END .....................C=100, gamma=0.001, kernel=rbf; total time=   0.0s\n",
            "[CV] END .....................C=100, gamma=0.001, kernel=rbf; total time=   0.0s\n",
            "[CV] END .....................C=100, gamma=0.001, kernel=rbf; total time=   0.0s\n",
            "[CV] END .....................C=100, gamma=0.001, kernel=rbf; total time=   0.0s\n",
            "[CV] END .....................C=100, gamma=0.001, kernel=rbf; total time=   0.0s\n",
            "[CV] END ....................C=100, gamma=0.001, kernel=poly; total time=   0.0s\n",
            "[CV] END ....................C=100, gamma=0.001, kernel=poly; total time=   0.0s\n",
            "[CV] END ....................C=100, gamma=0.001, kernel=poly; total time=   0.0s\n",
            "[CV] END ....................C=100, gamma=0.001, kernel=poly; total time=   0.0s\n",
            "[CV] END ....................C=100, gamma=0.001, kernel=poly; total time=   0.0s\n",
            "[CV] END .................C=100, gamma=0.001, kernel=sigmoid; total time=   0.0s\n",
            "[CV] END .................C=100, gamma=0.001, kernel=sigmoid; total time=   0.0s\n",
            "[CV] END .................C=100, gamma=0.001, kernel=sigmoid; total time=   0.0s\n",
            "[CV] END .................C=100, gamma=0.001, kernel=sigmoid; total time=   0.0s\n",
            "[CV] END .................C=100, gamma=0.001, kernel=sigmoid; total time=   0.0s\n"
          ]
        },
        {
          "output_type": "execute_result",
          "data": {
            "text/plain": [
              "GridSearchCV(estimator=SVC(),\n",
              "             param_grid={'C': [0.1, 1, 10, 100], 'gamma': [1, 0.1, 0.01, 0.001],\n",
              "                         'kernel': ['rbf', 'poly', 'sigmoid']},\n",
              "             verbose=2)"
            ],
            "text/html": [
              "<style>#sk-container-id-1 {color: black;background-color: white;}#sk-container-id-1 pre{padding: 0;}#sk-container-id-1 div.sk-toggleable {background-color: white;}#sk-container-id-1 label.sk-toggleable__label {cursor: pointer;display: block;width: 100%;margin-bottom: 0;padding: 0.3em;box-sizing: border-box;text-align: center;}#sk-container-id-1 label.sk-toggleable__label-arrow:before {content: \"▸\";float: left;margin-right: 0.25em;color: #696969;}#sk-container-id-1 label.sk-toggleable__label-arrow:hover:before {color: black;}#sk-container-id-1 div.sk-estimator:hover label.sk-toggleable__label-arrow:before {color: black;}#sk-container-id-1 div.sk-toggleable__content {max-height: 0;max-width: 0;overflow: hidden;text-align: left;background-color: #f0f8ff;}#sk-container-id-1 div.sk-toggleable__content pre {margin: 0.2em;color: black;border-radius: 0.25em;background-color: #f0f8ff;}#sk-container-id-1 input.sk-toggleable__control:checked~div.sk-toggleable__content {max-height: 200px;max-width: 100%;overflow: auto;}#sk-container-id-1 input.sk-toggleable__control:checked~label.sk-toggleable__label-arrow:before {content: \"▾\";}#sk-container-id-1 div.sk-estimator input.sk-toggleable__control:checked~label.sk-toggleable__label {background-color: #d4ebff;}#sk-container-id-1 div.sk-label input.sk-toggleable__control:checked~label.sk-toggleable__label {background-color: #d4ebff;}#sk-container-id-1 input.sk-hidden--visually {border: 0;clip: rect(1px 1px 1px 1px);clip: rect(1px, 1px, 1px, 1px);height: 1px;margin: -1px;overflow: hidden;padding: 0;position: absolute;width: 1px;}#sk-container-id-1 div.sk-estimator {font-family: monospace;background-color: #f0f8ff;border: 1px dotted black;border-radius: 0.25em;box-sizing: border-box;margin-bottom: 0.5em;}#sk-container-id-1 div.sk-estimator:hover {background-color: #d4ebff;}#sk-container-id-1 div.sk-parallel-item::after {content: \"\";width: 100%;border-bottom: 1px solid gray;flex-grow: 1;}#sk-container-id-1 div.sk-label:hover label.sk-toggleable__label {background-color: #d4ebff;}#sk-container-id-1 div.sk-serial::before {content: \"\";position: absolute;border-left: 1px solid gray;box-sizing: border-box;top: 0;bottom: 0;left: 50%;z-index: 0;}#sk-container-id-1 div.sk-serial {display: flex;flex-direction: column;align-items: center;background-color: white;padding-right: 0.2em;padding-left: 0.2em;position: relative;}#sk-container-id-1 div.sk-item {position: relative;z-index: 1;}#sk-container-id-1 div.sk-parallel {display: flex;align-items: stretch;justify-content: center;background-color: white;position: relative;}#sk-container-id-1 div.sk-item::before, #sk-container-id-1 div.sk-parallel-item::before {content: \"\";position: absolute;border-left: 1px solid gray;box-sizing: border-box;top: 0;bottom: 0;left: 50%;z-index: -1;}#sk-container-id-1 div.sk-parallel-item {display: flex;flex-direction: column;z-index: 1;position: relative;background-color: white;}#sk-container-id-1 div.sk-parallel-item:first-child::after {align-self: flex-end;width: 50%;}#sk-container-id-1 div.sk-parallel-item:last-child::after {align-self: flex-start;width: 50%;}#sk-container-id-1 div.sk-parallel-item:only-child::after {width: 0;}#sk-container-id-1 div.sk-dashed-wrapped {border: 1px dashed gray;margin: 0 0.4em 0.5em 0.4em;box-sizing: border-box;padding-bottom: 0.4em;background-color: white;}#sk-container-id-1 div.sk-label label {font-family: monospace;font-weight: bold;display: inline-block;line-height: 1.2em;}#sk-container-id-1 div.sk-label-container {text-align: center;}#sk-container-id-1 div.sk-container {/* jupyter's `normalize.less` sets `[hidden] { display: none; }` but bootstrap.min.css set `[hidden] { display: none !important; }` so we also need the `!important` here to be able to override the default hidden behavior on the sphinx rendered scikit-learn.org. See: https://github.com/scikit-learn/scikit-learn/issues/21755 */display: inline-block !important;position: relative;}#sk-container-id-1 div.sk-text-repr-fallback {display: none;}</style><div id=\"sk-container-id-1\" class=\"sk-top-container\"><div class=\"sk-text-repr-fallback\"><pre>GridSearchCV(estimator=SVC(),\n",
              "             param_grid={&#x27;C&#x27;: [0.1, 1, 10, 100], &#x27;gamma&#x27;: [1, 0.1, 0.01, 0.001],\n",
              "                         &#x27;kernel&#x27;: [&#x27;rbf&#x27;, &#x27;poly&#x27;, &#x27;sigmoid&#x27;]},\n",
              "             verbose=2)</pre><b>In a Jupyter environment, please rerun this cell to show the HTML representation or trust the notebook. <br />On GitHub, the HTML representation is unable to render, please try loading this page with nbviewer.org.</b></div><div class=\"sk-container\" hidden><div class=\"sk-item sk-dashed-wrapped\"><div class=\"sk-label-container\"><div class=\"sk-label sk-toggleable\"><input class=\"sk-toggleable__control sk-hidden--visually\" id=\"sk-estimator-id-1\" type=\"checkbox\" ><label for=\"sk-estimator-id-1\" class=\"sk-toggleable__label sk-toggleable__label-arrow\">GridSearchCV</label><div class=\"sk-toggleable__content\"><pre>GridSearchCV(estimator=SVC(),\n",
              "             param_grid={&#x27;C&#x27;: [0.1, 1, 10, 100], &#x27;gamma&#x27;: [1, 0.1, 0.01, 0.001],\n",
              "                         &#x27;kernel&#x27;: [&#x27;rbf&#x27;, &#x27;poly&#x27;, &#x27;sigmoid&#x27;]},\n",
              "             verbose=2)</pre></div></div></div><div class=\"sk-parallel\"><div class=\"sk-parallel-item\"><div class=\"sk-item\"><div class=\"sk-label-container\"><div class=\"sk-label sk-toggleable\"><input class=\"sk-toggleable__control sk-hidden--visually\" id=\"sk-estimator-id-2\" type=\"checkbox\" ><label for=\"sk-estimator-id-2\" class=\"sk-toggleable__label sk-toggleable__label-arrow\">estimator: SVC</label><div class=\"sk-toggleable__content\"><pre>SVC()</pre></div></div></div><div class=\"sk-serial\"><div class=\"sk-item\"><div class=\"sk-estimator sk-toggleable\"><input class=\"sk-toggleable__control sk-hidden--visually\" id=\"sk-estimator-id-3\" type=\"checkbox\" ><label for=\"sk-estimator-id-3\" class=\"sk-toggleable__label sk-toggleable__label-arrow\">SVC</label><div class=\"sk-toggleable__content\"><pre>SVC()</pre></div></div></div></div></div></div></div></div></div></div>"
            ]
          },
          "metadata": {},
          "execution_count": 18
        }
      ]
    },
    {
      "cell_type": "code",
      "source": [
        "print(grid.best_estimator_)"
      ],
      "metadata": {
        "colab": {
          "base_uri": "https://localhost:8080/"
        },
        "id": "LqN85ClPRkHq",
        "outputId": "16cf9873-d5a6-48fb-916e-4e640c9c6eb7"
      },
      "execution_count": 19,
      "outputs": [
        {
          "output_type": "stream",
          "name": "stdout",
          "text": [
            "SVC(C=100, gamma=1)\n"
          ]
        }
      ]
    },
    {
      "cell_type": "code",
      "source": [
        "linear_model.fit(data_circles, target_circles)\n",
        "DecisionBoundaryDisplay.from_estimator(linear_model, data_circles, response_method=\"predict\", cmap=\"RdBu\", alpha=0.5)\n",
        "sns.scatterplot(data=circles, x=feature_names[0], y = feature_names[1], hue = target_circles, palette=[\"tab:red\", \"tab:blue\"])\n",
        "plt.title(\"Decision Boundary for Linear Kernel\")"
      ],
      "metadata": {
        "colab": {
          "base_uri": "https://localhost:8080/",
          "height": 490
        },
        "id": "tXnPFhh9FKQq",
        "outputId": "9038fb0f-df86-4431-9330-5858134e7797"
      },
      "execution_count": 20,
      "outputs": [
        {
          "output_type": "execute_result",
          "data": {
            "text/plain": [
              "Text(0.5, 1.0, 'Decision Boundary for Linear Kernel')"
            ]
          },
          "metadata": {},
          "execution_count": 20
        },
        {
          "output_type": "display_data",
          "data": {
            "text/plain": [
              "<Figure size 640x480 with 1 Axes>"
            ],
            "image/png": "[encoded data removed]"
          },
          "metadata": {}
        }
      ]
    },
    {
      "cell_type": "markdown",
      "source": [
        "The linear kernel decision boundary does not classify the two classes very accurately and performs poorly, hence we try a non-linear kernel as the data points are not linearly seperable. We need to plot the data in a higher dimension where we might get a decision boundary. Hence we try the non-linear RBF kernel."
      ],
      "metadata": {
        "id": "CiBt3__Rhp5n"
      }
    },
    {
      "cell_type": "markdown",
      "source": [
        "### RBF Kernel Decision Boundary"
      ],
      "metadata": {
        "id": "cuwINTN6H_pc"
      }
    },
    {
      "cell_type": "code",
      "source": [
        "kernel_model = make_pipeline(StandardScaler(), SVC(kernel='rbf', C=100, gamma=1))"
      ],
      "metadata": {
        "id": "f3duy9ldCbai"
      },
      "execution_count": 21,
      "outputs": []
    },
    {
      "cell_type": "markdown",
      "source": [
        "Train Validation data split"
      ],
      "metadata": {
        "id": "xY7CCpbMMyJv"
      }
    },
    {
      "cell_type": "code",
      "source": [
        "train_set, validation_set = train_test_split(circles, test_size=0.2, random_state=42)"
      ],
      "metadata": {
        "id": "2mfwmk9D-Ff4"
      },
      "execution_count": 22,
      "outputs": []
    },
    {
      "cell_type": "code",
      "source": [
        "X_train = train_set.iloc[:,0:-1].values\n",
        "y_train = train_set.iloc[:, -1].values\n",
        "X_val = validation_set.iloc[:, 0:-1].values\n",
        "y_val = validation_set.iloc[:, -1].values"
      ],
      "metadata": {
        "id": "wslGw9ae-Fny"
      },
      "execution_count": 23,
      "outputs": []
    },
    {
      "cell_type": "markdown",
      "source": [
        "K fold Cross Validation"
      ],
      "metadata": {
        "id": "P8h8kLnDM5aC"
      }
    },
    {
      "cell_type": "code",
      "source": [
        "accuracies=cross_val_score(estimator=kernel_model,X=X_train,y=y_train,cv=10)\n",
        "accuracies"
      ],
      "metadata": {
        "colab": {
          "base_uri": "https://localhost:8080/"
        },
        "id": "wpVare2w-Ftz",
        "outputId": "245a2d83-695c-4e87-9c98-47e0aa907b99"
      },
      "execution_count": 24,
      "outputs": [
        {
          "output_type": "execute_result",
          "data": {
            "text/plain": [
              "array([1.  , 1.  , 0.75, 1.  , 0.75, 1.  , 1.  , 1.  , 0.75, 0.75])"
            ]
          },
          "metadata": {},
          "execution_count": 24
        }
      ]
    },
    {
      "cell_type": "code",
      "source": [
        "print(\"average accuracy :\",np.mean(accuracies))\n",
        "print(\"average std :\",np.std(accuracies))"
      ],
      "metadata": {
        "colab": {
          "base_uri": "https://localhost:8080/"
        },
        "id": "7pYT5hcx-F3t",
        "outputId": "d6dbcc55-506a-4333-d351-d58afaecdd56"
      },
      "execution_count": 25,
      "outputs": [
        {
          "output_type": "stream",
          "name": "stdout",
          "text": [
            "average accuracy : 0.9\n",
            "average std : 0.12247448713915891\n"
          ]
        }
      ]
    },
    {
      "cell_type": "markdown",
      "source": [
        "Fitting the model and checking the accuracy on validation data"
      ],
      "metadata": {
        "id": "MBgRD7PSNQF1"
      }
    },
    {
      "cell_type": "code",
      "source": [
        "kernel_model.fit(X_train,y_train)\n",
        "print(\"test accuracy :\",kernel_model.score(X_val,y_val))"
      ],
      "metadata": {
        "colab": {
          "base_uri": "https://localhost:8080/"
        },
        "id": "NrbbHU9J-R4J",
        "outputId": "9aed599b-fd34-4933-a986-bef6dede9984"
      },
      "execution_count": 26,
      "outputs": [
        {
          "output_type": "stream",
          "name": "stdout",
          "text": [
            "test accuracy : 0.5454545454545454\n"
          ]
        }
      ]
    },
    {
      "cell_type": "markdown",
      "source": [
        "\n",
        "Grid Search for hyperparameter tuning, changing hyperparameters in the kernel as given by the Grid Search for best results"
      ],
      "metadata": {
        "id": "rZB3mGA0RPgp"
      }
    },
    {
      "cell_type": "code",
      "source": [
        "param_grid = {'C': [0.1,1, 10, 100], 'gamma': [1,0.1,0.01,0.001],'kernel': ['rbf', 'poly', 'sigmoid']}\n",
        "grid = GridSearchCV(SVC(),param_grid,refit=True,verbose=2)\n",
        "grid.fit(X_train,y_train)"
      ],
      "metadata": {
        "colab": {
          "base_uri": "https://localhost:8080/",
          "height": 1000
        },
        "id": "cQcJ68RQRIqs",
        "outputId": "a4214bce-fe6a-4321-8294-eb22d667ae65"
      },
      "execution_count": 27,
      "outputs": [
        {
          "output_type": "stream",
          "name": "stdout",
          "text": [
            "Fitting 5 folds for each of 48 candidates, totalling 240 fits\n",
            "[CV] END .........................C=0.1, gamma=1, kernel=rbf; total time=   0.0s\n",
            "[CV] END .........................C=0.1, gamma=1, kernel=rbf; total time=   0.0s\n",
            "[CV] END .........................C=0.1, gamma=1, kernel=rbf; total time=   0.0s\n",
            "[CV] END .........................C=0.1, gamma=1, kernel=rbf; total time=   0.0s\n",
            "[CV] END .........................C=0.1, gamma=1, kernel=rbf; total time=   0.0s\n",
            "[CV] END ........................C=0.1, gamma=1, kernel=poly; total time=   0.0s\n",
            "[CV] END ........................C=0.1, gamma=1, kernel=poly; total time=   0.0s\n",
            "[CV] END ........................C=0.1, gamma=1, kernel=poly; total time=   0.0s\n",
            "[CV] END ........................C=0.1, gamma=1, kernel=poly; total time=   0.0s\n",
            "[CV] END ........................C=0.1, gamma=1, kernel=poly; total time=   0.0s\n",
            "[CV] END .....................C=0.1, gamma=1, kernel=sigmoid; total time=   0.0s\n",
            "[CV] END .....................C=0.1, gamma=1, kernel=sigmoid; total time=   0.0s\n",
            "[CV] END .....................C=0.1, gamma=1, kernel=sigmoid; total time=   0.0s\n",
            "[CV] END .....................C=0.1, gamma=1, kernel=sigmoid; total time=   0.0s\n",
            "[CV] END .....................C=0.1, gamma=1, kernel=sigmoid; total time=   0.0s\n",
            "[CV] END .......................C=0.1, gamma=0.1, kernel=rbf; total time=   0.0s\n",
            "[CV] END .......................C=0.1, gamma=0.1, kernel=rbf; total time=   0.0s\n",
            "[CV] END .......................C=0.1, gamma=0.1, kernel=rbf; total time=   0.0s\n",
            "[CV] END .......................C=0.1, gamma=0.1, kernel=rbf; total time=   0.0s\n",
            "[CV] END .......................C=0.1, gamma=0.1, kernel=rbf; total time=   0.0s\n",
            "[CV] END ......................C=0.1, gamma=0.1, kernel=poly; total time=   0.0s\n",
            "[CV] END ......................C=0.1, gamma=0.1, kernel=poly; total time=   0.0s\n",
            "[CV] END ......................C=0.1, gamma=0.1, kernel=poly; total time=   0.0s\n",
            "[CV] END ......................C=0.1, gamma=0.1, kernel=poly; total time=   0.0s\n",
            "[CV] END ......................C=0.1, gamma=0.1, kernel=poly; total time=   0.0s\n",
            "[CV] END ...................C=0.1, gamma=0.1, kernel=sigmoid; total time=   0.0s\n",
            "[CV] END ...................C=0.1, gamma=0.1, kernel=sigmoid; total time=   0.0s\n",
            "[CV] END ...................C=0.1, gamma=0.1, kernel=sigmoid; total time=   0.0s\n",
            "[CV] END ...................C=0.1, gamma=0.1, kernel=sigmoid; total time=   0.0s\n",
            "[CV] END ...................C=0.1, gamma=0.1, kernel=sigmoid; total time=   0.0s\n",
            "[CV] END ......................C=0.1, gamma=0.01, kernel=rbf; total time=   0.0s\n",
            "[CV] END ......................C=0.1, gamma=0.01, kernel=rbf; total time=   0.0s\n",
            "[CV] END ......................C=0.1, gamma=0.01, kernel=rbf; total time=   0.0s\n",
            "[CV] END ......................C=0.1, gamma=0.01, kernel=rbf; total time=   0.0s\n",
            "[CV] END ......................C=0.1, gamma=0.01, kernel=rbf; total time=   0.0s\n",
            "[CV] END .....................C=0.1, gamma=0.01, kernel=poly; total time=   0.0s\n",
            "[CV] END .....................C=0.1, gamma=0.01, kernel=poly; total time=   0.0s\n",
            "[CV] END .....................C=0.1, gamma=0.01, kernel=poly; total time=   0.0s\n",
            "[CV] END .....................C=0.1, gamma=0.01, kernel=poly; total time=   0.0s\n",
            "[CV] END .....................C=0.1, gamma=0.01, kernel=poly; total time=   0.0s\n",
            "[CV] END ..................C=0.1, gamma=0.01, kernel=sigmoid; total time=   0.0s\n",
            "[CV] END ..................C=0.1, gamma=0.01, kernel=sigmoid; total time=   0.0s\n",
            "[CV] END ..................C=0.1, gamma=0.01, kernel=sigmoid; total time=   0.0s\n",
            "[CV] END ..................C=0.1, gamma=0.01, kernel=sigmoid; total time=   0.0s\n",
            "[CV] END ..................C=0.1, gamma=0.01, kernel=sigmoid; total time=   0.0s\n",
            "[CV] END .....................C=0.1, gamma=0.001, kernel=rbf; total time=   0.0s\n",
            "[CV] END .....................C=0.1, gamma=0.001, kernel=rbf; total time=   0.0s\n",
            "[CV] END .....................C=0.1, gamma=0.001, kernel=rbf; total time=   0.0s\n",
            "[CV] END .....................C=0.1, gamma=0.001, kernel=rbf; total time=   0.0s\n",
            "[CV] END .....................C=0.1, gamma=0.001, kernel=rbf; total time=   0.0s\n",
            "[CV] END ....................C=0.1, gamma=0.001, kernel=poly; total time=   0.0s\n",
            "[CV] END ....................C=0.1, gamma=0.001, kernel=poly; total time=   0.0s\n",
            "[CV] END ....................C=0.1, gamma=0.001, kernel=poly; total time=   0.0s\n",
            "[CV] END ....................C=0.1, gamma=0.001, kernel=poly; total time=   0.0s\n",
            "[CV] END ....................C=0.1, gamma=0.001, kernel=poly; total time=   0.0s\n",
            "[CV] END .................C=0.1, gamma=0.001, kernel=sigmoid; total time=   0.0s\n",
            "[CV] END .................C=0.1, gamma=0.001, kernel=sigmoid; total time=   0.0s\n",
            "[CV] END .................C=0.1, gamma=0.001, kernel=sigmoid; total time=   0.0s\n",
            "[CV] END .................C=0.1, gamma=0.001, kernel=sigmoid; total time=   0.0s\n",
            "[CV] END .................C=0.1, gamma=0.001, kernel=sigmoid; total time=   0.0s\n",
            "[CV] END ...........................C=1, gamma=1, kernel=rbf; total time=   0.0s\n",
            "[CV] END ...........................C=1, gamma=1, kernel=rbf; total time=   0.0s\n",
            "[CV] END ...........................C=1, gamma=1, kernel=rbf; total time=   0.0s\n",
            "[CV] END ...........................C=1, gamma=1, kernel=rbf; total time=   0.0s\n",
            "[CV] END ...........................C=1, gamma=1, kernel=rbf; total time=   0.0s\n",
            "[CV] END ..........................C=1, gamma=1, kernel=poly; total time=   0.0s\n",
            "[CV] END ..........................C=1, gamma=1, kernel=poly; total time=   0.0s\n",
            "[CV] END ..........................C=1, gamma=1, kernel=poly; total time=   0.0s\n",
            "[CV] END ..........................C=1, gamma=1, kernel=poly; total time=   0.0s\n",
            "[CV] END ..........................C=1, gamma=1, kernel=poly; total time=   0.0s\n",
            "[CV] END .......................C=1, gamma=1, kernel=sigmoid; total time=   0.0s\n",
            "[CV] END .......................C=1, gamma=1, kernel=sigmoid; total time=   0.0s\n",
            "[CV] END .......................C=1, gamma=1, kernel=sigmoid; total time=   0.0s\n",
            "[CV] END .......................C=1, gamma=1, kernel=sigmoid; total time=   0.0s\n",
            "[CV] END .......................C=1, gamma=1, kernel=sigmoid; total time=   0.0s\n",
            "[CV] END .........................C=1, gamma=0.1, kernel=rbf; total time=   0.0s\n",
            "[CV] END .........................C=1, gamma=0.1, kernel=rbf; total time=   0.0s\n",
            "[CV] END .........................C=1, gamma=0.1, kernel=rbf; total time=   0.0s\n",
            "[CV] END .........................C=1, gamma=0.1, kernel=rbf; total time=   0.0s\n",
            "[CV] END .........................C=1, gamma=0.1, kernel=rbf; total time=   0.0s\n",
            "[CV] END ........................C=1, gamma=0.1, kernel=poly; total time=   0.0s\n",
            "[CV] END ........................C=1, gamma=0.1, kernel=poly; total time=   0.0s\n",
            "[CV] END ........................C=1, gamma=0.1, kernel=poly; total time=   0.0s\n",
            "[CV] END ........................C=1, gamma=0.1, kernel=poly; total time=   0.0s\n",
            "[CV] END ........................C=1, gamma=0.1, kernel=poly; total time=   0.0s\n",
            "[CV] END .....................C=1, gamma=0.1, kernel=sigmoid; total time=   0.0s\n",
            "[CV] END .....................C=1, gamma=0.1, kernel=sigmoid; total time=   0.0s\n",
            "[CV] END .....................C=1, gamma=0.1, kernel=sigmoid; total time=   0.0s\n",
            "[CV] END .....................C=1, gamma=0.1, kernel=sigmoid; total time=   0.0s\n",
            "[CV] END .....................C=1, gamma=0.1, kernel=sigmoid; total time=   0.0s\n",
            "[CV] END ........................C=1, gamma=0.01, kernel=rbf; total time=   0.0s\n",
            "[CV] END ........................C=1, gamma=0.01, kernel=rbf; total time=   0.0s\n",
            "[CV] END ........................C=1, gamma=0.01, kernel=rbf; total time=   0.0s\n",
            "[CV] END ........................C=1, gamma=0.01, kernel=rbf; total time=   0.0s\n",
            "[CV] END ........................C=1, gamma=0.01, kernel=rbf; total time=   0.0s\n",
            "[CV] END .......................C=1, gamma=0.01, kernel=poly; total time=   0.0s\n",
            "[CV] END .......................C=1, gamma=0.01, kernel=poly; total time=   0.0s\n",
            "[CV] END .......................C=1, gamma=0.01, kernel=poly; total time=   0.0s\n",
            "[CV] END .......................C=1, gamma=0.01, kernel=poly; total time=   0.0s\n",
            "[CV] END .......................C=1, gamma=0.01, kernel=poly; total time=   0.0s\n",
            "[CV] END ....................C=1, gamma=0.01, kernel=sigmoid; total time=   0.0s\n",
            "[CV] END ....................C=1, gamma=0.01, kernel=sigmoid; total time=   0.0s\n",
            "[CV] END ....................C=1, gamma=0.01, kernel=sigmoid; total time=   0.0s\n",
            "[CV] END ....................C=1, gamma=0.01, kernel=sigmoid; total time=   0.0s\n",
            "[CV] END ....................C=1, gamma=0.01, kernel=sigmoid; total time=   0.0s\n",
            "[CV] END .......................C=1, gamma=0.001, kernel=rbf; total time=   0.0s\n",
            "[CV] END .......................C=1, gamma=0.001, kernel=rbf; total time=   0.0s\n",
            "[CV] END .......................C=1, gamma=0.001, kernel=rbf; total time=   0.0s\n",
            "[CV] END .......................C=1, gamma=0.001, kernel=rbf; total time=   0.0s\n",
            "[CV] END .......................C=1, gamma=0.001, kernel=rbf; total time=   0.0s\n",
            "[CV] END ......................C=1, gamma=0.001, kernel=poly; total time=   0.0s\n",
            "[CV] END ......................C=1, gamma=0.001, kernel=poly; total time=   0.0s\n",
            "[CV] END ......................C=1, gamma=0.001, kernel=poly; total time=   0.0s\n",
            "[CV] END ......................C=1, gamma=0.001, kernel=poly; total time=   0.0s\n",
            "[CV] END ......................C=1, gamma=0.001, kernel=poly; total time=   0.0s\n",
            "[CV] END ...................C=1, gamma=0.001, kernel=sigmoid; total time=   0.0s\n",
            "[CV] END ...................C=1, gamma=0.001, kernel=sigmoid; total time=   0.0s\n",
            "[CV] END ...................C=1, gamma=0.001, kernel=sigmoid; total time=   0.0s\n",
            "[CV] END ...................C=1, gamma=0.001, kernel=sigmoid; total time=   0.0s\n",
            "[CV] END ...................C=1, gamma=0.001, kernel=sigmoid; total time=   0.0s\n",
            "[CV] END ..........................C=10, gamma=1, kernel=rbf; total time=   0.0s\n",
            "[CV] END ..........................C=10, gamma=1, kernel=rbf; total time=   0.0s\n",
            "[CV] END ..........................C=10, gamma=1, kernel=rbf; total time=   0.0s\n",
            "[CV] END ..........................C=10, gamma=1, kernel=rbf; total time=   0.0s\n",
            "[CV] END ..........................C=10, gamma=1, kernel=rbf; total time=   0.0s\n",
            "[CV] END .........................C=10, gamma=1, kernel=poly; total time=   0.0s\n",
            "[CV] END .........................C=10, gamma=1, kernel=poly; total time=   0.0s\n",
            "[CV] END .........................C=10, gamma=1, kernel=poly; total time=   0.0s\n",
            "[CV] END .........................C=10, gamma=1, kernel=poly; total time=   0.0s\n",
            "[CV] END .........................C=10, gamma=1, kernel=poly; total time=   0.0s\n",
            "[CV] END ......................C=10, gamma=1, kernel=sigmoid; total time=   0.0s\n",
            "[CV] END ......................C=10, gamma=1, kernel=sigmoid; total time=   0.0s\n",
            "[CV] END ......................C=10, gamma=1, kernel=sigmoid; total time=   0.0s\n",
            "[CV] END ......................C=10, gamma=1, kernel=sigmoid; total time=   0.0s\n",
            "[CV] END ......................C=10, gamma=1, kernel=sigmoid; total time=   0.0s\n",
            "[CV] END ........................C=10, gamma=0.1, kernel=rbf; total time=   0.0s\n",
            "[CV] END ........................C=10, gamma=0.1, kernel=rbf; total time=   0.0s\n",
            "[CV] END ........................C=10, gamma=0.1, kernel=rbf; total time=   0.0s\n",
            "[CV] END ........................C=10, gamma=0.1, kernel=rbf; total time=   0.0s\n",
            "[CV] END ........................C=10, gamma=0.1, kernel=rbf; total time=   0.0s\n",
            "[CV] END .......................C=10, gamma=0.1, kernel=poly; total time=   0.0s\n",
            "[CV] END .......................C=10, gamma=0.1, kernel=poly; total time=   0.0s\n",
            "[CV] END .......................C=10, gamma=0.1, kernel=poly; total time=   0.0s\n",
            "[CV] END .......................C=10, gamma=0.1, kernel=poly; total time=   0.0s\n",
            "[CV] END .......................C=10, gamma=0.1, kernel=poly; total time=   0.0s\n",
            "[CV] END ....................C=10, gamma=0.1, kernel=sigmoid; total time=   0.0s\n",
            "[CV] END ....................C=10, gamma=0.1, kernel=sigmoid; total time=   0.0s\n",
            "[CV] END ....................C=10, gamma=0.1, kernel=sigmoid; total time=   0.0s\n",
            "[CV] END ....................C=10, gamma=0.1, kernel=sigmoid; total time=   0.0s\n",
            "[CV] END ....................C=10, gamma=0.1, kernel=sigmoid; total time=   0.0s\n",
            "[CV] END .......................C=10, gamma=0.01, kernel=rbf; total time=   0.0s\n",
            "[CV] END .......................C=10, gamma=0.01, kernel=rbf; total time=   0.0s\n",
            "[CV] END .......................C=10, gamma=0.01, kernel=rbf; total time=   0.0s\n",
            "[CV] END .......................C=10, gamma=0.01, kernel=rbf; total time=   0.0s\n",
            "[CV] END .......................C=10, gamma=0.01, kernel=rbf; total time=   0.0s\n",
            "[CV] END ......................C=10, gamma=0.01, kernel=poly; total time=   0.0s\n",
            "[CV] END ......................C=10, gamma=0.01, kernel=poly; total time=   0.0s\n",
            "[CV] END ......................C=10, gamma=0.01, kernel=poly; total time=   0.0s\n",
            "[CV] END ......................C=10, gamma=0.01, kernel=poly; total time=   0.0s\n",
            "[CV] END ......................C=10, gamma=0.01, kernel=poly; total time=   0.0s\n",
            "[CV] END ...................C=10, gamma=0.01, kernel=sigmoid; total time=   0.0s\n",
            "[CV] END ...................C=10, gamma=0.01, kernel=sigmoid; total time=   0.0s\n",
            "[CV] END ...................C=10, gamma=0.01, kernel=sigmoid; total time=   0.0s\n",
            "[CV] END ...................C=10, gamma=0.01, kernel=sigmoid; total time=   0.0s\n",
            "[CV] END ...................C=10, gamma=0.01, kernel=sigmoid; total time=   0.0s\n",
            "[CV] END ......................C=10, gamma=0.001, kernel=rbf; total time=   0.0s\n",
            "[CV] END ......................C=10, gamma=0.001, kernel=rbf; total time=   0.0s\n",
            "[CV] END ......................C=10, gamma=0.001, kernel=rbf; total time=   0.0s\n",
            "[CV] END ......................C=10, gamma=0.001, kernel=rbf; total time=   0.0s\n",
            "[CV] END ......................C=10, gamma=0.001, kernel=rbf; total time=   0.0s\n",
            "[CV] END .....................C=10, gamma=0.001, kernel=poly; total time=   0.0s\n",
            "[CV] END .....................C=10, gamma=0.001, kernel=poly; total time=   0.0s\n",
            "[CV] END .....................C=10, gamma=0.001, kernel=poly; total time=   0.0s\n",
            "[CV] END .....................C=10, gamma=0.001, kernel=poly; total time=   0.0s\n",
            "[CV] END .....................C=10, gamma=0.001, kernel=poly; total time=   0.0s\n",
            "[CV] END ..................C=10, gamma=0.001, kernel=sigmoid; total time=   0.0s\n",
            "[CV] END ..................C=10, gamma=0.001, kernel=sigmoid; total time=   0.0s\n",
            "[CV] END ..................C=10, gamma=0.001, kernel=sigmoid; total time=   0.0s\n",
            "[CV] END ..................C=10, gamma=0.001, kernel=sigmoid; total time=   0.0s\n",
            "[CV] END ..................C=10, gamma=0.001, kernel=sigmoid; total time=   0.0s\n",
            "[CV] END .........................C=100, gamma=1, kernel=rbf; total time=   0.0s\n",
            "[CV] END .........................C=100, gamma=1, kernel=rbf; total time=   0.0s\n",
            "[CV] END .........................C=100, gamma=1, kernel=rbf; total time=   0.0s\n",
            "[CV] END .........................C=100, gamma=1, kernel=rbf; total time=   0.0s\n",
            "[CV] END .........................C=100, gamma=1, kernel=rbf; total time=   0.0s\n",
            "[CV] END ........................C=100, gamma=1, kernel=poly; total time=   0.0s\n",
            "[CV] END ........................C=100, gamma=1, kernel=poly; total time=   0.0s\n",
            "[CV] END ........................C=100, gamma=1, kernel=poly; total time=   0.0s\n",
            "[CV] END ........................C=100, gamma=1, kernel=poly; total time=   0.0s\n",
            "[CV] END ........................C=100, gamma=1, kernel=poly; total time=   0.0s\n",
            "[CV] END .....................C=100, gamma=1, kernel=sigmoid; total time=   0.0s\n",
            "[CV] END .....................C=100, gamma=1, kernel=sigmoid; total time=   0.0s\n",
            "[CV] END .....................C=100, gamma=1, kernel=sigmoid; total time=   0.0s\n",
            "[CV] END .....................C=100, gamma=1, kernel=sigmoid; total time=   0.0s\n",
            "[CV] END .....................C=100, gamma=1, kernel=sigmoid; total time=   0.0s\n",
            "[CV] END .......................C=100, gamma=0.1, kernel=rbf; total time=   0.0s\n",
            "[CV] END .......................C=100, gamma=0.1, kernel=rbf; total time=   0.0s\n",
            "[CV] END .......................C=100, gamma=0.1, kernel=rbf; total time=   0.0s\n",
            "[CV] END .......................C=100, gamma=0.1, kernel=rbf; total time=   0.0s\n",
            "[CV] END .......................C=100, gamma=0.1, kernel=rbf; total time=   0.0s\n",
            "[CV] END ......................C=100, gamma=0.1, kernel=poly; total time=   0.0s\n",
            "[CV] END ......................C=100, gamma=0.1, kernel=poly; total time=   0.0s\n",
            "[CV] END ......................C=100, gamma=0.1, kernel=poly; total time=   0.0s\n",
            "[CV] END ......................C=100, gamma=0.1, kernel=poly; total time=   0.0s\n",
            "[CV] END ......................C=100, gamma=0.1, kernel=poly; total time=   0.0s\n",
            "[CV] END ...................C=100, gamma=0.1, kernel=sigmoid; total time=   0.0s\n",
            "[CV] END ...................C=100, gamma=0.1, kernel=sigmoid; total time=   0.0s\n",
            "[CV] END ...................C=100, gamma=0.1, kernel=sigmoid; total time=   0.0s\n",
            "[CV] END ...................C=100, gamma=0.1, kernel=sigmoid; total time=   0.0s\n",
            "[CV] END ...................C=100, gamma=0.1, kernel=sigmoid; total time=   0.0s\n",
            "[CV] END ......................C=100, gamma=0.01, kernel=rbf; total time=   0.0s\n",
            "[CV] END ......................C=100, gamma=0.01, kernel=rbf; total time=   0.0s\n",
            "[CV] END ......................C=100, gamma=0.01, kernel=rbf; total time=   0.0s\n",
            "[CV] END ......................C=100, gamma=0.01, kernel=rbf; total time=   0.0s\n",
            "[CV] END ......................C=100, gamma=0.01, kernel=rbf; total time=   0.0s\n",
            "[CV] END .....................C=100, gamma=0.01, kernel=poly; total time=   0.0s\n",
            "[CV] END .....................C=100, gamma=0.01, kernel=poly; total time=   0.0s\n",
            "[CV] END .....................C=100, gamma=0.01, kernel=poly; total time=   0.0s\n",
            "[CV] END .....................C=100, gamma=0.01, kernel=poly; total time=   0.0s\n",
            "[CV] END .....................C=100, gamma=0.01, kernel=poly; total time=   0.0s\n",
            "[CV] END ..................C=100, gamma=0.01, kernel=sigmoid; total time=   0.0s\n",
            "[CV] END ..................C=100, gamma=0.01, kernel=sigmoid; total time=   0.0s\n",
            "[CV] END ..................C=100, gamma=0.01, kernel=sigmoid; total time=   0.0s\n",
            "[CV] END ..................C=100, gamma=0.01, kernel=sigmoid; total time=   0.0s\n",
            "[CV] END ..................C=100, gamma=0.01, kernel=sigmoid; total time=   0.0s\n",
            "[CV] END .....................C=100, gamma=0.001, kernel=rbf; total time=   0.0s\n",
            "[CV] END .....................C=100, gamma=0.001, kernel=rbf; total time=   0.0s\n",
            "[CV] END .....................C=100, gamma=0.001, kernel=rbf; total time=   0.0s\n",
            "[CV] END .....................C=100, gamma=0.001, kernel=rbf; total time=   0.0s\n",
            "[CV] END .....................C=100, gamma=0.001, kernel=rbf; total time=   0.0s\n",
            "[CV] END ....................C=100, gamma=0.001, kernel=poly; total time=   0.0s\n",
            "[CV] END ....................C=100, gamma=0.001, kernel=poly; total time=   0.0s\n",
            "[CV] END ....................C=100, gamma=0.001, kernel=poly; total time=   0.0s\n",
            "[CV] END ....................C=100, gamma=0.001, kernel=poly; total time=   0.0s\n",
            "[CV] END ....................C=100, gamma=0.001, kernel=poly; total time=   0.0s\n",
            "[CV] END .................C=100, gamma=0.001, kernel=sigmoid; total time=   0.0s\n",
            "[CV] END .................C=100, gamma=0.001, kernel=sigmoid; total time=   0.0s\n",
            "[CV] END .................C=100, gamma=0.001, kernel=sigmoid; total time=   0.0s\n",
            "[CV] END .................C=100, gamma=0.001, kernel=sigmoid; total time=   0.0s\n",
            "[CV] END .................C=100, gamma=0.001, kernel=sigmoid; total time=   0.0s\n"
          ]
        },
        {
          "output_type": "execute_result",
          "data": {
            "text/plain": [
              "GridSearchCV(estimator=SVC(),\n",
              "             param_grid={'C': [0.1, 1, 10, 100], 'gamma': [1, 0.1, 0.01, 0.001],\n",
              "                         'kernel': ['rbf', 'poly', 'sigmoid']},\n",
              "             verbose=2)"
            ],
            "text/html": [
              "<style>#sk-container-id-2 {color: black;background-color: white;}#sk-container-id-2 pre{padding: 0;}#sk-container-id-2 div.sk-toggleable {background-color: white;}#sk-container-id-2 label.sk-toggleable__label {cursor: pointer;display: block;width: 100%;margin-bottom: 0;padding: 0.3em;box-sizing: border-box;text-align: center;}#sk-container-id-2 label.sk-toggleable__label-arrow:before {content: \"▸\";float: left;margin-right: 0.25em;color: #696969;}#sk-container-id-2 label.sk-toggleable__label-arrow:hover:before {color: black;}#sk-container-id-2 div.sk-estimator:hover label.sk-toggleable__label-arrow:before {color: black;}#sk-container-id-2 div.sk-toggleable__content {max-height: 0;max-width: 0;overflow: hidden;text-align: left;background-color: #f0f8ff;}#sk-container-id-2 div.sk-toggleable__content pre {margin: 0.2em;color: black;border-radius: 0.25em;background-color: #f0f8ff;}#sk-container-id-2 input.sk-toggleable__control:checked~div.sk-toggleable__content {max-height: 200px;max-width: 100%;overflow: auto;}#sk-container-id-2 input.sk-toggleable__control:checked~label.sk-toggleable__label-arrow:before {content: \"▾\";}#sk-container-id-2 div.sk-estimator input.sk-toggleable__control:checked~label.sk-toggleable__label {background-color: #d4ebff;}#sk-container-id-2 div.sk-label input.sk-toggleable__control:checked~label.sk-toggleable__label {background-color: #d4ebff;}#sk-container-id-2 input.sk-hidden--visually {border: 0;clip: rect(1px 1px 1px 1px);clip: rect(1px, 1px, 1px, 1px);height: 1px;margin: -1px;overflow: hidden;padding: 0;position: absolute;width: 1px;}#sk-container-id-2 div.sk-estimator {font-family: monospace;background-color: #f0f8ff;border: 1px dotted black;border-radius: 0.25em;box-sizing: border-box;margin-bottom: 0.5em;}#sk-container-id-2 div.sk-estimator:hover {background-color: #d4ebff;}#sk-container-id-2 div.sk-parallel-item::after {content: \"\";width: 100%;border-bottom: 1px solid gray;flex-grow: 1;}#sk-container-id-2 div.sk-label:hover label.sk-toggleable__label {background-color: #d4ebff;}#sk-container-id-2 div.sk-serial::before {content: \"\";position: absolute;border-left: 1px solid gray;box-sizing: border-box;top: 0;bottom: 0;left: 50%;z-index: 0;}#sk-container-id-2 div.sk-serial {display: flex;flex-direction: column;align-items: center;background-color: white;padding-right: 0.2em;padding-left: 0.2em;position: relative;}#sk-container-id-2 div.sk-item {position: relative;z-index: 1;}#sk-container-id-2 div.sk-parallel {display: flex;align-items: stretch;justify-content: center;background-color: white;position: relative;}#sk-container-id-2 div.sk-item::before, #sk-container-id-2 div.sk-parallel-item::before {content: \"\";position: absolute;border-left: 1px solid gray;box-sizing: border-box;top: 0;bottom: 0;left: 50%;z-index: -1;}#sk-container-id-2 div.sk-parallel-item {display: flex;flex-direction: column;z-index: 1;position: relative;background-color: white;}#sk-container-id-2 div.sk-parallel-item:first-child::after {align-self: flex-end;width: 50%;}#sk-container-id-2 div.sk-parallel-item:last-child::after {align-self: flex-start;width: 50%;}#sk-container-id-2 div.sk-parallel-item:only-child::after {width: 0;}#sk-container-id-2 div.sk-dashed-wrapped {border: 1px dashed gray;margin: 0 0.4em 0.5em 0.4em;box-sizing: border-box;padding-bottom: 0.4em;background-color: white;}#sk-container-id-2 div.sk-label label {font-family: monospace;font-weight: bold;display: inline-block;line-height: 1.2em;}#sk-container-id-2 div.sk-label-container {text-align: center;}#sk-container-id-2 div.sk-container {/* jupyter's `normalize.less` sets `[hidden] { display: none; }` but bootstrap.min.css set `[hidden] { display: none !important; }` so we also need the `!important` here to be able to override the default hidden behavior on the sphinx rendered scikit-learn.org. See: https://github.com/scikit-learn/scikit-learn/issues/21755 */display: inline-block !important;position: relative;}#sk-container-id-2 div.sk-text-repr-fallback {display: none;}</style><div id=\"sk-container-id-2\" class=\"sk-top-container\"><div class=\"sk-text-repr-fallback\"><pre>GridSearchCV(estimator=SVC(),\n",
              "             param_grid={&#x27;C&#x27;: [0.1, 1, 10, 100], &#x27;gamma&#x27;: [1, 0.1, 0.01, 0.001],\n",
              "                         &#x27;kernel&#x27;: [&#x27;rbf&#x27;, &#x27;poly&#x27;, &#x27;sigmoid&#x27;]},\n",
              "             verbose=2)</pre><b>In a Jupyter environment, please rerun this cell to show the HTML representation or trust the notebook. <br />On GitHub, the HTML representation is unable to render, please try loading this page with nbviewer.org.</b></div><div class=\"sk-container\" hidden><div class=\"sk-item sk-dashed-wrapped\"><div class=\"sk-label-container\"><div class=\"sk-label sk-toggleable\"><input class=\"sk-toggleable__control sk-hidden--visually\" id=\"sk-estimator-id-4\" type=\"checkbox\" ><label for=\"sk-estimator-id-4\" class=\"sk-toggleable__label sk-toggleable__label-arrow\">GridSearchCV</label><div class=\"sk-toggleable__content\"><pre>GridSearchCV(estimator=SVC(),\n",
              "             param_grid={&#x27;C&#x27;: [0.1, 1, 10, 100], &#x27;gamma&#x27;: [1, 0.1, 0.01, 0.001],\n",
              "                         &#x27;kernel&#x27;: [&#x27;rbf&#x27;, &#x27;poly&#x27;, &#x27;sigmoid&#x27;]},\n",
              "             verbose=2)</pre></div></div></div><div class=\"sk-parallel\"><div class=\"sk-parallel-item\"><div class=\"sk-item\"><div class=\"sk-label-container\"><div class=\"sk-label sk-toggleable\"><input class=\"sk-toggleable__control sk-hidden--visually\" id=\"sk-estimator-id-5\" type=\"checkbox\" ><label for=\"sk-estimator-id-5\" class=\"sk-toggleable__label sk-toggleable__label-arrow\">estimator: SVC</label><div class=\"sk-toggleable__content\"><pre>SVC()</pre></div></div></div><div class=\"sk-serial\"><div class=\"sk-item\"><div class=\"sk-estimator sk-toggleable\"><input class=\"sk-toggleable__control sk-hidden--visually\" id=\"sk-estimator-id-6\" type=\"checkbox\" ><label for=\"sk-estimator-id-6\" class=\"sk-toggleable__label sk-toggleable__label-arrow\">SVC</label><div class=\"sk-toggleable__content\"><pre>SVC()</pre></div></div></div></div></div></div></div></div></div></div>"
            ]
          },
          "metadata": {},
          "execution_count": 27
        }
      ]
    },
    {
      "cell_type": "code",
      "source": [
        "print(grid.best_estimator_)"
      ],
      "metadata": {
        "colab": {
          "base_uri": "https://localhost:8080/"
        },
        "id": "CEs-2AzTRNE6",
        "outputId": "683c4962-0d82-46e0-a7b9-89cf30acf86c"
      },
      "execution_count": 28,
      "outputs": [
        {
          "output_type": "stream",
          "name": "stdout",
          "text": [
            "SVC(C=100, gamma=1)\n"
          ]
        }
      ]
    },
    {
      "cell_type": "code",
      "source": [
        "kernel_model.fit(data_circles, target_circles)\n",
        "DecisionBoundaryDisplay.from_estimator(kernel_model, data_circles, response_method=\"predict\", cmap=\"RdBu\", alpha=0.5)\n",
        "sns.scatterplot(data=circles, x = feature_names[0], y = feature_names[1], hue = target_circles, palette=[\"tab:red\", \"tab:blue\"])\n",
        "plt.title(\"Decision Boundary for RBF Kernel\")"
      ],
      "metadata": {
        "colab": {
          "base_uri": "https://localhost:8080/",
          "height": 490
        },
        "id": "t_WUfwysDFTz",
        "outputId": "d6726319-fb5b-4003-b9ec-58a7953c193a"
      },
      "execution_count": 29,
      "outputs": [
        {
          "output_type": "execute_result",
          "data": {
            "text/plain": [
              "Text(0.5, 1.0, 'Decision Boundary for RBF Kernel')"
            ]
          },
          "metadata": {},
          "execution_count": 29
        },
        {
          "output_type": "display_data",
          "data": {
            "text/plain": [
              "<Figure size 640x480 with 1 Axes>"
            ],
            "image/png": "[encoded data removed]"
          },
          "metadata": {}
        }
      ]
    },
    {
      "cell_type": "markdown",
      "source": [
        "The RBF kernel performs well in making a non-linear decision boundary ( sort of like a semi-circle boundary ) around the blue data points seperating them from the red ones."
      ],
      "metadata": {
        "id": "USJlpMDIiPQN"
      }
    },
    {
      "cell_type": "markdown",
      "source": [
        "## Moons dataset"
      ],
      "metadata": {
        "id": "ee_pD7nQTtfk"
      }
    },
    {
      "cell_type": "markdown",
      "source": [
        "Plotting the data points"
      ],
      "metadata": {
        "id": "KZmWz57gjiW6"
      }
    },
    {
      "cell_type": "code",
      "source": [
        "feature_names = [\"Feature #0\", \"Features #1\"]\n",
        "target_name = \"class\"\n",
        "\n",
        "X, y = make_moons(n_samples=100, noise=0.13, random_state=42)\n",
        "\n",
        "# We store both the data and target in a dataframe to ease plotting\n",
        "moons = pd.DataFrame(np.concatenate([X, y[:, np.newaxis]], axis=1), columns=feature_names + [target_name],)\n",
        "data_moons, target_moons = moons[feature_names], moons[target_name]"
      ],
      "metadata": {
        "id": "WZ6cKQ5zf09A"
      },
      "execution_count": 30,
      "outputs": []
    },
    {
      "cell_type": "code",
      "source": [
        "sns.scatterplot(data = moons, x=feature_names[0], y=feature_names[1], hue=target_moons, palette=[\"tab:red\", \"tab:blue\"],)\n",
        "plt.title(\"Moons dataset\")"
      ],
      "metadata": {
        "colab": {
          "base_uri": "https://localhost:8080/",
          "height": 490
        },
        "id": "3qbACEbCklnM",
        "outputId": "b2e26971-68c7-43e5-f50a-4d8c9fe5404c"
      },
      "execution_count": 31,
      "outputs": [
        {
          "output_type": "execute_result",
          "data": {
            "text/plain": [
              "Text(0.5, 1.0, 'Moons dataset')"
            ]
          },
          "metadata": {},
          "execution_count": 31
        },
        {
          "output_type": "display_data",
          "data": {
            "text/plain": [
              "<Figure size 640x480 with 1 Axes>"
            ],
            "image/png": "[encoded data removed]"
          },
          "metadata": {}
        }
      ]
    },
    {
      "cell_type": "markdown",
      "source": [
        "### Linear Kernel Decision Boundary"
      ],
      "metadata": {
        "id": "4jpZHqyMIGEq"
      }
    },
    {
      "cell_type": "code",
      "source": [
        "linear_model = make_pipeline(StandardScaler(), SVC(kernel=\"linear\", C=10, gamma=1))"
      ],
      "metadata": {
        "id": "1zMampUqmsg4"
      },
      "execution_count": 32,
      "outputs": []
    },
    {
      "cell_type": "markdown",
      "source": [
        "Train validation data split"
      ],
      "metadata": {
        "id": "JoeQS68IRup5"
      }
    },
    {
      "cell_type": "code",
      "source": [
        "train_set, validation_set = train_test_split(moons, test_size=0.2, random_state=42)"
      ],
      "metadata": {
        "id": "o6GSmSF8NpHG"
      },
      "execution_count": 33,
      "outputs": []
    },
    {
      "cell_type": "code",
      "source": [
        "X_train = train_set.iloc[:,0:-1].values\n",
        "y_train = train_set.iloc[:, -1].values\n",
        "X_val = validation_set.iloc[:, 0:-1].values\n",
        "y_val = validation_set.iloc[:, -1].values"
      ],
      "metadata": {
        "id": "uDTCvBv6NpMV"
      },
      "execution_count": 34,
      "outputs": []
    },
    {
      "cell_type": "markdown",
      "source": [
        "K fold cross validation on train data set"
      ],
      "metadata": {
        "id": "DjZgCvjJRxUJ"
      }
    },
    {
      "cell_type": "code",
      "source": [
        "accuracies=cross_val_score(estimator=linear_model,X=X_train,y=y_train,cv=10)\n",
        "accuracies"
      ],
      "metadata": {
        "colab": {
          "base_uri": "https://localhost:8080/"
        },
        "id": "UbTdZtMiNwq7",
        "outputId": "bfc22188-78a8-44d0-b710-870ae7808cfa"
      },
      "execution_count": 35,
      "outputs": [
        {
          "output_type": "execute_result",
          "data": {
            "text/plain": [
              "array([0.875, 0.625, 0.875, 0.75 , 0.875, 0.875, 0.875, 0.875, 0.75 ,\n",
              "       0.875])"
            ]
          },
          "metadata": {},
          "execution_count": 35
        }
      ]
    },
    {
      "cell_type": "code",
      "source": [
        "print(\"average accuracy :\",np.mean(accuracies))\n",
        "print(\"average std :\",np.std(accuracies))"
      ],
      "metadata": {
        "colab": {
          "base_uri": "https://localhost:8080/"
        },
        "id": "s5E-iGNENwur",
        "outputId": "3ea992c1-302f-4d48-b2d9-db797a05759c"
      },
      "execution_count": 36,
      "outputs": [
        {
          "output_type": "stream",
          "name": "stdout",
          "text": [
            "average accuracy : 0.825\n",
            "average std : 0.08291561975888499\n"
          ]
        }
      ]
    },
    {
      "cell_type": "code",
      "source": [
        "linear_model.fit(X_train,y_train)\n",
        "print(\"test accuracy :\",linear_model.score(X_val,y_val))"
      ],
      "metadata": {
        "colab": {
          "base_uri": "https://localhost:8080/"
        },
        "id": "ob0JVHfONwwx",
        "outputId": "cbabcd02-9210-4c46-c3bb-f963c4a50ab1"
      },
      "execution_count": 37,
      "outputs": [
        {
          "output_type": "stream",
          "name": "stdout",
          "text": [
            "test accuracy : 1.0\n"
          ]
        }
      ]
    },
    {
      "cell_type": "markdown",
      "source": [
        "Grid Search for hyperparameter tuning, changing hyperparameters in the kernel as given by the Grid Search for best results"
      ],
      "metadata": {
        "id": "PA0n7yvNQ6Z6"
      }
    },
    {
      "cell_type": "code",
      "source": [
        "param_grid = {'C': [0.1,1, 10, 100], 'gamma': [1,0.1,0.01,0.001],'kernel': ['rbf', 'poly', 'sigmoid']}\n",
        "grid = GridSearchCV(SVC(),param_grid,refit=True,verbose=2)\n",
        "grid.fit(X_train,y_train)"
      ],
      "metadata": {
        "colab": {
          "base_uri": "https://localhost:8080/",
          "height": 1000
        },
        "id": "JFX5AYu8Qpoi",
        "outputId": "0e4c0760-628e-41a5-86f0-f130647633a1"
      },
      "execution_count": 38,
      "outputs": [
        {
          "output_type": "stream",
          "name": "stdout",
          "text": [
            "Fitting 5 folds for each of 48 candidates, totalling 240 fits\n",
            "[CV] END .........................C=0.1, gamma=1, kernel=rbf; total time=   0.0s\n",
            "[CV] END .........................C=0.1, gamma=1, kernel=rbf; total time=   0.0s\n",
            "[CV] END .........................C=0.1, gamma=1, kernel=rbf; total time=   0.0s\n",
            "[CV] END .........................C=0.1, gamma=1, kernel=rbf; total time=   0.0s\n",
            "[CV] END .........................C=0.1, gamma=1, kernel=rbf; total time=   0.0s\n",
            "[CV] END ........................C=0.1, gamma=1, kernel=poly; total time=   0.0s\n",
            "[CV] END ........................C=0.1, gamma=1, kernel=poly; total time=   0.0s\n",
            "[CV] END ........................C=0.1, gamma=1, kernel=poly; total time=   0.0s\n",
            "[CV] END ........................C=0.1, gamma=1, kernel=poly; total time=   0.0s\n",
            "[CV] END ........................C=0.1, gamma=1, kernel=poly; total time=   0.0s\n",
            "[CV] END .....................C=0.1, gamma=1, kernel=sigmoid; total time=   0.0s\n",
            "[CV] END .....................C=0.1, gamma=1, kernel=sigmoid; total time=   0.0s\n",
            "[CV] END .....................C=0.1, gamma=1, kernel=sigmoid; total time=   0.0s\n",
            "[CV] END .....................C=0.1, gamma=1, kernel=sigmoid; total time=   0.0s\n",
            "[CV] END .....................C=0.1, gamma=1, kernel=sigmoid; total time=   0.0s\n",
            "[CV] END .......................C=0.1, gamma=0.1, kernel=rbf; total time=   0.0s\n",
            "[CV] END .......................C=0.1, gamma=0.1, kernel=rbf; total time=   0.0s\n",
            "[CV] END .......................C=0.1, gamma=0.1, kernel=rbf; total time=   0.0s\n",
            "[CV] END .......................C=0.1, gamma=0.1, kernel=rbf; total time=   0.0s\n",
            "[CV] END .......................C=0.1, gamma=0.1, kernel=rbf; total time=   0.0s\n",
            "[CV] END ......................C=0.1, gamma=0.1, kernel=poly; total time=   0.0s\n",
            "[CV] END ......................C=0.1, gamma=0.1, kernel=poly; total time=   0.0s\n",
            "[CV] END ......................C=0.1, gamma=0.1, kernel=poly; total time=   0.0s\n",
            "[CV] END ......................C=0.1, gamma=0.1, kernel=poly; total time=   0.0s\n",
            "[CV] END ......................C=0.1, gamma=0.1, kernel=poly; total time=   0.0s\n",
            "[CV] END ...................C=0.1, gamma=0.1, kernel=sigmoid; total time=   0.0s\n",
            "[CV] END ...................C=0.1, gamma=0.1, kernel=sigmoid; total time=   0.0s\n",
            "[CV] END ...................C=0.1, gamma=0.1, kernel=sigmoid; total time=   0.0s\n",
            "[CV] END ...................C=0.1, gamma=0.1, kernel=sigmoid; total time=   0.0s\n",
            "[CV] END ...................C=0.1, gamma=0.1, kernel=sigmoid; total time=   0.0s\n",
            "[CV] END ......................C=0.1, gamma=0.01, kernel=rbf; total time=   0.0s\n",
            "[CV] END ......................C=0.1, gamma=0.01, kernel=rbf; total time=   0.0s\n",
            "[CV] END ......................C=0.1, gamma=0.01, kernel=rbf; total time=   0.0s\n",
            "[CV] END ......................C=0.1, gamma=0.01, kernel=rbf; total time=   0.0s\n",
            "[CV] END ......................C=0.1, gamma=0.01, kernel=rbf; total time=   0.0s\n",
            "[CV] END .....................C=0.1, gamma=0.01, kernel=poly; total time=   0.0s\n",
            "[CV] END .....................C=0.1, gamma=0.01, kernel=poly; total time=   0.0s\n",
            "[CV] END .....................C=0.1, gamma=0.01, kernel=poly; total time=   0.0s\n",
            "[CV] END .....................C=0.1, gamma=0.01, kernel=poly; total time=   0.0s\n",
            "[CV] END .....................C=0.1, gamma=0.01, kernel=poly; total time=   0.0s\n",
            "[CV] END ..................C=0.1, gamma=0.01, kernel=sigmoid; total time=   0.0s\n",
            "[CV] END ..................C=0.1, gamma=0.01, kernel=sigmoid; total time=   0.0s\n",
            "[CV] END ..................C=0.1, gamma=0.01, kernel=sigmoid; total time=   0.0s\n",
            "[CV] END ..................C=0.1, gamma=0.01, kernel=sigmoid; total time=   0.0s\n",
            "[CV] END ..................C=0.1, gamma=0.01, kernel=sigmoid; total time=   0.0s\n",
            "[CV] END .....................C=0.1, gamma=0.001, kernel=rbf; total time=   0.0s\n",
            "[CV] END .....................C=0.1, gamma=0.001, kernel=rbf; total time=   0.0s\n",
            "[CV] END .....................C=0.1, gamma=0.001, kernel=rbf; total time=   0.0s\n",
            "[CV] END .....................C=0.1, gamma=0.001, kernel=rbf; total time=   0.0s\n",
            "[CV] END .....................C=0.1, gamma=0.001, kernel=rbf; total time=   0.0s\n",
            "[CV] END ....................C=0.1, gamma=0.001, kernel=poly; total time=   0.0s\n",
            "[CV] END ....................C=0.1, gamma=0.001, kernel=poly; total time=   0.0s\n",
            "[CV] END ....................C=0.1, gamma=0.001, kernel=poly; total time=   0.0s\n",
            "[CV] END ....................C=0.1, gamma=0.001, kernel=poly; total time=   0.0s\n",
            "[CV] END ....................C=0.1, gamma=0.001, kernel=poly; total time=   0.0s\n",
            "[CV] END .................C=0.1, gamma=0.001, kernel=sigmoid; total time=   0.0s\n",
            "[CV] END .................C=0.1, gamma=0.001, kernel=sigmoid; total time=   0.0s\n",
            "[CV] END .................C=0.1, gamma=0.001, kernel=sigmoid; total time=   0.0s\n",
            "[CV] END .................C=0.1, gamma=0.001, kernel=sigmoid; total time=   0.0s\n",
            "[CV] END .................C=0.1, gamma=0.001, kernel=sigmoid; total time=   0.0s\n",
            "[CV] END ...........................C=1, gamma=1, kernel=rbf; total time=   0.0s\n",
            "[CV] END ...........................C=1, gamma=1, kernel=rbf; total time=   0.0s\n",
            "[CV] END ...........................C=1, gamma=1, kernel=rbf; total time=   0.0s\n",
            "[CV] END ...........................C=1, gamma=1, kernel=rbf; total time=   0.0s\n",
            "[CV] END ...........................C=1, gamma=1, kernel=rbf; total time=   0.0s\n",
            "[CV] END ..........................C=1, gamma=1, kernel=poly; total time=   0.0s\n",
            "[CV] END ..........................C=1, gamma=1, kernel=poly; total time=   0.0s\n",
            "[CV] END ..........................C=1, gamma=1, kernel=poly; total time=   0.0s\n",
            "[CV] END ..........................C=1, gamma=1, kernel=poly; total time=   0.0s\n",
            "[CV] END ..........................C=1, gamma=1, kernel=poly; total time=   0.0s\n",
            "[CV] END .......................C=1, gamma=1, kernel=sigmoid; total time=   0.0s\n",
            "[CV] END .......................C=1, gamma=1, kernel=sigmoid; total time=   0.0s\n",
            "[CV] END .......................C=1, gamma=1, kernel=sigmoid; total time=   0.0s\n",
            "[CV] END .......................C=1, gamma=1, kernel=sigmoid; total time=   0.0s\n",
            "[CV] END .......................C=1, gamma=1, kernel=sigmoid; total time=   0.0s\n",
            "[CV] END .........................C=1, gamma=0.1, kernel=rbf; total time=   0.0s\n",
            "[CV] END .........................C=1, gamma=0.1, kernel=rbf; total time=   0.0s\n",
            "[CV] END .........................C=1, gamma=0.1, kernel=rbf; total time=   0.0s\n",
            "[CV] END .........................C=1, gamma=0.1, kernel=rbf; total time=   0.0s\n",
            "[CV] END .........................C=1, gamma=0.1, kernel=rbf; total time=   0.0s\n",
            "[CV] END ........................C=1, gamma=0.1, kernel=poly; total time=   0.0s\n",
            "[CV] END ........................C=1, gamma=0.1, kernel=poly; total time=   0.0s\n",
            "[CV] END ........................C=1, gamma=0.1, kernel=poly; total time=   0.0s\n",
            "[CV] END ........................C=1, gamma=0.1, kernel=poly; total time=   0.0s\n",
            "[CV] END ........................C=1, gamma=0.1, kernel=poly; total time=   0.0s\n",
            "[CV] END .....................C=1, gamma=0.1, kernel=sigmoid; total time=   0.0s\n",
            "[CV] END .....................C=1, gamma=0.1, kernel=sigmoid; total time=   0.0s\n",
            "[CV] END .....................C=1, gamma=0.1, kernel=sigmoid; total time=   0.0s\n",
            "[CV] END .....................C=1, gamma=0.1, kernel=sigmoid; total time=   0.0s\n",
            "[CV] END .....................C=1, gamma=0.1, kernel=sigmoid; total time=   0.0s\n",
            "[CV] END ........................C=1, gamma=0.01, kernel=rbf; total time=   0.0s\n",
            "[CV] END ........................C=1, gamma=0.01, kernel=rbf; total time=   0.0s\n",
            "[CV] END ........................C=1, gamma=0.01, kernel=rbf; total time=   0.0s\n",
            "[CV] END ........................C=1, gamma=0.01, kernel=rbf; total time=   0.0s\n",
            "[CV] END ........................C=1, gamma=0.01, kernel=rbf; total time=   0.0s\n",
            "[CV] END .......................C=1, gamma=0.01, kernel=poly; total time=   0.0s\n",
            "[CV] END .......................C=1, gamma=0.01, kernel=poly; total time=   0.0s\n",
            "[CV] END .......................C=1, gamma=0.01, kernel=poly; total time=   0.0s\n",
            "[CV] END .......................C=1, gamma=0.01, kernel=poly; total time=   0.0s\n",
            "[CV] END .......................C=1, gamma=0.01, kernel=poly; total time=   0.0s\n",
            "[CV] END ....................C=1, gamma=0.01, kernel=sigmoid; total time=   0.0s\n",
            "[CV] END ....................C=1, gamma=0.01, kernel=sigmoid; total time=   0.0s\n",
            "[CV] END ....................C=1, gamma=0.01, kernel=sigmoid; total time=   0.0s\n",
            "[CV] END ....................C=1, gamma=0.01, kernel=sigmoid; total time=   0.0s\n",
            "[CV] END ....................C=1, gamma=0.01, kernel=sigmoid; total time=   0.0s\n",
            "[CV] END .......................C=1, gamma=0.001, kernel=rbf; total time=   0.0s\n",
            "[CV] END .......................C=1, gamma=0.001, kernel=rbf; total time=   0.0s\n",
            "[CV] END .......................C=1, gamma=0.001, kernel=rbf; total time=   0.0s\n",
            "[CV] END .......................C=1, gamma=0.001, kernel=rbf; total time=   0.0s\n",
            "[CV] END .......................C=1, gamma=0.001, kernel=rbf; total time=   0.0s\n",
            "[CV] END ......................C=1, gamma=0.001, kernel=poly; total time=   0.0s\n",
            "[CV] END ......................C=1, gamma=0.001, kernel=poly; total time=   0.0s\n",
            "[CV] END ......................C=1, gamma=0.001, kernel=poly; total time=   0.0s\n",
            "[CV] END ......................C=1, gamma=0.001, kernel=poly; total time=   0.0s\n",
            "[CV] END ......................C=1, gamma=0.001, kernel=poly; total time=   0.0s\n",
            "[CV] END ...................C=1, gamma=0.001, kernel=sigmoid; total time=   0.0s\n",
            "[CV] END ...................C=1, gamma=0.001, kernel=sigmoid; total time=   0.0s\n",
            "[CV] END ...................C=1, gamma=0.001, kernel=sigmoid; total time=   0.0s\n",
            "[CV] END ...................C=1, gamma=0.001, kernel=sigmoid; total time=   0.0s\n",
            "[CV] END ...................C=1, gamma=0.001, kernel=sigmoid; total time=   0.0s\n",
            "[CV] END ..........................C=10, gamma=1, kernel=rbf; total time=   0.0s\n",
            "[CV] END ..........................C=10, gamma=1, kernel=rbf; total time=   0.0s\n",
            "[CV] END ..........................C=10, gamma=1, kernel=rbf; total time=   0.0s\n",
            "[CV] END ..........................C=10, gamma=1, kernel=rbf; total time=   0.0s\n",
            "[CV] END ..........................C=10, gamma=1, kernel=rbf; total time=   0.0s\n",
            "[CV] END .........................C=10, gamma=1, kernel=poly; total time=   0.0s\n",
            "[CV] END .........................C=10, gamma=1, kernel=poly; total time=   0.0s\n",
            "[CV] END .........................C=10, gamma=1, kernel=poly; total time=   0.0s\n",
            "[CV] END .........................C=10, gamma=1, kernel=poly; total time=   0.0s\n",
            "[CV] END .........................C=10, gamma=1, kernel=poly; total time=   0.0s\n",
            "[CV] END ......................C=10, gamma=1, kernel=sigmoid; total time=   0.0s\n",
            "[CV] END ......................C=10, gamma=1, kernel=sigmoid; total time=   0.0s\n",
            "[CV] END ......................C=10, gamma=1, kernel=sigmoid; total time=   0.0s\n",
            "[CV] END ......................C=10, gamma=1, kernel=sigmoid; total time=   0.0s\n",
            "[CV] END ......................C=10, gamma=1, kernel=sigmoid; total time=   0.0s\n",
            "[CV] END ........................C=10, gamma=0.1, kernel=rbf; total time=   0.0s\n",
            "[CV] END ........................C=10, gamma=0.1, kernel=rbf; total time=   0.0s\n",
            "[CV] END ........................C=10, gamma=0.1, kernel=rbf; total time=   0.0s\n",
            "[CV] END ........................C=10, gamma=0.1, kernel=rbf; total time=   0.0s\n",
            "[CV] END ........................C=10, gamma=0.1, kernel=rbf; total time=   0.0s\n",
            "[CV] END .......................C=10, gamma=0.1, kernel=poly; total time=   0.0s\n",
            "[CV] END .......................C=10, gamma=0.1, kernel=poly; total time=   0.0s\n",
            "[CV] END .......................C=10, gamma=0.1, kernel=poly; total time=   0.0s\n",
            "[CV] END .......................C=10, gamma=0.1, kernel=poly; total time=   0.0s\n",
            "[CV] END .......................C=10, gamma=0.1, kernel=poly; total time=   0.0s\n",
            "[CV] END ....................C=10, gamma=0.1, kernel=sigmoid; total time=   0.0s\n",
            "[CV] END ....................C=10, gamma=0.1, kernel=sigmoid; total time=   0.0s\n",
            "[CV] END ....................C=10, gamma=0.1, kernel=sigmoid; total time=   0.0s\n",
            "[CV] END ....................C=10, gamma=0.1, kernel=sigmoid; total time=   0.0s\n",
            "[CV] END ....................C=10, gamma=0.1, kernel=sigmoid; total time=   0.0s\n",
            "[CV] END .......................C=10, gamma=0.01, kernel=rbf; total time=   0.0s\n",
            "[CV] END .......................C=10, gamma=0.01, kernel=rbf; total time=   0.0s\n",
            "[CV] END .......................C=10, gamma=0.01, kernel=rbf; total time=   0.0s\n",
            "[CV] END .......................C=10, gamma=0.01, kernel=rbf; total time=   0.0s\n",
            "[CV] END .......................C=10, gamma=0.01, kernel=rbf; total time=   0.0s\n",
            "[CV] END ......................C=10, gamma=0.01, kernel=poly; total time=   0.0s\n",
            "[CV] END ......................C=10, gamma=0.01, kernel=poly; total time=   0.0s\n",
            "[CV] END ......................C=10, gamma=0.01, kernel=poly; total time=   0.0s\n",
            "[CV] END ......................C=10, gamma=0.01, kernel=poly; total time=   0.0s\n",
            "[CV] END ......................C=10, gamma=0.01, kernel=poly; total time=   0.0s\n",
            "[CV] END ...................C=10, gamma=0.01, kernel=sigmoid; total time=   0.0s\n",
            "[CV] END ...................C=10, gamma=0.01, kernel=sigmoid; total time=   0.0s\n",
            "[CV] END ...................C=10, gamma=0.01, kernel=sigmoid; total time=   0.0s\n",
            "[CV] END ...................C=10, gamma=0.01, kernel=sigmoid; total time=   0.0s\n",
            "[CV] END ...................C=10, gamma=0.01, kernel=sigmoid; total time=   0.0s\n",
            "[CV] END ......................C=10, gamma=0.001, kernel=rbf; total time=   0.0s\n",
            "[CV] END ......................C=10, gamma=0.001, kernel=rbf; total time=   0.0s\n",
            "[CV] END ......................C=10, gamma=0.001, kernel=rbf; total time=   0.0s\n",
            "[CV] END ......................C=10, gamma=0.001, kernel=rbf; total time=   0.0s\n",
            "[CV] END ......................C=10, gamma=0.001, kernel=rbf; total time=   0.0s\n",
            "[CV] END .....................C=10, gamma=0.001, kernel=poly; total time=   0.0s\n",
            "[CV] END .....................C=10, gamma=0.001, kernel=poly; total time=   0.0s\n",
            "[CV] END .....................C=10, gamma=0.001, kernel=poly; total time=   0.0s\n",
            "[CV] END .....................C=10, gamma=0.001, kernel=poly; total time=   0.0s\n",
            "[CV] END .....................C=10, gamma=0.001, kernel=poly; total time=   0.0s\n",
            "[CV] END ..................C=10, gamma=0.001, kernel=sigmoid; total time=   0.0s\n",
            "[CV] END ..................C=10, gamma=0.001, kernel=sigmoid; total time=   0.0s\n",
            "[CV] END ..................C=10, gamma=0.001, kernel=sigmoid; total time=   0.0s\n",
            "[CV] END ..................C=10, gamma=0.001, kernel=sigmoid; total time=   0.0s\n",
            "[CV] END ..................C=10, gamma=0.001, kernel=sigmoid; total time=   0.0s\n",
            "[CV] END .........................C=100, gamma=1, kernel=rbf; total time=   0.0s\n",
            "[CV] END .........................C=100, gamma=1, kernel=rbf; total time=   0.0s\n",
            "[CV] END .........................C=100, gamma=1, kernel=rbf; total time=   0.0s\n",
            "[CV] END .........................C=100, gamma=1, kernel=rbf; total time=   0.0s\n",
            "[CV] END .........................C=100, gamma=1, kernel=rbf; total time=   0.0s\n",
            "[CV] END ........................C=100, gamma=1, kernel=poly; total time=   0.0s\n",
            "[CV] END ........................C=100, gamma=1, kernel=poly; total time=   0.0s\n",
            "[CV] END ........................C=100, gamma=1, kernel=poly; total time=   0.0s\n",
            "[CV] END ........................C=100, gamma=1, kernel=poly; total time=   0.0s\n",
            "[CV] END ........................C=100, gamma=1, kernel=poly; total time=   0.0s\n",
            "[CV] END .....................C=100, gamma=1, kernel=sigmoid; total time=   0.0s\n",
            "[CV] END .....................C=100, gamma=1, kernel=sigmoid; total time=   0.0s\n",
            "[CV] END .....................C=100, gamma=1, kernel=sigmoid; total time=   0.0s\n",
            "[CV] END .....................C=100, gamma=1, kernel=sigmoid; total time=   0.0s\n",
            "[CV] END .....................C=100, gamma=1, kernel=sigmoid; total time=   0.0s\n",
            "[CV] END .......................C=100, gamma=0.1, kernel=rbf; total time=   0.0s\n",
            "[CV] END .......................C=100, gamma=0.1, kernel=rbf; total time=   0.0s\n",
            "[CV] END .......................C=100, gamma=0.1, kernel=rbf; total time=   0.0s\n",
            "[CV] END .......................C=100, gamma=0.1, kernel=rbf; total time=   0.0s\n",
            "[CV] END .......................C=100, gamma=0.1, kernel=rbf; total time=   0.0s\n",
            "[CV] END ......................C=100, gamma=0.1, kernel=poly; total time=   0.0s\n",
            "[CV] END ......................C=100, gamma=0.1, kernel=poly; total time=   0.0s\n",
            "[CV] END ......................C=100, gamma=0.1, kernel=poly; total time=   0.0s\n",
            "[CV] END ......................C=100, gamma=0.1, kernel=poly; total time=   0.0s\n",
            "[CV] END ......................C=100, gamma=0.1, kernel=poly; total time=   0.0s\n",
            "[CV] END ...................C=100, gamma=0.1, kernel=sigmoid; total time=   0.0s\n",
            "[CV] END ...................C=100, gamma=0.1, kernel=sigmoid; total time=   0.0s\n",
            "[CV] END ...................C=100, gamma=0.1, kernel=sigmoid; total time=   0.0s\n",
            "[CV] END ...................C=100, gamma=0.1, kernel=sigmoid; total time=   0.0s\n",
            "[CV] END ...................C=100, gamma=0.1, kernel=sigmoid; total time=   0.0s\n",
            "[CV] END ......................C=100, gamma=0.01, kernel=rbf; total time=   0.0s\n",
            "[CV] END ......................C=100, gamma=0.01, kernel=rbf; total time=   0.0s\n",
            "[CV] END ......................C=100, gamma=0.01, kernel=rbf; total time=   0.0s\n",
            "[CV] END ......................C=100, gamma=0.01, kernel=rbf; total time=   0.0s\n",
            "[CV] END ......................C=100, gamma=0.01, kernel=rbf; total time=   0.0s\n",
            "[CV] END .....................C=100, gamma=0.01, kernel=poly; total time=   0.0s\n",
            "[CV] END .....................C=100, gamma=0.01, kernel=poly; total time=   0.0s\n",
            "[CV] END .....................C=100, gamma=0.01, kernel=poly; total time=   0.0s\n",
            "[CV] END .....................C=100, gamma=0.01, kernel=poly; total time=   0.0s\n",
            "[CV] END .....................C=100, gamma=0.01, kernel=poly; total time=   0.0s\n",
            "[CV] END ..................C=100, gamma=0.01, kernel=sigmoid; total time=   0.0s\n",
            "[CV] END ..................C=100, gamma=0.01, kernel=sigmoid; total time=   0.0s\n",
            "[CV] END ..................C=100, gamma=0.01, kernel=sigmoid; total time=   0.0s\n",
            "[CV] END ..................C=100, gamma=0.01, kernel=sigmoid; total time=   0.0s\n",
            "[CV] END ..................C=100, gamma=0.01, kernel=sigmoid; total time=   0.0s\n",
            "[CV] END .....................C=100, gamma=0.001, kernel=rbf; total time=   0.0s\n",
            "[CV] END .....................C=100, gamma=0.001, kernel=rbf; total time=   0.0s\n",
            "[CV] END .....................C=100, gamma=0.001, kernel=rbf; total time=   0.0s\n",
            "[CV] END .....................C=100, gamma=0.001, kernel=rbf; total time=   0.0s\n",
            "[CV] END .....................C=100, gamma=0.001, kernel=rbf; total time=   0.0s\n",
            "[CV] END ....................C=100, gamma=0.001, kernel=poly; total time=   0.0s\n",
            "[CV] END ....................C=100, gamma=0.001, kernel=poly; total time=   0.0s\n",
            "[CV] END ....................C=100, gamma=0.001, kernel=poly; total time=   0.0s\n",
            "[CV] END ....................C=100, gamma=0.001, kernel=poly; total time=   0.0s\n",
            "[CV] END ....................C=100, gamma=0.001, kernel=poly; total time=   0.0s\n",
            "[CV] END .................C=100, gamma=0.001, kernel=sigmoid; total time=   0.0s\n",
            "[CV] END .................C=100, gamma=0.001, kernel=sigmoid; total time=   0.0s\n",
            "[CV] END .................C=100, gamma=0.001, kernel=sigmoid; total time=   0.0s\n",
            "[CV] END .................C=100, gamma=0.001, kernel=sigmoid; total time=   0.0s\n",
            "[CV] END .................C=100, gamma=0.001, kernel=sigmoid; total time=   0.0s\n"
          ]
        },
        {
          "output_type": "execute_result",
          "data": {
            "text/plain": [
              "GridSearchCV(estimator=SVC(),\n",
              "             param_grid={'C': [0.1, 1, 10, 100], 'gamma': [1, 0.1, 0.01, 0.001],\n",
              "                         'kernel': ['rbf', 'poly', 'sigmoid']},\n",
              "             verbose=2)"
            ],
            "text/html": [
              "<style>#sk-container-id-3 {color: black;background-color: white;}#sk-container-id-3 pre{padding: 0;}#sk-container-id-3 div.sk-toggleable {background-color: white;}#sk-container-id-3 label.sk-toggleable__label {cursor: pointer;display: block;width: 100%;margin-bottom: 0;padding: 0.3em;box-sizing: border-box;text-align: center;}#sk-container-id-3 label.sk-toggleable__label-arrow:before {content: \"▸\";float: left;margin-right: 0.25em;color: #696969;}#sk-container-id-3 label.sk-toggleable__label-arrow:hover:before {color: black;}#sk-container-id-3 div.sk-estimator:hover label.sk-toggleable__label-arrow:before {color: black;}#sk-container-id-3 div.sk-toggleable__content {max-height: 0;max-width: 0;overflow: hidden;text-align: left;background-color: #f0f8ff;}#sk-container-id-3 div.sk-toggleable__content pre {margin: 0.2em;color: black;border-radius: 0.25em;background-color: #f0f8ff;}#sk-container-id-3 input.sk-toggleable__control:checked~div.sk-toggleable__content {max-height: 200px;max-width: 100%;overflow: auto;}#sk-container-id-3 input.sk-toggleable__control:checked~label.sk-toggleable__label-arrow:before {content: \"▾\";}#sk-container-id-3 div.sk-estimator input.sk-toggleable__control:checked~label.sk-toggleable__label {background-color: #d4ebff;}#sk-container-id-3 div.sk-label input.sk-toggleable__control:checked~label.sk-toggleable__label {background-color: #d4ebff;}#sk-container-id-3 input.sk-hidden--visually {border: 0;clip: rect(1px 1px 1px 1px);clip: rect(1px, 1px, 1px, 1px);height: 1px;margin: -1px;overflow: hidden;padding: 0;position: absolute;width: 1px;}#sk-container-id-3 div.sk-estimator {font-family: monospace;background-color: #f0f8ff;border: 1px dotted black;border-radius: 0.25em;box-sizing: border-box;margin-bottom: 0.5em;}#sk-container-id-3 div.sk-estimator:hover {background-color: #d4ebff;}#sk-container-id-3 div.sk-parallel-item::after {content: \"\";width: 100%;border-bottom: 1px solid gray;flex-grow: 1;}#sk-container-id-3 div.sk-label:hover label.sk-toggleable__label {background-color: #d4ebff;}#sk-container-id-3 div.sk-serial::before {content: \"\";position: absolute;border-left: 1px solid gray;box-sizing: border-box;top: 0;bottom: 0;left: 50%;z-index: 0;}#sk-container-id-3 div.sk-serial {display: flex;flex-direction: column;align-items: center;background-color: white;padding-right: 0.2em;padding-left: 0.2em;position: relative;}#sk-container-id-3 div.sk-item {position: relative;z-index: 1;}#sk-container-id-3 div.sk-parallel {display: flex;align-items: stretch;justify-content: center;background-color: white;position: relative;}#sk-container-id-3 div.sk-item::before, #sk-container-id-3 div.sk-parallel-item::before {content: \"\";position: absolute;border-left: 1px solid gray;box-sizing: border-box;top: 0;bottom: 0;left: 50%;z-index: -1;}#sk-container-id-3 div.sk-parallel-item {display: flex;flex-direction: column;z-index: 1;position: relative;background-color: white;}#sk-container-id-3 div.sk-parallel-item:first-child::after {align-self: flex-end;width: 50%;}#sk-container-id-3 div.sk-parallel-item:last-child::after {align-self: flex-start;width: 50%;}#sk-container-id-3 div.sk-parallel-item:only-child::after {width: 0;}#sk-container-id-3 div.sk-dashed-wrapped {border: 1px dashed gray;margin: 0 0.4em 0.5em 0.4em;box-sizing: border-box;padding-bottom: 0.4em;background-color: white;}#sk-container-id-3 div.sk-label label {font-family: monospace;font-weight: bold;display: inline-block;line-height: 1.2em;}#sk-container-id-3 div.sk-label-container {text-align: center;}#sk-container-id-3 div.sk-container {/* jupyter's `normalize.less` sets `[hidden] { display: none; }` but bootstrap.min.css set `[hidden] { display: none !important; }` so we also need the `!important` here to be able to override the default hidden behavior on the sphinx rendered scikit-learn.org. See: https://github.com/scikit-learn/scikit-learn/issues/21755 */display: inline-block !important;position: relative;}#sk-container-id-3 div.sk-text-repr-fallback {display: none;}</style><div id=\"sk-container-id-3\" class=\"sk-top-container\"><div class=\"sk-text-repr-fallback\"><pre>GridSearchCV(estimator=SVC(),\n",
              "             param_grid={&#x27;C&#x27;: [0.1, 1, 10, 100], &#x27;gamma&#x27;: [1, 0.1, 0.01, 0.001],\n",
              "                         &#x27;kernel&#x27;: [&#x27;rbf&#x27;, &#x27;poly&#x27;, &#x27;sigmoid&#x27;]},\n",
              "             verbose=2)</pre><b>In a Jupyter environment, please rerun this cell to show the HTML representation or trust the notebook. <br />On GitHub, the HTML representation is unable to render, please try loading this page with nbviewer.org.</b></div><div class=\"sk-container\" hidden><div class=\"sk-item sk-dashed-wrapped\"><div class=\"sk-label-container\"><div class=\"sk-label sk-toggleable\"><input class=\"sk-toggleable__control sk-hidden--visually\" id=\"sk-estimator-id-7\" type=\"checkbox\" ><label for=\"sk-estimator-id-7\" class=\"sk-toggleable__label sk-toggleable__label-arrow\">GridSearchCV</label><div class=\"sk-toggleable__content\"><pre>GridSearchCV(estimator=SVC(),\n",
              "             param_grid={&#x27;C&#x27;: [0.1, 1, 10, 100], &#x27;gamma&#x27;: [1, 0.1, 0.01, 0.001],\n",
              "                         &#x27;kernel&#x27;: [&#x27;rbf&#x27;, &#x27;poly&#x27;, &#x27;sigmoid&#x27;]},\n",
              "             verbose=2)</pre></div></div></div><div class=\"sk-parallel\"><div class=\"sk-parallel-item\"><div class=\"sk-item\"><div class=\"sk-label-container\"><div class=\"sk-label sk-toggleable\"><input class=\"sk-toggleable__control sk-hidden--visually\" id=\"sk-estimator-id-8\" type=\"checkbox\" ><label for=\"sk-estimator-id-8\" class=\"sk-toggleable__label sk-toggleable__label-arrow\">estimator: SVC</label><div class=\"sk-toggleable__content\"><pre>SVC()</pre></div></div></div><div class=\"sk-serial\"><div class=\"sk-item\"><div class=\"sk-estimator sk-toggleable\"><input class=\"sk-toggleable__control sk-hidden--visually\" id=\"sk-estimator-id-9\" type=\"checkbox\" ><label for=\"sk-estimator-id-9\" class=\"sk-toggleable__label sk-toggleable__label-arrow\">SVC</label><div class=\"sk-toggleable__content\"><pre>SVC()</pre></div></div></div></div></div></div></div></div></div></div>"
            ]
          },
          "metadata": {},
          "execution_count": 38
        }
      ]
    },
    {
      "cell_type": "code",
      "source": [
        "print(grid.best_estimator_)"
      ],
      "metadata": {
        "colab": {
          "base_uri": "https://localhost:8080/"
        },
        "id": "XHhynj84QtT7",
        "outputId": "c1d1de87-8f57-4792-c401-db7bd2fca1c1"
      },
      "execution_count": 39,
      "outputs": [
        {
          "output_type": "stream",
          "name": "stdout",
          "text": [
            "SVC(C=10, gamma=1)\n"
          ]
        }
      ]
    },
    {
      "cell_type": "code",
      "source": [
        "linear_model.fit(data_moons, target_moons)\n",
        "DecisionBoundaryDisplay.from_estimator(linear_model, data_moons, response_method=\"predict\", cmap=\"RdBu\", alpha=0.5)\n",
        "sns.scatterplot(data=moons, x=feature_names[0], y=feature_names[1], hue=target_moons, palette=[\"tab:red\", \"tab:blue\"],)\n",
        "plt.title(\"Decision boundary of a linear model\")"
      ],
      "metadata": {
        "colab": {
          "base_uri": "https://localhost:8080/",
          "height": 490
        },
        "id": "hKFxSqX7nT1_",
        "outputId": "d4c758e5-4171-47a1-9e5a-a8ce0f7c18cd"
      },
      "execution_count": 40,
      "outputs": [
        {
          "output_type": "execute_result",
          "data": {
            "text/plain": [
              "Text(0.5, 1.0, 'Decision boundary of a linear model')"
            ]
          },
          "metadata": {},
          "execution_count": 40
        },
        {
          "output_type": "display_data",
          "data": {
            "text/plain": [
              "<Figure size 640x480 with 1 Axes>"
            ],
            "image/png": "[encoded data removed]"
          },
          "metadata": {}
        }
      ]
    },
    {
      "cell_type": "markdown",
      "source": [
        "The linear kernel decision boundary does not classify the two classes very accurately and performs poorly, hence we try a non-linear kernel as the data points are not linearly seperable. We need to plot the data in a higher dimension where we might get a decision boundary. Hence we try the non-linear RBF kernel."
      ],
      "metadata": {
        "id": "IL3RmZhhjqVG"
      }
    },
    {
      "cell_type": "markdown",
      "source": [
        "### RBF Kernel Decision Boundary"
      ],
      "metadata": {
        "id": "wFdt44qtII-0"
      }
    },
    {
      "cell_type": "code",
      "source": [
        "kernel_model = make_pipeline(StandardScaler(), SVC(kernel=\"rbf\", C = 100, gamma=1))"
      ],
      "metadata": {
        "id": "Wn_G9GZzoOA5"
      },
      "execution_count": 41,
      "outputs": []
    },
    {
      "cell_type": "markdown",
      "source": [
        "Train validation data split"
      ],
      "metadata": {
        "id": "LQfcMUa0Sq-9"
      }
    },
    {
      "cell_type": "code",
      "source": [
        "train_set, validation_set = train_test_split(moons, test_size=0.2, random_state=42)"
      ],
      "metadata": {
        "id": "2xa6XgyFw2Ec"
      },
      "execution_count": 42,
      "outputs": []
    },
    {
      "cell_type": "code",
      "source": [
        "X_train = train_set.iloc[:,0:-1].values\n",
        "y_train = train_set.iloc[:, -1].values\n",
        "X_val = validation_set.iloc[:, 0:-1].values\n",
        "y_val = validation_set.iloc[:, -1].values"
      ],
      "metadata": {
        "id": "OHhrBypDO0K8"
      },
      "execution_count": 43,
      "outputs": []
    },
    {
      "cell_type": "markdown",
      "source": [
        "K fold cross validation on train data set"
      ],
      "metadata": {
        "id": "z4VHJzh0Sn3w"
      }
    },
    {
      "cell_type": "code",
      "source": [
        "accuracies=cross_val_score(estimator=kernel_model,X=X_train,y=y_train,cv=10)\n",
        "accuracies"
      ],
      "metadata": {
        "colab": {
          "base_uri": "https://localhost:8080/"
        },
        "id": "ABsJWwVAO0Ov",
        "outputId": "522345fa-b10d-449b-e736-2014cecd653d"
      },
      "execution_count": 44,
      "outputs": [
        {
          "output_type": "execute_result",
          "data": {
            "text/plain": [
              "array([1.   , 0.875, 0.875, 1.   , 1.   , 1.   , 1.   , 1.   , 1.   ,\n",
              "       1.   ])"
            ]
          },
          "metadata": {},
          "execution_count": 44
        }
      ]
    },
    {
      "cell_type": "code",
      "source": [
        "print(\"average accuracy :\",np.mean(accuracies))\n",
        "print(\"average std :\",np.std(accuracies))"
      ],
      "metadata": {
        "colab": {
          "base_uri": "https://localhost:8080/"
        },
        "id": "p1oj17sUO6Na",
        "outputId": "493c0d4a-691c-4f72-801b-64977bbe062f"
      },
      "execution_count": 45,
      "outputs": [
        {
          "output_type": "stream",
          "name": "stdout",
          "text": [
            "average accuracy : 0.975\n",
            "average std : 0.049999999999999996\n"
          ]
        }
      ]
    },
    {
      "cell_type": "code",
      "source": [
        "kernel_model.fit(X_train,y_train)\n",
        "print(\"test accuracy :\",kernel_model.score(X_val,y_val))"
      ],
      "metadata": {
        "colab": {
          "base_uri": "https://localhost:8080/"
        },
        "id": "EaCiekz4O0q-",
        "outputId": "288375af-ecea-4ece-da3f-b80577044be0"
      },
      "execution_count": 46,
      "outputs": [
        {
          "output_type": "stream",
          "name": "stdout",
          "text": [
            "test accuracy : 0.95\n"
          ]
        }
      ]
    },
    {
      "cell_type": "markdown",
      "source": [
        "Grid Search for hyperparameter tuning, changing hyperparameters in the kernel as given by the Grid Search for best results"
      ],
      "metadata": {
        "id": "JyDb2eRKQXhJ"
      }
    },
    {
      "cell_type": "code",
      "source": [
        "grid = GridSearchCV(SVC(),param_grid,refit=True,verbose=2)\n",
        "grid.fit(X_train,y_train)"
      ],
      "metadata": {
        "colab": {
          "base_uri": "https://localhost:8080/",
          "height": 1000
        },
        "id": "TFsBSyfSQDx5",
        "outputId": "1840c0ac-fed6-456f-a162-3c74b1c33f20"
      },
      "execution_count": 47,
      "outputs": [
        {
          "output_type": "stream",
          "name": "stdout",
          "text": [
            "Fitting 5 folds for each of 48 candidates, totalling 240 fits\n",
            "[CV] END .........................C=0.1, gamma=1, kernel=rbf; total time=   0.0s\n",
            "[CV] END .........................C=0.1, gamma=1, kernel=rbf; total time=   0.0s\n",
            "[CV] END .........................C=0.1, gamma=1, kernel=rbf; total time=   0.0s\n",
            "[CV] END .........................C=0.1, gamma=1, kernel=rbf; total time=   0.0s\n",
            "[CV] END .........................C=0.1, gamma=1, kernel=rbf; total time=   0.0s\n",
            "[CV] END ........................C=0.1, gamma=1, kernel=poly; total time=   0.0s\n",
            "[CV] END ........................C=0.1, gamma=1, kernel=poly; total time=   0.0s\n",
            "[CV] END ........................C=0.1, gamma=1, kernel=poly; total time=   0.0s\n",
            "[CV] END ........................C=0.1, gamma=1, kernel=poly; total time=   0.0s\n",
            "[CV] END ........................C=0.1, gamma=1, kernel=poly; total time=   0.0s\n",
            "[CV] END .....................C=0.1, gamma=1, kernel=sigmoid; total time=   0.0s\n",
            "[CV] END .....................C=0.1, gamma=1, kernel=sigmoid; total time=   0.0s\n",
            "[CV] END .....................C=0.1, gamma=1, kernel=sigmoid; total time=   0.0s\n",
            "[CV] END .....................C=0.1, gamma=1, kernel=sigmoid; total time=   0.0s\n",
            "[CV] END .....................C=0.1, gamma=1, kernel=sigmoid; total time=   0.0s\n",
            "[CV] END .......................C=0.1, gamma=0.1, kernel=rbf; total time=   0.0s\n",
            "[CV] END .......................C=0.1, gamma=0.1, kernel=rbf; total time=   0.0s\n",
            "[CV] END .......................C=0.1, gamma=0.1, kernel=rbf; total time=   0.0s\n",
            "[CV] END .......................C=0.1, gamma=0.1, kernel=rbf; total time=   0.0s\n",
            "[CV] END .......................C=0.1, gamma=0.1, kernel=rbf; total time=   0.0s\n",
            "[CV] END ......................C=0.1, gamma=0.1, kernel=poly; total time=   0.0s\n",
            "[CV] END ......................C=0.1, gamma=0.1, kernel=poly; total time=   0.0s\n",
            "[CV] END ......................C=0.1, gamma=0.1, kernel=poly; total time=   0.0s\n",
            "[CV] END ......................C=0.1, gamma=0.1, kernel=poly; total time=   0.0s\n",
            "[CV] END ......................C=0.1, gamma=0.1, kernel=poly; total time=   0.0s\n",
            "[CV] END ...................C=0.1, gamma=0.1, kernel=sigmoid; total time=   0.0s\n",
            "[CV] END ...................C=0.1, gamma=0.1, kernel=sigmoid; total time=   0.0s\n",
            "[CV] END ...................C=0.1, gamma=0.1, kernel=sigmoid; total time=   0.0s\n",
            "[CV] END ...................C=0.1, gamma=0.1, kernel=sigmoid; total time=   0.0s\n",
            "[CV] END ...................C=0.1, gamma=0.1, kernel=sigmoid; total time=   0.0s\n",
            "[CV] END ......................C=0.1, gamma=0.01, kernel=rbf; total time=   0.0s\n",
            "[CV] END ......................C=0.1, gamma=0.01, kernel=rbf; total time=   0.0s\n",
            "[CV] END ......................C=0.1, gamma=0.01, kernel=rbf; total time=   0.0s\n",
            "[CV] END ......................C=0.1, gamma=0.01, kernel=rbf; total time=   0.0s\n",
            "[CV] END ......................C=0.1, gamma=0.01, kernel=rbf; total time=   0.0s\n",
            "[CV] END .....................C=0.1, gamma=0.01, kernel=poly; total time=   0.0s\n",
            "[CV] END .....................C=0.1, gamma=0.01, kernel=poly; total time=   0.0s\n",
            "[CV] END .....................C=0.1, gamma=0.01, kernel=poly; total time=   0.0s\n",
            "[CV] END .....................C=0.1, gamma=0.01, kernel=poly; total time=   0.0s\n",
            "[CV] END .....................C=0.1, gamma=0.01, kernel=poly; total time=   0.0s\n",
            "[CV] END ..................C=0.1, gamma=0.01, kernel=sigmoid; total time=   0.0s\n",
            "[CV] END ..................C=0.1, gamma=0.01, kernel=sigmoid; total time=   0.0s\n",
            "[CV] END ..................C=0.1, gamma=0.01, kernel=sigmoid; total time=   0.0s\n",
            "[CV] END ..................C=0.1, gamma=0.01, kernel=sigmoid; total time=   0.0s\n",
            "[CV] END ..................C=0.1, gamma=0.01, kernel=sigmoid; total time=   0.0s\n",
            "[CV] END .....................C=0.1, gamma=0.001, kernel=rbf; total time=   0.0s\n",
            "[CV] END .....................C=0.1, gamma=0.001, kernel=rbf; total time=   0.0s\n",
            "[CV] END .....................C=0.1, gamma=0.001, kernel=rbf; total time=   0.0s\n",
            "[CV] END .....................C=0.1, gamma=0.001, kernel=rbf; total time=   0.0s\n",
            "[CV] END .....................C=0.1, gamma=0.001, kernel=rbf; total time=   0.0s\n",
            "[CV] END ....................C=0.1, gamma=0.001, kernel=poly; total time=   0.0s\n",
            "[CV] END ....................C=0.1, gamma=0.001, kernel=poly; total time=   0.0s\n",
            "[CV] END ....................C=0.1, gamma=0.001, kernel=poly; total time=   0.0s\n",
            "[CV] END ....................C=0.1, gamma=0.001, kernel=poly; total time=   0.0s\n",
            "[CV] END ....................C=0.1, gamma=0.001, kernel=poly; total time=   0.0s\n",
            "[CV] END .................C=0.1, gamma=0.001, kernel=sigmoid; total time=   0.0s\n",
            "[CV] END .................C=0.1, gamma=0.001, kernel=sigmoid; total time=   0.0s\n",
            "[CV] END .................C=0.1, gamma=0.001, kernel=sigmoid; total time=   0.0s\n",
            "[CV] END .................C=0.1, gamma=0.001, kernel=sigmoid; total time=   0.0s\n",
            "[CV] END .................C=0.1, gamma=0.001, kernel=sigmoid; total time=   0.0s\n",
            "[CV] END ...........................C=1, gamma=1, kernel=rbf; total time=   0.0s\n",
            "[CV] END ...........................C=1, gamma=1, kernel=rbf; total time=   0.0s\n",
            "[CV] END ...........................C=1, gamma=1, kernel=rbf; total time=   0.0s\n",
            "[CV] END ...........................C=1, gamma=1, kernel=rbf; total time=   0.0s\n",
            "[CV] END ...........................C=1, gamma=1, kernel=rbf; total time=   0.0s\n",
            "[CV] END ..........................C=1, gamma=1, kernel=poly; total time=   0.0s\n",
            "[CV] END ..........................C=1, gamma=1, kernel=poly; total time=   0.0s\n",
            "[CV] END ..........................C=1, gamma=1, kernel=poly; total time=   0.0s\n",
            "[CV] END ..........................C=1, gamma=1, kernel=poly; total time=   0.0s\n",
            "[CV] END ..........................C=1, gamma=1, kernel=poly; total time=   0.0s\n",
            "[CV] END .......................C=1, gamma=1, kernel=sigmoid; total time=   0.0s\n",
            "[CV] END .......................C=1, gamma=1, kernel=sigmoid; total time=   0.0s\n",
            "[CV] END .......................C=1, gamma=1, kernel=sigmoid; total time=   0.0s\n",
            "[CV] END .......................C=1, gamma=1, kernel=sigmoid; total time=   0.0s\n",
            "[CV] END .......................C=1, gamma=1, kernel=sigmoid; total time=   0.0s\n",
            "[CV] END .........................C=1, gamma=0.1, kernel=rbf; total time=   0.0s\n",
            "[CV] END .........................C=1, gamma=0.1, kernel=rbf; total time=   0.0s\n",
            "[CV] END .........................C=1, gamma=0.1, kernel=rbf; total time=   0.0s\n",
            "[CV] END .........................C=1, gamma=0.1, kernel=rbf; total time=   0.0s\n",
            "[CV] END .........................C=1, gamma=0.1, kernel=rbf; total time=   0.0s\n",
            "[CV] END ........................C=1, gamma=0.1, kernel=poly; total time=   0.0s\n",
            "[CV] END ........................C=1, gamma=0.1, kernel=poly; total time=   0.0s\n",
            "[CV] END ........................C=1, gamma=0.1, kernel=poly; total time=   0.0s\n",
            "[CV] END ........................C=1, gamma=0.1, kernel=poly; total time=   0.0s\n",
            "[CV] END ........................C=1, gamma=0.1, kernel=poly; total time=   0.0s\n",
            "[CV] END .....................C=1, gamma=0.1, kernel=sigmoid; total time=   0.0s\n",
            "[CV] END .....................C=1, gamma=0.1, kernel=sigmoid; total time=   0.0s\n",
            "[CV] END .....................C=1, gamma=0.1, kernel=sigmoid; total time=   0.0s\n",
            "[CV] END .....................C=1, gamma=0.1, kernel=sigmoid; total time=   0.0s\n",
            "[CV] END .....................C=1, gamma=0.1, kernel=sigmoid; total time=   0.0s\n",
            "[CV] END ........................C=1, gamma=0.01, kernel=rbf; total time=   0.0s\n",
            "[CV] END ........................C=1, gamma=0.01, kernel=rbf; total time=   0.0s\n",
            "[CV] END ........................C=1, gamma=0.01, kernel=rbf; total time=   0.0s\n",
            "[CV] END ........................C=1, gamma=0.01, kernel=rbf; total time=   0.0s\n",
            "[CV] END ........................C=1, gamma=0.01, kernel=rbf; total time=   0.0s\n",
            "[CV] END .......................C=1, gamma=0.01, kernel=poly; total time=   0.0s\n",
            "[CV] END .......................C=1, gamma=0.01, kernel=poly; total time=   0.0s\n",
            "[CV] END .......................C=1, gamma=0.01, kernel=poly; total time=   0.0s\n",
            "[CV] END .......................C=1, gamma=0.01, kernel=poly; total time=   0.0s\n",
            "[CV] END .......................C=1, gamma=0.01, kernel=poly; total time=   0.0s\n",
            "[CV] END ....................C=1, gamma=0.01, kernel=sigmoid; total time=   0.0s\n",
            "[CV] END ....................C=1, gamma=0.01, kernel=sigmoid; total time=   0.0s\n",
            "[CV] END ....................C=1, gamma=0.01, kernel=sigmoid; total time=   0.0s\n",
            "[CV] END ....................C=1, gamma=0.01, kernel=sigmoid; total time=   0.0s\n",
            "[CV] END ....................C=1, gamma=0.01, kernel=sigmoid; total time=   0.0s\n",
            "[CV] END .......................C=1, gamma=0.001, kernel=rbf; total time=   0.0s\n",
            "[CV] END .......................C=1, gamma=0.001, kernel=rbf; total time=   0.0s\n",
            "[CV] END .......................C=1, gamma=0.001, kernel=rbf; total time=   0.0s\n",
            "[CV] END .......................C=1, gamma=0.001, kernel=rbf; total time=   0.0s\n",
            "[CV] END .......................C=1, gamma=0.001, kernel=rbf; total time=   0.0s\n",
            "[CV] END ......................C=1, gamma=0.001, kernel=poly; total time=   0.0s\n",
            "[CV] END ......................C=1, gamma=0.001, kernel=poly; total time=   0.0s\n",
            "[CV] END ......................C=1, gamma=0.001, kernel=poly; total time=   0.0s\n",
            "[CV] END ......................C=1, gamma=0.001, kernel=poly; total time=   0.0s\n",
            "[CV] END ......................C=1, gamma=0.001, kernel=poly; total time=   0.0s\n",
            "[CV] END ...................C=1, gamma=0.001, kernel=sigmoid; total time=   0.0s\n",
            "[CV] END ...................C=1, gamma=0.001, kernel=sigmoid; total time=   0.0s\n",
            "[CV] END ...................C=1, gamma=0.001, kernel=sigmoid; total time=   0.0s\n",
            "[CV] END ...................C=1, gamma=0.001, kernel=sigmoid; total time=   0.0s\n",
            "[CV] END ...................C=1, gamma=0.001, kernel=sigmoid; total time=   0.0s\n",
            "[CV] END ..........................C=10, gamma=1, kernel=rbf; total time=   0.0s\n",
            "[CV] END ..........................C=10, gamma=1, kernel=rbf; total time=   0.0s\n",
            "[CV] END ..........................C=10, gamma=1, kernel=rbf; total time=   0.0s\n",
            "[CV] END ..........................C=10, gamma=1, kernel=rbf; total time=   0.0s\n",
            "[CV] END ..........................C=10, gamma=1, kernel=rbf; total time=   0.0s\n",
            "[CV] END .........................C=10, gamma=1, kernel=poly; total time=   0.0s\n",
            "[CV] END .........................C=10, gamma=1, kernel=poly; total time=   0.0s\n",
            "[CV] END .........................C=10, gamma=1, kernel=poly; total time=   0.0s\n",
            "[CV] END .........................C=10, gamma=1, kernel=poly; total time=   0.0s\n",
            "[CV] END .........................C=10, gamma=1, kernel=poly; total time=   0.0s\n",
            "[CV] END ......................C=10, gamma=1, kernel=sigmoid; total time=   0.0s\n",
            "[CV] END ......................C=10, gamma=1, kernel=sigmoid; total time=   0.0s\n",
            "[CV] END ......................C=10, gamma=1, kernel=sigmoid; total time=   0.0s\n",
            "[CV] END ......................C=10, gamma=1, kernel=sigmoid; total time=   0.0s\n",
            "[CV] END ......................C=10, gamma=1, kernel=sigmoid; total time=   0.0s\n",
            "[CV] END ........................C=10, gamma=0.1, kernel=rbf; total time=   0.0s\n",
            "[CV] END ........................C=10, gamma=0.1, kernel=rbf; total time=   0.0s\n",
            "[CV] END ........................C=10, gamma=0.1, kernel=rbf; total time=   0.0s\n",
            "[CV] END ........................C=10, gamma=0.1, kernel=rbf; total time=   0.0s\n",
            "[CV] END ........................C=10, gamma=0.1, kernel=rbf; total time=   0.0s\n",
            "[CV] END .......................C=10, gamma=0.1, kernel=poly; total time=   0.0s\n",
            "[CV] END .......................C=10, gamma=0.1, kernel=poly; total time=   0.0s\n",
            "[CV] END .......................C=10, gamma=0.1, kernel=poly; total time=   0.0s\n",
            "[CV] END .......................C=10, gamma=0.1, kernel=poly; total time=   0.0s\n",
            "[CV] END .......................C=10, gamma=0.1, kernel=poly; total time=   0.0s\n",
            "[CV] END ....................C=10, gamma=0.1, kernel=sigmoid; total time=   0.0s\n",
            "[CV] END ....................C=10, gamma=0.1, kernel=sigmoid; total time=   0.0s\n",
            "[CV] END ....................C=10, gamma=0.1, kernel=sigmoid; total time=   0.0s\n",
            "[CV] END ....................C=10, gamma=0.1, kernel=sigmoid; total time=   0.0s\n",
            "[CV] END ....................C=10, gamma=0.1, kernel=sigmoid; total time=   0.0s\n",
            "[CV] END .......................C=10, gamma=0.01, kernel=rbf; total time=   0.0s\n",
            "[CV] END .......................C=10, gamma=0.01, kernel=rbf; total time=   0.0s\n",
            "[CV] END .......................C=10, gamma=0.01, kernel=rbf; total time=   0.0s\n",
            "[CV] END .......................C=10, gamma=0.01, kernel=rbf; total time=   0.0s\n",
            "[CV] END .......................C=10, gamma=0.01, kernel=rbf; total time=   0.0s\n",
            "[CV] END ......................C=10, gamma=0.01, kernel=poly; total time=   0.0s\n",
            "[CV] END ......................C=10, gamma=0.01, kernel=poly; total time=   0.0s\n",
            "[CV] END ......................C=10, gamma=0.01, kernel=poly; total time=   0.0s\n",
            "[CV] END ......................C=10, gamma=0.01, kernel=poly; total time=   0.0s\n",
            "[CV] END ......................C=10, gamma=0.01, kernel=poly; total time=   0.0s\n",
            "[CV] END ...................C=10, gamma=0.01, kernel=sigmoid; total time=   0.0s\n",
            "[CV] END ...................C=10, gamma=0.01, kernel=sigmoid; total time=   0.0s\n",
            "[CV] END ...................C=10, gamma=0.01, kernel=sigmoid; total time=   0.0s\n",
            "[CV] END ...................C=10, gamma=0.01, kernel=sigmoid; total time=   0.0s\n",
            "[CV] END ...................C=10, gamma=0.01, kernel=sigmoid; total time=   0.0s\n",
            "[CV] END ......................C=10, gamma=0.001, kernel=rbf; total time=   0.0s\n",
            "[CV] END ......................C=10, gamma=0.001, kernel=rbf; total time=   0.0s\n",
            "[CV] END ......................C=10, gamma=0.001, kernel=rbf; total time=   0.0s\n",
            "[CV] END ......................C=10, gamma=0.001, kernel=rbf; total time=   0.0s\n",
            "[CV] END ......................C=10, gamma=0.001, kernel=rbf; total time=   0.0s\n",
            "[CV] END .....................C=10, gamma=0.001, kernel=poly; total time=   0.0s\n",
            "[CV] END .....................C=10, gamma=0.001, kernel=poly; total time=   0.0s\n",
            "[CV] END .....................C=10, gamma=0.001, kernel=poly; total time=   0.0s\n",
            "[CV] END .....................C=10, gamma=0.001, kernel=poly; total time=   0.0s\n",
            "[CV] END .....................C=10, gamma=0.001, kernel=poly; total time=   0.0s\n",
            "[CV] END ..................C=10, gamma=0.001, kernel=sigmoid; total time=   0.0s\n",
            "[CV] END ..................C=10, gamma=0.001, kernel=sigmoid; total time=   0.0s\n",
            "[CV] END ..................C=10, gamma=0.001, kernel=sigmoid; total time=   0.0s\n",
            "[CV] END ..................C=10, gamma=0.001, kernel=sigmoid; total time=   0.0s\n",
            "[CV] END ..................C=10, gamma=0.001, kernel=sigmoid; total time=   0.0s\n",
            "[CV] END .........................C=100, gamma=1, kernel=rbf; total time=   0.0s\n",
            "[CV] END .........................C=100, gamma=1, kernel=rbf; total time=   0.0s\n",
            "[CV] END .........................C=100, gamma=1, kernel=rbf; total time=   0.0s\n",
            "[CV] END .........................C=100, gamma=1, kernel=rbf; total time=   0.0s\n",
            "[CV] END .........................C=100, gamma=1, kernel=rbf; total time=   0.0s\n",
            "[CV] END ........................C=100, gamma=1, kernel=poly; total time=   0.0s\n",
            "[CV] END ........................C=100, gamma=1, kernel=poly; total time=   0.0s\n",
            "[CV] END ........................C=100, gamma=1, kernel=poly; total time=   0.0s\n",
            "[CV] END ........................C=100, gamma=1, kernel=poly; total time=   0.0s\n",
            "[CV] END ........................C=100, gamma=1, kernel=poly; total time=   0.0s\n",
            "[CV] END .....................C=100, gamma=1, kernel=sigmoid; total time=   0.0s\n",
            "[CV] END .....................C=100, gamma=1, kernel=sigmoid; total time=   0.0s\n",
            "[CV] END .....................C=100, gamma=1, kernel=sigmoid; total time=   0.0s\n",
            "[CV] END .....................C=100, gamma=1, kernel=sigmoid; total time=   0.0s\n",
            "[CV] END .....................C=100, gamma=1, kernel=sigmoid; total time=   0.0s\n",
            "[CV] END .......................C=100, gamma=0.1, kernel=rbf; total time=   0.0s\n",
            "[CV] END .......................C=100, gamma=0.1, kernel=rbf; total time=   0.0s\n",
            "[CV] END .......................C=100, gamma=0.1, kernel=rbf; total time=   0.0s\n",
            "[CV] END .......................C=100, gamma=0.1, kernel=rbf; total time=   0.0s\n",
            "[CV] END .......................C=100, gamma=0.1, kernel=rbf; total time=   0.0s\n",
            "[CV] END ......................C=100, gamma=0.1, kernel=poly; total time=   0.0s\n",
            "[CV] END ......................C=100, gamma=0.1, kernel=poly; total time=   0.0s\n",
            "[CV] END ......................C=100, gamma=0.1, kernel=poly; total time=   0.0s\n",
            "[CV] END ......................C=100, gamma=0.1, kernel=poly; total time=   0.0s\n",
            "[CV] END ......................C=100, gamma=0.1, kernel=poly; total time=   0.0s\n",
            "[CV] END ...................C=100, gamma=0.1, kernel=sigmoid; total time=   0.0s\n",
            "[CV] END ...................C=100, gamma=0.1, kernel=sigmoid; total time=   0.0s\n",
            "[CV] END ...................C=100, gamma=0.1, kernel=sigmoid; total time=   0.0s\n",
            "[CV] END ...................C=100, gamma=0.1, kernel=sigmoid; total time=   0.0s\n",
            "[CV] END ...................C=100, gamma=0.1, kernel=sigmoid; total time=   0.0s\n",
            "[CV] END ......................C=100, gamma=0.01, kernel=rbf; total time=   0.0s\n",
            "[CV] END ......................C=100, gamma=0.01, kernel=rbf; total time=   0.0s\n",
            "[CV] END ......................C=100, gamma=0.01, kernel=rbf; total time=   0.0s\n",
            "[CV] END ......................C=100, gamma=0.01, kernel=rbf; total time=   0.0s\n",
            "[CV] END ......................C=100, gamma=0.01, kernel=rbf; total time=   0.0s\n",
            "[CV] END .....................C=100, gamma=0.01, kernel=poly; total time=   0.0s\n",
            "[CV] END .....................C=100, gamma=0.01, kernel=poly; total time=   0.0s\n",
            "[CV] END .....................C=100, gamma=0.01, kernel=poly; total time=   0.0s\n",
            "[CV] END .....................C=100, gamma=0.01, kernel=poly; total time=   0.0s\n",
            "[CV] END .....................C=100, gamma=0.01, kernel=poly; total time=   0.0s\n",
            "[CV] END ..................C=100, gamma=0.01, kernel=sigmoid; total time=   0.0s\n",
            "[CV] END ..................C=100, gamma=0.01, kernel=sigmoid; total time=   0.0s\n",
            "[CV] END ..................C=100, gamma=0.01, kernel=sigmoid; total time=   0.0s\n",
            "[CV] END ..................C=100, gamma=0.01, kernel=sigmoid; total time=   0.0s\n",
            "[CV] END ..................C=100, gamma=0.01, kernel=sigmoid; total time=   0.0s\n",
            "[CV] END .....................C=100, gamma=0.001, kernel=rbf; total time=   0.0s\n",
            "[CV] END .....................C=100, gamma=0.001, kernel=rbf; total time=   0.0s\n",
            "[CV] END .....................C=100, gamma=0.001, kernel=rbf; total time=   0.0s\n",
            "[CV] END .....................C=100, gamma=0.001, kernel=rbf; total time=   0.0s\n",
            "[CV] END .....................C=100, gamma=0.001, kernel=rbf; total time=   0.0s\n",
            "[CV] END ....................C=100, gamma=0.001, kernel=poly; total time=   0.0s\n",
            "[CV] END ....................C=100, gamma=0.001, kernel=poly; total time=   0.0s\n",
            "[CV] END ....................C=100, gamma=0.001, kernel=poly; total time=   0.0s\n",
            "[CV] END ....................C=100, gamma=0.001, kernel=poly; total time=   0.0s\n",
            "[CV] END ....................C=100, gamma=0.001, kernel=poly; total time=   0.0s\n",
            "[CV] END .................C=100, gamma=0.001, kernel=sigmoid; total time=   0.0s\n",
            "[CV] END .................C=100, gamma=0.001, kernel=sigmoid; total time=   0.0s\n",
            "[CV] END .................C=100, gamma=0.001, kernel=sigmoid; total time=   0.0s\n",
            "[CV] END .................C=100, gamma=0.001, kernel=sigmoid; total time=   0.0s\n",
            "[CV] END .................C=100, gamma=0.001, kernel=sigmoid; total time=   0.0s\n"
          ]
        },
        {
          "output_type": "execute_result",
          "data": {
            "text/plain": [
              "GridSearchCV(estimator=SVC(),\n",
              "             param_grid={'C': [0.1, 1, 10, 100], 'gamma': [1, 0.1, 0.01, 0.001],\n",
              "                         'kernel': ['rbf', 'poly', 'sigmoid']},\n",
              "             verbose=2)"
            ],
            "text/html": [
              "<style>#sk-container-id-4 {color: black;background-color: white;}#sk-container-id-4 pre{padding: 0;}#sk-container-id-4 div.sk-toggleable {background-color: white;}#sk-container-id-4 label.sk-toggleable__label {cursor: pointer;display: block;width: 100%;margin-bottom: 0;padding: 0.3em;box-sizing: border-box;text-align: center;}#sk-container-id-4 label.sk-toggleable__label-arrow:before {content: \"▸\";float: left;margin-right: 0.25em;color: #696969;}#sk-container-id-4 label.sk-toggleable__label-arrow:hover:before {color: black;}#sk-container-id-4 div.sk-estimator:hover label.sk-toggleable__label-arrow:before {color: black;}#sk-container-id-4 div.sk-toggleable__content {max-height: 0;max-width: 0;overflow: hidden;text-align: left;background-color: #f0f8ff;}#sk-container-id-4 div.sk-toggleable__content pre {margin: 0.2em;color: black;border-radius: 0.25em;background-color: #f0f8ff;}#sk-container-id-4 input.sk-toggleable__control:checked~div.sk-toggleable__content {max-height: 200px;max-width: 100%;overflow: auto;}#sk-container-id-4 input.sk-toggleable__control:checked~label.sk-toggleable__label-arrow:before {content: \"▾\";}#sk-container-id-4 div.sk-estimator input.sk-toggleable__control:checked~label.sk-toggleable__label {background-color: #d4ebff;}#sk-container-id-4 div.sk-label input.sk-toggleable__control:checked~label.sk-toggleable__label {background-color: #d4ebff;}#sk-container-id-4 input.sk-hidden--visually {border: 0;clip: rect(1px 1px 1px 1px);clip: rect(1px, 1px, 1px, 1px);height: 1px;margin: -1px;overflow: hidden;padding: 0;position: absolute;width: 1px;}#sk-container-id-4 div.sk-estimator {font-family: monospace;background-color: #f0f8ff;border: 1px dotted black;border-radius: 0.25em;box-sizing: border-box;margin-bottom: 0.5em;}#sk-container-id-4 div.sk-estimator:hover {background-color: #d4ebff;}#sk-container-id-4 div.sk-parallel-item::after {content: \"\";width: 100%;border-bottom: 1px solid gray;flex-grow: 1;}#sk-container-id-4 div.sk-label:hover label.sk-toggleable__label {background-color: #d4ebff;}#sk-container-id-4 div.sk-serial::before {content: \"\";position: absolute;border-left: 1px solid gray;box-sizing: border-box;top: 0;bottom: 0;left: 50%;z-index: 0;}#sk-container-id-4 div.sk-serial {display: flex;flex-direction: column;align-items: center;background-color: white;padding-right: 0.2em;padding-left: 0.2em;position: relative;}#sk-container-id-4 div.sk-item {position: relative;z-index: 1;}#sk-container-id-4 div.sk-parallel {display: flex;align-items: stretch;justify-content: center;background-color: white;position: relative;}#sk-container-id-4 div.sk-item::before, #sk-container-id-4 div.sk-parallel-item::before {content: \"\";position: absolute;border-left: 1px solid gray;box-sizing: border-box;top: 0;bottom: 0;left: 50%;z-index: -1;}#sk-container-id-4 div.sk-parallel-item {display: flex;flex-direction: column;z-index: 1;position: relative;background-color: white;}#sk-container-id-4 div.sk-parallel-item:first-child::after {align-self: flex-end;width: 50%;}#sk-container-id-4 div.sk-parallel-item:last-child::after {align-self: flex-start;width: 50%;}#sk-container-id-4 div.sk-parallel-item:only-child::after {width: 0;}#sk-container-id-4 div.sk-dashed-wrapped {border: 1px dashed gray;margin: 0 0.4em 0.5em 0.4em;box-sizing: border-box;padding-bottom: 0.4em;background-color: white;}#sk-container-id-4 div.sk-label label {font-family: monospace;font-weight: bold;display: inline-block;line-height: 1.2em;}#sk-container-id-4 div.sk-label-container {text-align: center;}#sk-container-id-4 div.sk-container {/* jupyter's `normalize.less` sets `[hidden] { display: none; }` but bootstrap.min.css set `[hidden] { display: none !important; }` so we also need the `!important` here to be able to override the default hidden behavior on the sphinx rendered scikit-learn.org. See: https://github.com/scikit-learn/scikit-learn/issues/21755 */display: inline-block !important;position: relative;}#sk-container-id-4 div.sk-text-repr-fallback {display: none;}</style><div id=\"sk-container-id-4\" class=\"sk-top-container\"><div class=\"sk-text-repr-fallback\"><pre>GridSearchCV(estimator=SVC(),\n",
              "             param_grid={&#x27;C&#x27;: [0.1, 1, 10, 100], &#x27;gamma&#x27;: [1, 0.1, 0.01, 0.001],\n",
              "                         &#x27;kernel&#x27;: [&#x27;rbf&#x27;, &#x27;poly&#x27;, &#x27;sigmoid&#x27;]},\n",
              "             verbose=2)</pre><b>In a Jupyter environment, please rerun this cell to show the HTML representation or trust the notebook. <br />On GitHub, the HTML representation is unable to render, please try loading this page with nbviewer.org.</b></div><div class=\"sk-container\" hidden><div class=\"sk-item sk-dashed-wrapped\"><div class=\"sk-label-container\"><div class=\"sk-label sk-toggleable\"><input class=\"sk-toggleable__control sk-hidden--visually\" id=\"sk-estimator-id-10\" type=\"checkbox\" ><label for=\"sk-estimator-id-10\" class=\"sk-toggleable__label sk-toggleable__label-arrow\">GridSearchCV</label><div class=\"sk-toggleable__content\"><pre>GridSearchCV(estimator=SVC(),\n",
              "             param_grid={&#x27;C&#x27;: [0.1, 1, 10, 100], &#x27;gamma&#x27;: [1, 0.1, 0.01, 0.001],\n",
              "                         &#x27;kernel&#x27;: [&#x27;rbf&#x27;, &#x27;poly&#x27;, &#x27;sigmoid&#x27;]},\n",
              "             verbose=2)</pre></div></div></div><div class=\"sk-parallel\"><div class=\"sk-parallel-item\"><div class=\"sk-item\"><div class=\"sk-label-container\"><div class=\"sk-label sk-toggleable\"><input class=\"sk-toggleable__control sk-hidden--visually\" id=\"sk-estimator-id-11\" type=\"checkbox\" ><label for=\"sk-estimator-id-11\" class=\"sk-toggleable__label sk-toggleable__label-arrow\">estimator: SVC</label><div class=\"sk-toggleable__content\"><pre>SVC()</pre></div></div></div><div class=\"sk-serial\"><div class=\"sk-item\"><div class=\"sk-estimator sk-toggleable\"><input class=\"sk-toggleable__control sk-hidden--visually\" id=\"sk-estimator-id-12\" type=\"checkbox\" ><label for=\"sk-estimator-id-12\" class=\"sk-toggleable__label sk-toggleable__label-arrow\">SVC</label><div class=\"sk-toggleable__content\"><pre>SVC()</pre></div></div></div></div></div></div></div></div></div></div>"
            ]
          },
          "metadata": {},
          "execution_count": 47
        }
      ]
    },
    {
      "cell_type": "code",
      "source": [
        "print(grid.best_estimator_)"
      ],
      "metadata": {
        "colab": {
          "base_uri": "https://localhost:8080/"
        },
        "id": "zGmle-sHQEUS",
        "outputId": "d5186196-0b85-4ffe-c7a2-624e760da3c5"
      },
      "execution_count": 48,
      "outputs": [
        {
          "output_type": "stream",
          "name": "stdout",
          "text": [
            "SVC(C=10, gamma=1)\n"
          ]
        }
      ]
    },
    {
      "cell_type": "code",
      "source": [
        "#kernel_model.fit(data_moons, target_moons)\n",
        "DecisionBoundaryDisplay.from_estimator(kernel_model, data_moons, response_method=\"predict\", cmap=\"RdBu\", alpha=0.5)\n",
        "sns.scatterplot(data=moons, x=feature_names[0], y=feature_names[1], hue=target_moons, palette=[\"tab:red\", \"tab:blue\"],)\n",
        "plt.title(\"Decision boundary of a RBF model\")"
      ],
      "metadata": {
        "colab": {
          "base_uri": "https://localhost:8080/",
          "height": 490
        },
        "id": "9Z3TDFhwovkx",
        "outputId": "a56ac318-c6fa-464c-fc8a-f747fc9b6396"
      },
      "execution_count": 49,
      "outputs": [
        {
          "output_type": "execute_result",
          "data": {
            "text/plain": [
              "Text(0.5, 1.0, 'Decision boundary of a RBF model')"
            ]
          },
          "metadata": {},
          "execution_count": 49
        },
        {
          "output_type": "display_data",
          "data": {
            "text/plain": [
              "<Figure size 640x480 with 1 Axes>"
            ],
            "image/png": "[encoded data removed]"
          },
          "metadata": {}
        }
      ]
    },
    {
      "cell_type": "markdown",
      "source": [
        "The RBF kernel performs well in making a non-linear decision boundary ( sort of like a semi-circle boundary ) around the blue data points seperating them from the red ones."
      ],
      "metadata": {
        "id": "XKpOh0SjjvT0"
      }
    },
    {
      "cell_type": "markdown",
      "source": [
        "Citations:\n",
        "1. https://inria.github.io/scikit-learn-mooc/python_scripts/logistic_regression_non_linear.html\n",
        "2. https://nthu-datalab.github.io/ml/labs/07_SVM_Pipeline/07_SVM_Pipeline.html\n",
        "3. https://www.vebuso.com/2020/03/svm-hyperparameter-tuning-using-gridsearchcv/\n",
        "4. https://isheunesu48.medium.com/cross-validation-using-k-fold-with-scikit-learn-cfc44bf1ce6"
      ],
      "metadata": {
        "id": "jyOpkVdHpkoC"
      }
    },
    {
      "cell_type": "markdown",
      "source": [
        "# Ans 3."
      ],
      "metadata": {
        "id": "dYiWnrOWIAYn"
      }
    },
    {
      "cell_type": "markdown",
      "source": [
        "## MLP for Half Circles data"
      ],
      "metadata": {
        "id": "X7RI7-_cOTxk"
      }
    },
    {
      "cell_type": "markdown",
      "source": [
        "Importing the libraries"
      ],
      "metadata": {
        "id": "Y2ivR1lukAz7"
      }
    },
    {
      "cell_type": "code",
      "source": [
        "from sklearn.model_selection import train_test_split\n",
        "from sklearn.neural_network import MLPClassifier\n",
        "from sklearn.metrics import confusion_matrix"
      ],
      "metadata": {
        "id": "NmkGUSaZSXyG"
      },
      "execution_count": 50,
      "outputs": []
    },
    {
      "cell_type": "markdown",
      "source": [
        "Splitting the data into train and validation sets"
      ],
      "metadata": {
        "id": "ZuxgjGwLkDD5"
      }
    },
    {
      "cell_type": "code",
      "source": [
        "train_set, validation_set = train_test_split(circles, test_size=0.2, random_state=21)"
      ],
      "metadata": {
        "id": "VaW-EW1XHzf3"
      },
      "execution_count": 51,
      "outputs": []
    },
    {
      "cell_type": "markdown",
      "source": [
        "Splitting the dependent and independent variables"
      ],
      "metadata": {
        "id": "taML1nJxkI75"
      }
    },
    {
      "cell_type": "code",
      "source": [
        "X_train = train_set.iloc[:,0:-1].values\n",
        "y_train = train_set.iloc[:, -1].values\n",
        "X_val = validation_set.iloc[:, 0:-1].values\n",
        "y_val = validation_set.iloc[:, -1].values"
      ],
      "metadata": {
        "id": "mCVTLLdCPoiG"
      },
      "execution_count": 52,
      "outputs": []
    },
    {
      "cell_type": "markdown",
      "source": [
        "Defining the accuracy function"
      ],
      "metadata": {
        "id": "621FD5IzkQFd"
      }
    },
    {
      "cell_type": "code",
      "source": [
        "def accuracy(confusion_matrix):\n",
        "  dialog_sum = confusion_matrix.trace()\n",
        "  sum_of_all_elements = confusion_matrix.sum()\n",
        "  return dialog_sum / sum_of_all_elements"
      ],
      "metadata": {
        "id": "gzcY72-qQYvN"
      },
      "execution_count": 53,
      "outputs": []
    },
    {
      "cell_type": "markdown",
      "source": [
        "Defining the classifier"
      ],
      "metadata": {
        "id": "Dz2BkH2jkU8M"
      }
    },
    {
      "cell_type": "code",
      "source": [
        "classifier = MLPClassifier(hidden_layer_sizes= (100, 100, 50), max_iter=165, activation= 'tanh', alpha= 0.0001, learning_rate= 'constant', solver= 'adam')"
      ],
      "metadata": {
        "id": "XTV3IF33YjSh"
      },
      "execution_count": 86,
      "outputs": []
    },
    {
      "cell_type": "markdown",
      "source": [
        "K fold cross validation on train data set"
      ],
      "metadata": {
        "id": "JwjmpUhukXNd"
      }
    },
    {
      "cell_type": "code",
      "source": [
        "accuracies=cross_val_score(estimator=classifier,X=X_train,y=y_train,cv=10)\n",
        "accuracies"
      ],
      "metadata": {
        "colab": {
          "base_uri": "https://localhost:8080/"
        },
        "id": "e-MPh19nXsTi",
        "outputId": "3b777818-0a17-4305-96ca-090877150775"
      },
      "execution_count": 87,
      "outputs": [
        {
          "output_type": "execute_result",
          "data": {
            "text/plain": [
              "array([0.6 , 0.75, 0.75, 0.75, 0.75, 0.5 , 1.  , 0.5 , 0.75, 1.  ])"
            ]
          },
          "metadata": {},
          "execution_count": 87
        }
      ]
    },
    {
      "cell_type": "code",
      "source": [
        "print(\"average accuracy :\",np.mean(accuracies))\n",
        "print(\"average std :\",np.std(accuracies))"
      ],
      "metadata": {
        "colab": {
          "base_uri": "https://localhost:8080/"
        },
        "id": "dL6xTEGRXsX5",
        "outputId": "f2f795f9-7297-46c5-cd09-635f2a68eb3c"
      },
      "execution_count": 88,
      "outputs": [
        {
          "output_type": "stream",
          "name": "stdout",
          "text": [
            "average accuracy : 0.735\n",
            "average std : 0.16439282222773596\n"
          ]
        }
      ]
    },
    {
      "cell_type": "code",
      "source": [
        "classifier.fit(X_train,y_train)\n",
        "print(\"test accuracy :\",classifier.score(X_val,y_val))"
      ],
      "metadata": {
        "colab": {
          "base_uri": "https://localhost:8080/"
        },
        "id": "91ODhGz9XwV1",
        "outputId": "3fb6d312-7f42-452c-eeb5-966595e968c9"
      },
      "execution_count": 89,
      "outputs": [
        {
          "output_type": "stream",
          "name": "stdout",
          "text": [
            "test accuracy : 0.7272727272727273\n"
          ]
        }
      ]
    },
    {
      "cell_type": "markdown",
      "source": [
        "Grid Search"
      ],
      "metadata": {
        "id": "YNgyvKevZNsg"
      }
    },
    {
      "cell_type": "code",
      "source": [
        "mlp_gs = MLPClassifier(max_iter=165)\n",
        "parameter_space = {\n",
        "    'hidden_layer_sizes': [(100, 100, 50)],\n",
        "    'activation': ['tanh', 'relu'],\n",
        "    'solver': ['sgd', 'adam'],\n",
        "    'alpha': [0.0001, 0.05],\n",
        "    'learning_rate': ['constant','adaptive'],\n",
        "}\n",
        "clf = GridSearchCV(mlp_gs, parameter_space, n_jobs=-1, cv=5)\n",
        "clf.fit(X_train, y_train)"
      ],
      "metadata": {
        "colab": {
          "base_uri": "https://localhost:8080/",
          "height": 118
        },
        "id": "99JYMzZTX2UT",
        "outputId": "f3a2fac3-8af0-4bc3-862f-e50b0f7910eb"
      },
      "execution_count": 91,
      "outputs": [
        {
          "output_type": "execute_result",
          "data": {
            "text/plain": [
              "GridSearchCV(cv=5, estimator=MLPClassifier(max_iter=165), n_jobs=-1,\n",
              "             param_grid={'activation': ['tanh', 'relu'],\n",
              "                         'alpha': [0.0001, 0.05],\n",
              "                         'hidden_layer_sizes': [(100, 100, 50)],\n",
              "                         'learning_rate': ['constant', 'adaptive'],\n",
              "                         'solver': ['sgd', 'adam']})"
            ],
            "text/html": [
              "<style>#sk-container-id-9 {color: black;background-color: white;}#sk-container-id-9 pre{padding: 0;}#sk-container-id-9 div.sk-toggleable {background-color: white;}#sk-container-id-9 label.sk-toggleable__label {cursor: pointer;display: block;width: 100%;margin-bottom: 0;padding: 0.3em;box-sizing: border-box;text-align: center;}#sk-container-id-9 label.sk-toggleable__label-arrow:before {content: \"▸\";float: left;margin-right: 0.25em;color: #696969;}#sk-container-id-9 label.sk-toggleable__label-arrow:hover:before {color: black;}#sk-container-id-9 div.sk-estimator:hover label.sk-toggleable__label-arrow:before {color: black;}#sk-container-id-9 div.sk-toggleable__content {max-height: 0;max-width: 0;overflow: hidden;text-align: left;background-color: #f0f8ff;}#sk-container-id-9 div.sk-toggleable__content pre {margin: 0.2em;color: black;border-radius: 0.25em;background-color: #f0f8ff;}#sk-container-id-9 input.sk-toggleable__control:checked~div.sk-toggleable__content {max-height: 200px;max-width: 100%;overflow: auto;}#sk-container-id-9 input.sk-toggleable__control:checked~label.sk-toggleable__label-arrow:before {content: \"▾\";}#sk-container-id-9 div.sk-estimator input.sk-toggleable__control:checked~label.sk-toggleable__label {background-color: #d4ebff;}#sk-container-id-9 div.sk-label input.sk-toggleable__control:checked~label.sk-toggleable__label {background-color: #d4ebff;}#sk-container-id-9 input.sk-hidden--visually {border: 0;clip: rect(1px 1px 1px 1px);clip: rect(1px, 1px, 1px, 1px);height: 1px;margin: -1px;overflow: hidden;padding: 0;position: absolute;width: 1px;}#sk-container-id-9 div.sk-estimator {font-family: monospace;background-color: #f0f8ff;border: 1px dotted black;border-radius: 0.25em;box-sizing: border-box;margin-bottom: 0.5em;}#sk-container-id-9 div.sk-estimator:hover {background-color: #d4ebff;}#sk-container-id-9 div.sk-parallel-item::after {content: \"\";width: 100%;border-bottom: 1px solid gray;flex-grow: 1;}#sk-container-id-9 div.sk-label:hover label.sk-toggleable__label {background-color: #d4ebff;}#sk-container-id-9 div.sk-serial::before {content: \"\";position: absolute;border-left: 1px solid gray;box-sizing: border-box;top: 0;bottom: 0;left: 50%;z-index: 0;}#sk-container-id-9 div.sk-serial {display: flex;flex-direction: column;align-items: center;background-color: white;padding-right: 0.2em;padding-left: 0.2em;position: relative;}#sk-container-id-9 div.sk-item {position: relative;z-index: 1;}#sk-container-id-9 div.sk-parallel {display: flex;align-items: stretch;justify-content: center;background-color: white;position: relative;}#sk-container-id-9 div.sk-item::before, #sk-container-id-9 div.sk-parallel-item::before {content: \"\";position: absolute;border-left: 1px solid gray;box-sizing: border-box;top: 0;bottom: 0;left: 50%;z-index: -1;}#sk-container-id-9 div.sk-parallel-item {display: flex;flex-direction: column;z-index: 1;position: relative;background-color: white;}#sk-container-id-9 div.sk-parallel-item:first-child::after {align-self: flex-end;width: 50%;}#sk-container-id-9 div.sk-parallel-item:last-child::after {align-self: flex-start;width: 50%;}#sk-container-id-9 div.sk-parallel-item:only-child::after {width: 0;}#sk-container-id-9 div.sk-dashed-wrapped {border: 1px dashed gray;margin: 0 0.4em 0.5em 0.4em;box-sizing: border-box;padding-bottom: 0.4em;background-color: white;}#sk-container-id-9 div.sk-label label {font-family: monospace;font-weight: bold;display: inline-block;line-height: 1.2em;}#sk-container-id-9 div.sk-label-container {text-align: center;}#sk-container-id-9 div.sk-container {/* jupyter's `normalize.less` sets `[hidden] { display: none; }` but bootstrap.min.css set `[hidden] { display: none !important; }` so we also need the `!important` here to be able to override the default hidden behavior on the sphinx rendered scikit-learn.org. See: https://github.com/scikit-learn/scikit-learn/issues/21755 */display: inline-block !important;position: relative;}#sk-container-id-9 div.sk-text-repr-fallback {display: none;}</style><div id=\"sk-container-id-9\" class=\"sk-top-container\"><div class=\"sk-text-repr-fallback\"><pre>GridSearchCV(cv=5, estimator=MLPClassifier(max_iter=165), n_jobs=-1,\n",
              "             param_grid={&#x27;activation&#x27;: [&#x27;tanh&#x27;, &#x27;relu&#x27;],\n",
              "                         &#x27;alpha&#x27;: [0.0001, 0.05],\n",
              "                         &#x27;hidden_layer_sizes&#x27;: [(100, 100, 50)],\n",
              "                         &#x27;learning_rate&#x27;: [&#x27;constant&#x27;, &#x27;adaptive&#x27;],\n",
              "                         &#x27;solver&#x27;: [&#x27;sgd&#x27;, &#x27;adam&#x27;]})</pre><b>In a Jupyter environment, please rerun this cell to show the HTML representation or trust the notebook. <br />On GitHub, the HTML representation is unable to render, please try loading this page with nbviewer.org.</b></div><div class=\"sk-container\" hidden><div class=\"sk-item sk-dashed-wrapped\"><div class=\"sk-label-container\"><div class=\"sk-label sk-toggleable\"><input class=\"sk-toggleable__control sk-hidden--visually\" id=\"sk-estimator-id-25\" type=\"checkbox\" ><label for=\"sk-estimator-id-25\" class=\"sk-toggleable__label sk-toggleable__label-arrow\">GridSearchCV</label><div class=\"sk-toggleable__content\"><pre>GridSearchCV(cv=5, estimator=MLPClassifier(max_iter=165), n_jobs=-1,\n",
              "             param_grid={&#x27;activation&#x27;: [&#x27;tanh&#x27;, &#x27;relu&#x27;],\n",
              "                         &#x27;alpha&#x27;: [0.0001, 0.05],\n",
              "                         &#x27;hidden_layer_sizes&#x27;: [(100, 100, 50)],\n",
              "                         &#x27;learning_rate&#x27;: [&#x27;constant&#x27;, &#x27;adaptive&#x27;],\n",
              "                         &#x27;solver&#x27;: [&#x27;sgd&#x27;, &#x27;adam&#x27;]})</pre></div></div></div><div class=\"sk-parallel\"><div class=\"sk-parallel-item\"><div class=\"sk-item\"><div class=\"sk-label-container\"><div class=\"sk-label sk-toggleable\"><input class=\"sk-toggleable__control sk-hidden--visually\" id=\"sk-estimator-id-26\" type=\"checkbox\" ><label for=\"sk-estimator-id-26\" class=\"sk-toggleable__label sk-toggleable__label-arrow\">estimator: MLPClassifier</label><div class=\"sk-toggleable__content\"><pre>MLPClassifier(max_iter=165)</pre></div></div></div><div class=\"sk-serial\"><div class=\"sk-item\"><div class=\"sk-estimator sk-toggleable\"><input class=\"sk-toggleable__control sk-hidden--visually\" id=\"sk-estimator-id-27\" type=\"checkbox\" ><label for=\"sk-estimator-id-27\" class=\"sk-toggleable__label sk-toggleable__label-arrow\">MLPClassifier</label><div class=\"sk-toggleable__content\"><pre>MLPClassifier(max_iter=165)</pre></div></div></div></div></div></div></div></div></div></div>"
            ]
          },
          "metadata": {},
          "execution_count": 91
        }
      ]
    },
    {
      "cell_type": "code",
      "source": [
        "print('Best parameters found:\\n', clf.best_params_)"
      ],
      "metadata": {
        "colab": {
          "base_uri": "https://localhost:8080/"
        },
        "id": "Y95KclI2YcPP",
        "outputId": "dde94baa-a1c1-4d9a-b5b9-7427ea997cc1"
      },
      "execution_count": 92,
      "outputs": [
        {
          "output_type": "stream",
          "name": "stdout",
          "text": [
            "Best parameters found:\n",
            " {'activation': 'tanh', 'alpha': 0.0001, 'hidden_layer_sizes': (100, 100, 50), 'learning_rate': 'constant', 'solver': 'adam'}\n"
          ]
        }
      ]
    },
    {
      "cell_type": "markdown",
      "source": [
        "Predicting the y variable on the validation set"
      ],
      "metadata": {
        "id": "2Z90JbuSkcYM"
      }
    },
    {
      "cell_type": "code",
      "source": [
        "y_pred = classifier.predict(X_val)"
      ],
      "metadata": {
        "id": "1akhjvzvS8V7"
      },
      "execution_count": 93,
      "outputs": []
    },
    {
      "cell_type": "markdown",
      "source": [
        "Confusion matrix, calculating the accuracy"
      ],
      "metadata": {
        "id": "GuoG66CJkvgr"
      }
    },
    {
      "cell_type": "code",
      "source": [
        "cm = confusion_matrix(y_pred, y_val)\n",
        "print(\"Accuracy of MLP Classifer: \", accuracy(cm))"
      ],
      "metadata": {
        "colab": {
          "base_uri": "https://localhost:8080/"
        },
        "id": "0hs5E6d4TE1a",
        "outputId": "e4ab06d8-829e-464b-b71f-6b997fc496b4"
      },
      "execution_count": 94,
      "outputs": [
        {
          "output_type": "stream",
          "name": "stdout",
          "text": [
            "Accuracy of MLP Classifer:  0.7272727272727273\n"
          ]
        }
      ]
    },
    {
      "cell_type": "markdown",
      "source": [
        "Plotting the decision boundary with the MLP classifier"
      ],
      "metadata": {
        "id": "IyeqAheplMei"
      }
    },
    {
      "cell_type": "code",
      "source": [
        "h = 0.02\n",
        "x_min = -4.8\n",
        "x_max = 4.2\n",
        "y_min = -6\n",
        "y_max = 6\n",
        "xx, yy = np.meshgrid(np.arange(x_min, x_max, h), np.arange(y_min, y_max, h))"
      ],
      "metadata": {
        "id": "wc8PTVYAUtdP"
      },
      "execution_count": 95,
      "outputs": []
    },
    {
      "cell_type": "code",
      "source": [
        "Z = classifier.predict(np.c_[xx.ravel(), yy.ravel()])"
      ],
      "metadata": {
        "id": "-fQL1fyqVasv"
      },
      "execution_count": 96,
      "outputs": []
    },
    {
      "cell_type": "code",
      "source": [
        "Z = Z.reshape(xx.shape)\n",
        "plt.contourf(xx, yy, Z, alpha=0.8)\n",
        "plt.scatter(X_train[:, 0], X_train[:, 1], c=y_train, cmap=\"RdBu\")"
      ],
      "metadata": {
        "colab": {
          "base_uri": "https://localhost:8080/",
          "height": 448
        },
        "id": "4ccsUNQDXc_x",
        "outputId": "89ddcddd-fbdc-44c5-ddb1-c8fba2325b52"
      },
      "execution_count": 97,
      "outputs": [
        {
          "output_type": "execute_result",
          "data": {
            "text/plain": [
              "<matplotlib.collections.PathCollection at 0x7fd3735d96c0>"
            ]
          },
          "metadata": {},
          "execution_count": 97
        },
        {
          "output_type": "display_data",
          "data": {
            "text/plain": [
              "<Figure size 640x480 with 1 Axes>"
            ],
            "image/png": "[encoded data removed]"
          },
          "metadata": {}
        }
      ]
    },
    {
      "cell_type": "markdown",
      "source": [
        "Rational for training process:\n",
        "\n",
        "After importing the libararies, splitting the data into train, validation sets and the dependent and independent variables, defined the MLP classifier and performed K fold cross validation since we have less data and we dont want to overfit - we get the best model. Grid search is applied for obtaining the best hyperparamters. We check their accuracies on train and test data. Then the model with the best hyperparameters fits the train data. The decision boundary is then visualized and the decision boundary is observed.\n",
        "\n",
        "\n",
        "Design parameters:\n",
        "\n",
        "Using grid search the best hyperparameters are chosen. The activation function Tanh is chosen due to the non linear nature of the data. Adam optimizer is used as it works the best in this case."
      ],
      "metadata": {
        "id": "BfbA6RM6WGvI"
      }
    },
    {
      "cell_type": "markdown",
      "source": [
        "## MLP for Moons data"
      ],
      "metadata": {
        "id": "zTQO02wZb9sn"
      }
    },
    {
      "cell_type": "markdown",
      "source": [
        "Splitting the data into train and validation sets"
      ],
      "metadata": {
        "id": "XjHmRhwVlSSN"
      }
    },
    {
      "cell_type": "code",
      "source": [
        "train_set, validation_set = train_test_split(moons, test_size=0.2, random_state = 21)"
      ],
      "metadata": {
        "id": "46V2GN1RcC8i"
      },
      "execution_count": 107,
      "outputs": []
    },
    {
      "cell_type": "markdown",
      "source": [
        "Splitting the data into dependent and independent variables"
      ],
      "metadata": {
        "id": "xtDv-NOxlW1W"
      }
    },
    {
      "cell_type": "code",
      "source": [
        "X_train = train_set.iloc[:, 0:-1].values\n",
        "X_val = validation_set.iloc[:, 0:-1].values\n",
        "y_train = train_set.iloc[:, -1].values\n",
        "y_val = validation_set.iloc[:, -1].values"
      ],
      "metadata": {
        "id": "p3Wk1pkVcvRF"
      },
      "execution_count": 108,
      "outputs": []
    },
    {
      "cell_type": "markdown",
      "source": [
        "Defining the classifier"
      ],
      "metadata": {
        "id": "2zENvVSBpJJy"
      }
    },
    {
      "cell_type": "code",
      "source": [
        "classifier = MLPClassifier(hidden_layer_sizes=(100, 100, 50), activation='relu', alpha=0.0001, learning_rate='constant', solver ='adam')"
      ],
      "metadata": {
        "id": "AIcU_V2ipL04"
      },
      "execution_count": 109,
      "outputs": []
    },
    {
      "cell_type": "markdown",
      "source": [
        "K fold cross validation on train data set"
      ],
      "metadata": {
        "id": "IGQUJLmTYi_i"
      }
    },
    {
      "cell_type": "code",
      "source": [
        "accuracies=cross_val_score(estimator=classifier,X=X_train,y=y_train,cv=10)\n",
        "accuracies"
      ],
      "metadata": {
        "colab": {
          "base_uri": "https://localhost:8080/"
        },
        "id": "spfD6RzUYdeG",
        "outputId": "87a75058-2048-4830-8a9f-40e81228eb78"
      },
      "execution_count": 110,
      "outputs": [
        {
          "output_type": "execute_result",
          "data": {
            "text/plain": [
              "array([1.   , 1.   , 1.   , 1.   , 0.875, 1.   , 1.   , 1.   , 0.875,\n",
              "       1.   ])"
            ]
          },
          "metadata": {},
          "execution_count": 110
        }
      ]
    },
    {
      "cell_type": "code",
      "source": [
        "print(\"average accuracy :\",np.mean(accuracies))\n",
        "print(\"average std :\",np.std(accuracies))"
      ],
      "metadata": {
        "colab": {
          "base_uri": "https://localhost:8080/"
        },
        "id": "pY-j6yaIYl5s",
        "outputId": "72d6adf1-5ec3-41b4-8d76-74f927b263f0"
      },
      "execution_count": 111,
      "outputs": [
        {
          "output_type": "stream",
          "name": "stdout",
          "text": [
            "average accuracy : 0.975\n",
            "average std : 0.049999999999999996\n"
          ]
        }
      ]
    },
    {
      "cell_type": "code",
      "source": [
        "classifier.fit(X_train,y_train)\n",
        "print(\"test accuracy :\",classifier.score(X_val,y_val))"
      ],
      "metadata": {
        "colab": {
          "base_uri": "https://localhost:8080/"
        },
        "id": "otfR_-HBYpHb",
        "outputId": "2c4f046a-0a75-48e7-82e1-b7dc4441f0f4"
      },
      "execution_count": 112,
      "outputs": [
        {
          "output_type": "stream",
          "name": "stdout",
          "text": [
            "test accuracy : 1.0\n"
          ]
        }
      ]
    },
    {
      "cell_type": "markdown",
      "source": [
        "Grid Search"
      ],
      "metadata": {
        "id": "vRavbC0qa0wf"
      }
    },
    {
      "cell_type": "code",
      "source": [
        "mlp_gs = MLPClassifier(max_iter=165)\n",
        "parameter_space = {\n",
        "    'hidden_layer_sizes': [(100, 100, 50)],\n",
        "    'activation': ['tanh', 'relu'],\n",
        "    'solver': ['sgd', 'adam'],\n",
        "    'alpha': [0.0001, 0.05],\n",
        "    'learning_rate': ['constant','adaptive'],\n",
        "}\n",
        "clf = GridSearchCV(mlp_gs, parameter_space, n_jobs=-1, cv=5)\n",
        "clf.fit(X_train, y_train)"
      ],
      "metadata": {
        "colab": {
          "base_uri": "https://localhost:8080/",
          "height": 118
        },
        "id": "RIWz68lia10q",
        "outputId": "4fa8ea41-bfd2-44dc-b62e-912004dacdf7"
      },
      "execution_count": 104,
      "outputs": [
        {
          "output_type": "execute_result",
          "data": {
            "text/plain": [
              "GridSearchCV(cv=5, estimator=MLPClassifier(max_iter=165), n_jobs=-1,\n",
              "             param_grid={'activation': ['tanh', 'relu'],\n",
              "                         'alpha': [0.0001, 0.05],\n",
              "                         'hidden_layer_sizes': [(100, 100, 50)],\n",
              "                         'learning_rate': ['constant', 'adaptive'],\n",
              "                         'solver': ['sgd', 'adam']})"
            ],
            "text/html": [
              "<style>#sk-container-id-10 {color: black;background-color: white;}#sk-container-id-10 pre{padding: 0;}#sk-container-id-10 div.sk-toggleable {background-color: white;}#sk-container-id-10 label.sk-toggleable__label {cursor: pointer;display: block;width: 100%;margin-bottom: 0;padding: 0.3em;box-sizing: border-box;text-align: center;}#sk-container-id-10 label.sk-toggleable__label-arrow:before {content: \"▸\";float: left;margin-right: 0.25em;color: #696969;}#sk-container-id-10 label.sk-toggleable__label-arrow:hover:before {color: black;}#sk-container-id-10 div.sk-estimator:hover label.sk-toggleable__label-arrow:before {color: black;}#sk-container-id-10 div.sk-toggleable__content {max-height: 0;max-width: 0;overflow: hidden;text-align: left;background-color: #f0f8ff;}#sk-container-id-10 div.sk-toggleable__content pre {margin: 0.2em;color: black;border-radius: 0.25em;background-color: #f0f8ff;}#sk-container-id-10 input.sk-toggleable__control:checked~div.sk-toggleable__content {max-height: 200px;max-width: 100%;overflow: auto;}#sk-container-id-10 input.sk-toggleable__control:checked~label.sk-toggleable__label-arrow:before {content: \"▾\";}#sk-container-id-10 div.sk-estimator input.sk-toggleable__control:checked~label.sk-toggleable__label {background-color: #d4ebff;}#sk-container-id-10 div.sk-label input.sk-toggleable__control:checked~label.sk-toggleable__label {background-color: #d4ebff;}#sk-container-id-10 input.sk-hidden--visually {border: 0;clip: rect(1px 1px 1px 1px);clip: rect(1px, 1px, 1px, 1px);height: 1px;margin: -1px;overflow: hidden;padding: 0;position: absolute;width: 1px;}#sk-container-id-10 div.sk-estimator {font-family: monospace;background-color: #f0f8ff;border: 1px dotted black;border-radius: 0.25em;box-sizing: border-box;margin-bottom: 0.5em;}#sk-container-id-10 div.sk-estimator:hover {background-color: #d4ebff;}#sk-container-id-10 div.sk-parallel-item::after {content: \"\";width: 100%;border-bottom: 1px solid gray;flex-grow: 1;}#sk-container-id-10 div.sk-label:hover label.sk-toggleable__label {background-color: #d4ebff;}#sk-container-id-10 div.sk-serial::before {content: \"\";position: absolute;border-left: 1px solid gray;box-sizing: border-box;top: 0;bottom: 0;left: 50%;z-index: 0;}#sk-container-id-10 div.sk-serial {display: flex;flex-direction: column;align-items: center;background-color: white;padding-right: 0.2em;padding-left: 0.2em;position: relative;}#sk-container-id-10 div.sk-item {position: relative;z-index: 1;}#sk-container-id-10 div.sk-parallel {display: flex;align-items: stretch;justify-content: center;background-color: white;position: relative;}#sk-container-id-10 div.sk-item::before, #sk-container-id-10 div.sk-parallel-item::before {content: \"\";position: absolute;border-left: 1px solid gray;box-sizing: border-box;top: 0;bottom: 0;left: 50%;z-index: -1;}#sk-container-id-10 div.sk-parallel-item {display: flex;flex-direction: column;z-index: 1;position: relative;background-color: white;}#sk-container-id-10 div.sk-parallel-item:first-child::after {align-self: flex-end;width: 50%;}#sk-container-id-10 div.sk-parallel-item:last-child::after {align-self: flex-start;width: 50%;}#sk-container-id-10 div.sk-parallel-item:only-child::after {width: 0;}#sk-container-id-10 div.sk-dashed-wrapped {border: 1px dashed gray;margin: 0 0.4em 0.5em 0.4em;box-sizing: border-box;padding-bottom: 0.4em;background-color: white;}#sk-container-id-10 div.sk-label label {font-family: monospace;font-weight: bold;display: inline-block;line-height: 1.2em;}#sk-container-id-10 div.sk-label-container {text-align: center;}#sk-container-id-10 div.sk-container {/* jupyter's `normalize.less` sets `[hidden] { display: none; }` but bootstrap.min.css set `[hidden] { display: none !important; }` so we also need the `!important` here to be able to override the default hidden behavior on the sphinx rendered scikit-learn.org. See: https://github.com/scikit-learn/scikit-learn/issues/21755 */display: inline-block !important;position: relative;}#sk-container-id-10 div.sk-text-repr-fallback {display: none;}</style><div id=\"sk-container-id-10\" class=\"sk-top-container\"><div class=\"sk-text-repr-fallback\"><pre>GridSearchCV(cv=5, estimator=MLPClassifier(max_iter=165), n_jobs=-1,\n",
              "             param_grid={&#x27;activation&#x27;: [&#x27;tanh&#x27;, &#x27;relu&#x27;],\n",
              "                         &#x27;alpha&#x27;: [0.0001, 0.05],\n",
              "                         &#x27;hidden_layer_sizes&#x27;: [(100, 100, 50)],\n",
              "                         &#x27;learning_rate&#x27;: [&#x27;constant&#x27;, &#x27;adaptive&#x27;],\n",
              "                         &#x27;solver&#x27;: [&#x27;sgd&#x27;, &#x27;adam&#x27;]})</pre><b>In a Jupyter environment, please rerun this cell to show the HTML representation or trust the notebook. <br />On GitHub, the HTML representation is unable to render, please try loading this page with nbviewer.org.</b></div><div class=\"sk-container\" hidden><div class=\"sk-item sk-dashed-wrapped\"><div class=\"sk-label-container\"><div class=\"sk-label sk-toggleable\"><input class=\"sk-toggleable__control sk-hidden--visually\" id=\"sk-estimator-id-28\" type=\"checkbox\" ><label for=\"sk-estimator-id-28\" class=\"sk-toggleable__label sk-toggleable__label-arrow\">GridSearchCV</label><div class=\"sk-toggleable__content\"><pre>GridSearchCV(cv=5, estimator=MLPClassifier(max_iter=165), n_jobs=-1,\n",
              "             param_grid={&#x27;activation&#x27;: [&#x27;tanh&#x27;, &#x27;relu&#x27;],\n",
              "                         &#x27;alpha&#x27;: [0.0001, 0.05],\n",
              "                         &#x27;hidden_layer_sizes&#x27;: [(100, 100, 50)],\n",
              "                         &#x27;learning_rate&#x27;: [&#x27;constant&#x27;, &#x27;adaptive&#x27;],\n",
              "                         &#x27;solver&#x27;: [&#x27;sgd&#x27;, &#x27;adam&#x27;]})</pre></div></div></div><div class=\"sk-parallel\"><div class=\"sk-parallel-item\"><div class=\"sk-item\"><div class=\"sk-label-container\"><div class=\"sk-label sk-toggleable\"><input class=\"sk-toggleable__control sk-hidden--visually\" id=\"sk-estimator-id-29\" type=\"checkbox\" ><label for=\"sk-estimator-id-29\" class=\"sk-toggleable__label sk-toggleable__label-arrow\">estimator: MLPClassifier</label><div class=\"sk-toggleable__content\"><pre>MLPClassifier(max_iter=165)</pre></div></div></div><div class=\"sk-serial\"><div class=\"sk-item\"><div class=\"sk-estimator sk-toggleable\"><input class=\"sk-toggleable__control sk-hidden--visually\" id=\"sk-estimator-id-30\" type=\"checkbox\" ><label for=\"sk-estimator-id-30\" class=\"sk-toggleable__label sk-toggleable__label-arrow\">MLPClassifier</label><div class=\"sk-toggleable__content\"><pre>MLPClassifier(max_iter=165)</pre></div></div></div></div></div></div></div></div></div></div>"
            ]
          },
          "metadata": {},
          "execution_count": 104
        }
      ]
    },
    {
      "cell_type": "code",
      "source": [
        "print('Best parameters found:\\n', clf.best_params_)"
      ],
      "metadata": {
        "colab": {
          "base_uri": "https://localhost:8080/"
        },
        "id": "8PVX_sSga2yJ",
        "outputId": "b5e2752a-d7c6-4da5-856b-6e499dd47416"
      },
      "execution_count": 105,
      "outputs": [
        {
          "output_type": "stream",
          "name": "stdout",
          "text": [
            "Best parameters found:\n",
            " {'activation': 'relu', 'alpha': 0.0001, 'hidden_layer_sizes': (100, 100, 50), 'learning_rate': 'constant', 'solver': 'adam'}\n"
          ]
        }
      ]
    },
    {
      "cell_type": "markdown",
      "source": [
        "Predicting the indepedent variable on the validation set"
      ],
      "metadata": {
        "id": "7C8u3NsAlgU5"
      }
    },
    {
      "cell_type": "code",
      "source": [
        "y_pred = classifier.predict(X_val)"
      ],
      "metadata": {
        "id": "oCFAsQABdYqQ"
      },
      "execution_count": 113,
      "outputs": []
    },
    {
      "cell_type": "markdown",
      "source": [
        "Confusion matrix, calculating the accuracy"
      ],
      "metadata": {
        "id": "iRt7jXT6llUI"
      }
    },
    {
      "cell_type": "code",
      "source": [
        "cm = confusion_matrix(y_pred, y_val)\n",
        "print(\"Accuracy of MLP Classifier: \", accuracy(cm))"
      ],
      "metadata": {
        "colab": {
          "base_uri": "https://localhost:8080/"
        },
        "id": "_LUIF660d6PK",
        "outputId": "03bf02dc-1c6b-4857-f1ba-f8646368f1d7"
      },
      "execution_count": 114,
      "outputs": [
        {
          "output_type": "stream",
          "name": "stdout",
          "text": [
            "Accuracy of MLP Classifier:  1.0\n"
          ]
        }
      ]
    },
    {
      "cell_type": "code",
      "source": [
        "h = 0.02\n",
        "x_min = -4.8\n",
        "x_max = 4.2\n",
        "y_min = -6\n",
        "y_max = 6\n",
        "xx, yy = np.meshgrid(np.arange(x_min, x_max, h), np.arange(y_min, y_max, h))"
      ],
      "metadata": {
        "id": "Y-XJhR-AeVPA"
      },
      "execution_count": 115,
      "outputs": []
    },
    {
      "cell_type": "code",
      "source": [
        "Z = classifier.predict(np.c_[xx.ravel(), yy.ravel()])"
      ],
      "metadata": {
        "id": "8rlHOfDLeXmk"
      },
      "execution_count": 116,
      "outputs": []
    },
    {
      "cell_type": "code",
      "source": [
        "Z = Z.reshape(xx.shape)\n",
        "plt.contourf(xx, yy, Z, alpha=0.8)\n",
        "plt.scatter(X_train[:,0], X_train[:,1], c=y_train, cmap=\"RdBu\")"
      ],
      "metadata": {
        "colab": {
          "base_uri": "https://localhost:8080/",
          "height": 448
        },
        "id": "F4SBX8qsedlp",
        "outputId": "da4f1050-887f-4482-f04b-1d5aa24e9535"
      },
      "execution_count": 117,
      "outputs": [
        {
          "output_type": "execute_result",
          "data": {
            "text/plain": [
              "<matplotlib.collections.PathCollection at 0x7fd371e417e0>"
            ]
          },
          "metadata": {},
          "execution_count": 117
        },
        {
          "output_type": "display_data",
          "data": {
            "text/plain": [
              "<Figure size 640x480 with 1 Axes>"
            ],
            "image/png": "[encoded data removed]"
          },
          "metadata": {}
        }
      ]
    },
    {
      "cell_type": "markdown",
      "source": [
        "Rational for training process:\n",
        "\n",
        "After importing the libararies, splitting the data into train, validation sets and the dependent and independent variables, defined the MLP classifier and performed K fold cross validation since we have less data and we dont want to overfit - we get the best model. Grid search is applied for obtaining the best hyperparamters. We check their accuracies on train and test data. Then the model with the best hyperparameters fits the train data. The decision boundary is then visualized and the decision boundary is observed.\n",
        "\n",
        "\n",
        "Design parameters:\n",
        "\n",
        "Using grid search the best hyperparameters are chosen. The activation function Tanh is chosen due to the non linear nature of the data. Adam optimizer is used as it works the best in this case."
      ],
      "metadata": {
        "id": "sCjWaD8BaqNy"
      }
    },
    {
      "cell_type": "markdown",
      "source": [
        "## SVM vs MLP algorithms"
      ],
      "metadata": {
        "id": "4m73WkVfpftQ"
      }
    },
    {
      "cell_type": "markdown",
      "source": [
        "SVMs\n",
        "\n",
        "Both soft and hard margin SVMs are convex quadratic problems with linear constraints. Quadratic problems are usually computationally expensive combined with Gradient Descent. Hence, Stochastic Gradient Stochastic comes into play. It takes more steps and yet is more computationally efficient.\n",
        "\n",
        "- The training time for SVM can be given as O ( n . d ^ 2) if d < n\n",
        "\n",
        "d: dimensions\n",
        "\n",
        "n: number of data points\n",
        "\n",
        "- The run time ( predicting time ) can be given as O ( k . n )\n",
        "\n",
        "k: number of support vectors  ( 0 < k <= d )\n"
      ],
      "metadata": {
        "id": "uxiiT9s6plwf"
      }
    },
    {
      "cell_type": "markdown",
      "source": [
        "My MLP code took longer to run than the SVM code hence the computation cost is higher."
      ],
      "metadata": {
        "id": "MvD893fpURKZ"
      }
    }
  ]
}