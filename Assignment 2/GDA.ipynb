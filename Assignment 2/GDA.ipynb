{
  "nbformat": 4,
  "nbformat_minor": 0,
  "metadata": {
    "colab": {
      "provenance": []
    },
    "kernelspec": {
      "name": "python3",
      "display_name": "Python 3"
    },
    "language_info": {
      "name": "python"
    }
  },
  "cells": [
    {
      "cell_type": "markdown",
      "source": [
        "Importing libraries"
      ],
      "metadata": {
        "id": "7O20torlKg41"
      }
    },
    {
      "cell_type": "code",
      "execution_count": 2,
      "metadata": {
        "id": "_oPqUaOFsJEN"
      },
      "outputs": [],
      "source": [
        "import pandas as pd \n",
        "import numpy as np \n",
        "import matplotlib.pyplot as plt"
      ]
    },
    {
      "cell_type": "markdown",
      "source": [
        "Importing the data "
      ],
      "metadata": {
        "id": "PpY3oRLiKjvL"
      }
    },
    {
      "cell_type": "code",
      "source": [
        "df = pd.read_csv('https://raw.githubusercontent.com/DrUzair/MachineLearning/master/Datasets/binary_class_2d.csv')\n",
        "df.columns = ['X1', 'X2', 'y']\n",
        "df"
      ],
      "metadata": {
        "colab": {
          "base_uri": "https://localhost:8080/",
          "height": 424
        },
        "id": "N-um6Eo0sUx7",
        "outputId": "151e3281-7913-4d99-b35b-8594503c5ff6"
      },
      "execution_count": 3,
      "outputs": [
        {
          "output_type": "execute_result",
          "data": {
            "text/plain": [
              "          X1         X2  y\n",
              "0  -0.366340   1.578768  0\n",
              "1   1.111379   3.185019  0\n",
              "2   0.329676   2.633543  0\n",
              "3   1.259236   3.327122  0\n",
              "4   0.707183   3.091145  0\n",
              "..       ...        ... ..\n",
              "94  7.022479   8.766867  1\n",
              "95  5.648007   7.634303  1\n",
              "96  6.656152  10.248755  1\n",
              "97  5.584119   7.739545  1\n",
              "98  8.161302   7.838014  1\n",
              "\n",
              "[99 rows x 3 columns]"
            ],
            "text/html": [
              "\n",
              "  <div id=\"df-63c82ac7-05ed-4257-8500-1c843f5bb22c\">\n",
              "    <div class=\"colab-df-container\">\n",
              "      <div>\n",
              "<style scoped>\n",
              "    .dataframe tbody tr th:only-of-type {\n",
              "        vertical-align: middle;\n",
              "    }\n",
              "\n",
              "    .dataframe tbody tr th {\n",
              "        vertical-align: top;\n",
              "    }\n",
              "\n",
              "    .dataframe thead th {\n",
              "        text-align: right;\n",
              "    }\n",
              "</style>\n",
              "<table border=\"1\" class=\"dataframe\">\n",
              "  <thead>\n",
              "    <tr style=\"text-align: right;\">\n",
              "      <th></th>\n",
              "      <th>X1</th>\n",
              "      <th>X2</th>\n",
              "      <th>y</th>\n",
              "    </tr>\n",
              "  </thead>\n",
              "  <tbody>\n",
              "    <tr>\n",
              "      <th>0</th>\n",
              "      <td>-0.366340</td>\n",
              "      <td>1.578768</td>\n",
              "      <td>0</td>\n",
              "    </tr>\n",
              "    <tr>\n",
              "      <th>1</th>\n",
              "      <td>1.111379</td>\n",
              "      <td>3.185019</td>\n",
              "      <td>0</td>\n",
              "    </tr>\n",
              "    <tr>\n",
              "      <th>2</th>\n",
              "      <td>0.329676</td>\n",
              "      <td>2.633543</td>\n",
              "      <td>0</td>\n",
              "    </tr>\n",
              "    <tr>\n",
              "      <th>3</th>\n",
              "      <td>1.259236</td>\n",
              "      <td>3.327122</td>\n",
              "      <td>0</td>\n",
              "    </tr>\n",
              "    <tr>\n",
              "      <th>4</th>\n",
              "      <td>0.707183</td>\n",
              "      <td>3.091145</td>\n",
              "      <td>0</td>\n",
              "    </tr>\n",
              "    <tr>\n",
              "      <th>...</th>\n",
              "      <td>...</td>\n",
              "      <td>...</td>\n",
              "      <td>...</td>\n",
              "    </tr>\n",
              "    <tr>\n",
              "      <th>94</th>\n",
              "      <td>7.022479</td>\n",
              "      <td>8.766867</td>\n",
              "      <td>1</td>\n",
              "    </tr>\n",
              "    <tr>\n",
              "      <th>95</th>\n",
              "      <td>5.648007</td>\n",
              "      <td>7.634303</td>\n",
              "      <td>1</td>\n",
              "    </tr>\n",
              "    <tr>\n",
              "      <th>96</th>\n",
              "      <td>6.656152</td>\n",
              "      <td>10.248755</td>\n",
              "      <td>1</td>\n",
              "    </tr>\n",
              "    <tr>\n",
              "      <th>97</th>\n",
              "      <td>5.584119</td>\n",
              "      <td>7.739545</td>\n",
              "      <td>1</td>\n",
              "    </tr>\n",
              "    <tr>\n",
              "      <th>98</th>\n",
              "      <td>8.161302</td>\n",
              "      <td>7.838014</td>\n",
              "      <td>1</td>\n",
              "    </tr>\n",
              "  </tbody>\n",
              "</table>\n",
              "<p>99 rows × 3 columns</p>\n",
              "</div>\n",
              "      <button class=\"colab-df-convert\" onclick=\"convertToInteractive('df-63c82ac7-05ed-4257-8500-1c843f5bb22c')\"\n",
              "              title=\"Convert this dataframe to an interactive table.\"\n",
              "              style=\"display:none;\">\n",
              "        \n",
              "  <svg xmlns=\"http://www.w3.org/2000/svg\" height=\"24px\"viewBox=\"0 0 24 24\"\n",
              "       width=\"24px\">\n",
              "    <path d=\"M0 0h24v24H0V0z\" fill=\"none\"/>\n",
              "    <path d=\"M18.56 5.44l.94 2.06.94-2.06 2.06-.94-2.06-.94-.94-2.06-.94 2.06-2.06.94zm-11 1L8.5 8.5l.94-2.06 2.06-.94-2.06-.94L8.5 2.5l-.94 2.06-2.06.94zm10 10l.94 2.06.94-2.06 2.06-.94-2.06-.94-.94-2.06-.94 2.06-2.06.94z\"/><path d=\"M17.41 7.96l-1.37-1.37c-.4-.4-.92-.59-1.43-.59-.52 0-1.04.2-1.43.59L10.3 9.45l-7.72 7.72c-.78.78-.78 2.05 0 2.83L4 21.41c.39.39.9.59 1.41.59.51 0 1.02-.2 1.41-.59l7.78-7.78 2.81-2.81c.8-.78.8-2.07 0-2.86zM5.41 20L4 18.59l7.72-7.72 1.47 1.35L5.41 20z\"/>\n",
              "  </svg>\n",
              "      </button>\n",
              "      \n",
              "  <style>\n",
              "    .colab-df-container {\n",
              "      display:flex;\n",
              "      flex-wrap:wrap;\n",
              "      gap: 12px;\n",
              "    }\n",
              "\n",
              "    .colab-df-convert {\n",
              "      background-color: #E8F0FE;\n",
              "      border: none;\n",
              "      border-radius: 50%;\n",
              "      cursor: pointer;\n",
              "      display: none;\n",
              "      fill: #1967D2;\n",
              "      height: 32px;\n",
              "      padding: 0 0 0 0;\n",
              "      width: 32px;\n",
              "    }\n",
              "\n",
              "    .colab-df-convert:hover {\n",
              "      background-color: #E2EBFA;\n",
              "      box-shadow: 0px 1px 2px rgba(60, 64, 67, 0.3), 0px 1px 3px 1px rgba(60, 64, 67, 0.15);\n",
              "      fill: #174EA6;\n",
              "    }\n",
              "\n",
              "    [theme=dark] .colab-df-convert {\n",
              "      background-color: #3B4455;\n",
              "      fill: #D2E3FC;\n",
              "    }\n",
              "\n",
              "    [theme=dark] .colab-df-convert:hover {\n",
              "      background-color: #434B5C;\n",
              "      box-shadow: 0px 1px 3px 1px rgba(0, 0, 0, 0.15);\n",
              "      filter: drop-shadow(0px 1px 2px rgba(0, 0, 0, 0.3));\n",
              "      fill: #FFFFFF;\n",
              "    }\n",
              "  </style>\n",
              "\n",
              "      <script>\n",
              "        const buttonEl =\n",
              "          document.querySelector('#df-63c82ac7-05ed-4257-8500-1c843f5bb22c button.colab-df-convert');\n",
              "        buttonEl.style.display =\n",
              "          google.colab.kernel.accessAllowed ? 'block' : 'none';\n",
              "\n",
              "        async function convertToInteractive(key) {\n",
              "          const element = document.querySelector('#df-63c82ac7-05ed-4257-8500-1c843f5bb22c');\n",
              "          const dataTable =\n",
              "            await google.colab.kernel.invokeFunction('convertToInteractive',\n",
              "                                                     [key], {});\n",
              "          if (!dataTable) return;\n",
              "\n",
              "          const docLinkHtml = 'Like what you see? Visit the ' +\n",
              "            '<a target=\"_blank\" href=https://colab.research.google.com/notebooks/data_table.ipynb>data table notebook</a>'\n",
              "            + ' to learn more about interactive tables.';\n",
              "          element.innerHTML = '';\n",
              "          dataTable['output_type'] = 'display_data';\n",
              "          await google.colab.output.renderOutput(dataTable, element);\n",
              "          const docLink = document.createElement('div');\n",
              "          docLink.innerHTML = docLinkHtml;\n",
              "          element.appendChild(docLink);\n",
              "        }\n",
              "      </script>\n",
              "    </div>\n",
              "  </div>\n",
              "  "
            ]
          },
          "metadata": {},
          "execution_count": 3
        }
      ]
    },
    {
      "cell_type": "markdown",
      "source": [
        "Defining the GDA model"
      ],
      "metadata": {
        "id": "ert63ZtuKoJM"
      }
    },
    {
      "cell_type": "code",
      "source": [
        "class GDA():\n",
        "  def __init__(self):\n",
        "    self.pi = None\n",
        "    self.mu0 = None\n",
        "    self.mu1 = None\n",
        "    self.sigma = None\n",
        "  def train(self, x, y):\n",
        "    '''\n",
        "    estimate GDA parameters\n",
        "    '''\n",
        "    self.pi = np.mean(y)\n",
        "    self.mu0 = np.mean(X[y[:]==0], axis=0)\n",
        "    self.mu1 = np.mean(X[y[:]==1], axis=0)\n",
        "    \n",
        "    n_x = x[y[:] == 0] - self.mu0\n",
        "    p_x = x[y[:] == 1] - self.mu1\n",
        "    self.sigma = ((n_x.T).dot(n_x) + (p_x.T).dot(p_x))/X.shape[0]\n",
        "    self.sigma_inv = np.linalg.inv(self.sigma)\n",
        "\n",
        "  def predict(self, x):\n",
        "    '''\n",
        "    returns predictions vector\n",
        "    '''\n",
        "    p0 = np.sum(np.dot((x-self.mu0),self.sigma_inv)*(x-self.mu0),axis=1)*self.pi\n",
        "    p1 = np.sum(np.dot((x-self.mu1),self.sigma_inv)*(x-self.mu1),axis=1)*self.pi\n",
        "    return p1 >= p0\n",
        "\n",
        "  def gaussian_density(self, x, mu, sigma):\n",
        "    \"\"\"\n",
        "    Returns Gaussian density for given points\n",
        "    \"\"\"\n",
        "    n = x.shape[1]\n",
        "    diff = x - mu\n",
        "\n",
        "    return (1. / (2. * np.pi)**((n+1)/2) / np.sqrt(np.linalg.det(sigma))) *np.exp(-0.5 *np.sum(np.dot((x-mu),self.sigma_inv)*(x-mu),axis=1))"
      ],
      "metadata": {
        "id": "1U95uxlPsbhq"
      },
      "execution_count": 4,
      "outputs": []
    },
    {
      "cell_type": "markdown",
      "source": [
        "Defining X and y variables"
      ],
      "metadata": {
        "id": "MfW7Y2x0Ktpf"
      }
    },
    {
      "cell_type": "code",
      "source": [
        "X = df.iloc[:, :-1].values\n",
        "y = df.iloc[:, -1].values"
      ],
      "metadata": {
        "id": "VLFF3c65J22Q"
      },
      "execution_count": 5,
      "outputs": []
    },
    {
      "cell_type": "markdown",
      "source": [
        "Training the GDA model with the given data"
      ],
      "metadata": {
        "id": "2dDnaZDaKznQ"
      }
    },
    {
      "cell_type": "code",
      "source": [
        "gda = GDA()\n",
        "gda.train(X, y)"
      ],
      "metadata": {
        "id": "xhsf-nnQJ4xp"
      },
      "execution_count": 6,
      "outputs": []
    },
    {
      "cell_type": "markdown",
      "source": [
        "Plotting the GDA model for classifying the given data "
      ],
      "metadata": {
        "id": "WlJLpUvKK4yQ"
      }
    },
    {
      "cell_type": "code",
      "source": [
        "#scatter plotting the data \n",
        "plt.scatter(X[:, 0], X[:,1], c=y, cmap='viridis')\n",
        "x1_vals = np.linspace(X[:, 0].min() - 4, X[:, 0].max() + 4, 400)\n",
        "x2_vals = np.linspace(X[:, 1].min() - 4, X[:, 1].max() + 4, 400)\n",
        "xx1, xx2 = np.meshgrid(x1_vals, x2_vals)\n",
        "grid_points = np.c_[xx1.ravel(), xx2.ravel()]\n",
        "Z = gda.predict(grid_points)\n",
        "Z = Z.reshape(xx1.shape)\n",
        "#plotting the decision boundary \n",
        "plt.contour(xx1, xx2, Z)\n",
        "#plotting contour for class 1\n",
        "py0 = gda.gaussian_density(grid_points, gda.mu0, gda.sigma)\n",
        "py0 = py0.reshape(xx1.shape)\n",
        "contour0 = plt.contour(xx1, xx2, py0)\n",
        "#plotting contour for class 2\n",
        "py1 = gda.gaussian_density(grid_points, gda.mu1, gda.sigma)\n",
        "py1 = py1.reshape(xx2.shape)\n",
        "contour1 = plt.contour(xx1, xx2, py1)\n",
        "#plotting the gda graph \n",
        "plt.show()"
      ],
      "metadata": {
        "colab": {
          "base_uri": "https://localhost:8080/",
          "height": 430
        },
        "id": "fvSw0YwHJ9QX",
        "outputId": "f515c3c9-8234-4bc1-b33f-582c7f455315"
      },
      "execution_count": 7,
      "outputs": [
        {
          "output_type": "display_data",
          "data": {
            "text/plain": [
              "<Figure size 640x480 with 1 Axes>"
            ],
            "image/png": "[encoded data removed]"
          },
          "metadata": {}
        }
      ]
    }
  ]
}